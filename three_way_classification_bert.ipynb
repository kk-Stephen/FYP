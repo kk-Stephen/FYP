{
 "cells": [
  {
   "cell_type": "markdown",
   "id": "6b5a8ad8",
   "metadata": {
    "pycharm": {
     "name": "#%% md\n"
    }
   },
   "source": [
    "## dataset path"
   ]
  },
  {
   "cell_type": "code",
   "execution_count": 1,
   "id": "b3727717",
   "metadata": {
    "pycharm": {
     "name": "#%%\n"
    }
   },
   "outputs": [],
   "source": [
    "train_dir = 'C:/Users/ROG/OneDrive/桌面/FYP/Dataset/Train_data/train_data_after_washing.csv'\n",
    "test_dir = 'C:/Users/ROG/OneDrive/桌面/FYP/Dataset/Test_data/test_data_after_washing.csv'"
   ]
  },
  {
   "cell_type": "code",
   "execution_count": 3,
   "id": "47588aec",
   "metadata": {
    "pycharm": {
     "name": "#%%\n"
    }
   },
   "outputs": [
    {
     "ename": "ModuleNotFoundError",
     "evalue": "No module named 'optimization'",
     "output_type": "error",
     "traceback": [
      "\u001B[1;31m---------------------------------------------------------------------------\u001B[0m",
      "\u001B[1;31mModuleNotFoundError\u001B[0m                       Traceback (most recent call last)",
      "\u001B[1;32m~\\AppData\\Local\\Temp/ipykernel_12636/824304006.py\u001B[0m in \u001B[0;36m<module>\u001B[1;34m\u001B[0m\n\u001B[0;32m      5\u001B[0m \u001B[1;32mimport\u001B[0m \u001B[0mtensorflow_hub\u001B[0m \u001B[1;32mas\u001B[0m \u001B[0mhub\u001B[0m\u001B[1;33m\u001B[0m\u001B[1;33m\u001B[0m\u001B[0m\n\u001B[0;32m      6\u001B[0m \u001B[1;32mimport\u001B[0m \u001B[0mtensorflow_text\u001B[0m \u001B[1;32mas\u001B[0m \u001B[0mtext\u001B[0m\u001B[1;33m\u001B[0m\u001B[1;33m\u001B[0m\u001B[0m\n\u001B[1;32m----> 7\u001B[1;33m \u001B[1;32mimport\u001B[0m \u001B[0moptimization\u001B[0m  \u001B[1;31m# to create AdamW optimizer\u001B[0m\u001B[1;33m\u001B[0m\u001B[1;33m\u001B[0m\u001B[0m\n\u001B[0m\u001B[0;32m      8\u001B[0m \u001B[1;33m\u001B[0m\u001B[0m\n\u001B[0;32m      9\u001B[0m \u001B[1;32mimport\u001B[0m \u001B[0mmatplotlib\u001B[0m\u001B[1;33m.\u001B[0m\u001B[0mpyplot\u001B[0m \u001B[1;32mas\u001B[0m \u001B[0mplt\u001B[0m\u001B[1;33m\u001B[0m\u001B[1;33m\u001B[0m\u001B[0m\n",
      "\u001B[1;31mModuleNotFoundError\u001B[0m: No module named 'optimization'"
     ]
    }
   ],
   "source": [
    "import os\n",
    "import shutil\n",
    "\n",
    "import tensorflow as tf\n",
    "import tensorflow_hub as hub\n",
    "import tensorflow_text as text\n",
    "from official.nlp import optimization  # to create AdamW optimizer\n",
    "\n",
    "import matplotlib.pyplot as plt\n",
    "import numpy as np\n",
    "import pandas as pd\n",
    "\n",
    "tf.get_logger().setLevel('ERROR') # return ERROR messages, ignore others"
   ]
  },
  {
   "cell_type": "markdown",
   "id": "9941027f",
   "metadata": {
    "pycharm": {
     "name": "#%% md\n"
    }
   },
   "source": [
    "## One-hot"
   ]
  },
  {
   "cell_type": "code",
   "execution_count": 3,
   "id": "580c72ec",
   "metadata": {
    "pycharm": {
     "name": "#%%\n"
    }
   },
   "outputs": [],
   "source": [
    "def encode_one_hot(ori_dataframe):\n",
    "    dummies = pd.get_dummies(ori_dataframe.labels)\n",
    "    res = pd.concat([ori_dataframe, dummies], axis=1)\n",
    "    return res"
   ]
  },
  {
   "cell_type": "markdown",
   "id": "f26d5f76",
   "metadata": {
    "pycharm": {
     "name": "#%% md\n"
    }
   },
   "source": [
    "## load data"
   ]
  },
  {
   "cell_type": "code",
   "execution_count": 4,
   "id": "fe948aae",
   "metadata": {
    "pycharm": {
     "name": "#%%\n"
    }
   },
   "outputs": [],
   "source": [
    "data = pd.read_csv(train_dir)\n",
    "data = pd.DataFrame(data)\n",
    "test_data = pd.read_csv(test_dir)\n",
    "test_data = pd.DataFrame(test_data)\n",
    "train_data = pd.DataFrame()\n",
    "val_data = pd.DataFrame()\n",
    "data = data[[\"review\",\"rating\"]]\n",
    "test_data = test_data[[\"review\",\"rating\"]]"
   ]
  },
  {
   "cell_type": "code",
   "execution_count": 5,
   "id": "62a3687c",
   "metadata": {
    "pycharm": {
     "name": "#%%\n"
    }
   },
   "outputs": [
    {
     "data": {
      "text/html": [
       "<div>\n",
       "<style scoped>\n",
       "    .dataframe tbody tr th:only-of-type {\n",
       "        vertical-align: middle;\n",
       "    }\n",
       "\n",
       "    .dataframe tbody tr th {\n",
       "        vertical-align: top;\n",
       "    }\n",
       "\n",
       "    .dataframe thead th {\n",
       "        text-align: right;\n",
       "    }\n",
       "</style>\n",
       "<table border=\"1\" class=\"dataframe\">\n",
       "  <thead>\n",
       "    <tr style=\"text-align: right;\">\n",
       "      <th></th>\n",
       "      <th>review</th>\n",
       "      <th>rating</th>\n",
       "    </tr>\n",
       "  </thead>\n",
       "  <tbody>\n",
       "    <tr>\n",
       "      <th>0</th>\n",
       "      <td>\"Abilify changed my life. There is hope. I was...</td>\n",
       "      <td>10</td>\n",
       "    </tr>\n",
       "    <tr>\n",
       "      <th>1</th>\n",
       "      <td>\"I have taken anti-depressants for years, with...</td>\n",
       "      <td>10</td>\n",
       "    </tr>\n",
       "    <tr>\n",
       "      <th>2</th>\n",
       "      <td>\"I&amp;#039;ve been on every medicine under the su...</td>\n",
       "      <td>10</td>\n",
       "    </tr>\n",
       "    <tr>\n",
       "      <th>3</th>\n",
       "      <td>\"I have insomnia, it&amp;#039;s horrible. My story...</td>\n",
       "      <td>10</td>\n",
       "    </tr>\n",
       "    <tr>\n",
       "      <th>4</th>\n",
       "      <td>\"Honestly, I have been taking ativan for 2 yea...</td>\n",
       "      <td>6</td>\n",
       "    </tr>\n",
       "  </tbody>\n",
       "</table>\n",
       "</div>"
      ],
      "text/plain": [
       "                                              review  rating\n",
       "0  \"Abilify changed my life. There is hope. I was...      10\n",
       "1  \"I have taken anti-depressants for years, with...      10\n",
       "2  \"I&#039;ve been on every medicine under the su...      10\n",
       "3  \"I have insomnia, it&#039;s horrible. My story...      10\n",
       "4  \"Honestly, I have been taking ativan for 2 yea...       6"
      ]
     },
     "execution_count": 5,
     "metadata": {},
     "output_type": "execute_result"
    }
   ],
   "source": [
    "data.head()"
   ]
  },
  {
   "cell_type": "code",
   "execution_count": 5,
   "id": "b6ae7e43",
   "metadata": {
    "pycharm": {
     "name": "#%%\n"
    }
   },
   "outputs": [],
   "source": [
    "data['labels'] = data['rating'].map({1 : 1,\n",
    "                                     2 : 1,\n",
    "                                     3 : 1,\n",
    "                                     4 : 1,\n",
    "                                     5 : 2,\n",
    "                                     6 : 2,\n",
    "                                     7 : 2,\n",
    "                                     8 : 2,\n",
    "                                     9 : 3,\n",
    "                                     10 : 3})"
   ]
  },
  {
   "cell_type": "code",
   "execution_count": 6,
   "id": "83b3e56b",
   "metadata": {
    "pycharm": {
     "name": "#%%\n"
    }
   },
   "outputs": [],
   "source": [
    "test_data['labels'] = test_data['rating'].map({ 1 : 1,\n",
    "                                                2 : 1,\n",
    "                                                3 : 1,\n",
    "                                                4 : 1,\n",
    "                                                5 : 2,\n",
    "                                                6 : 2,\n",
    "                                                7 : 2,\n",
    "                                                8 : 2,\n",
    "                                                9 : 3,\n",
    "                                                10 : 3})"
   ]
  },
  {
   "cell_type": "code",
   "execution_count": 7,
   "id": "02292a0a",
   "metadata": {
    "pycharm": {
     "name": "#%%\n"
    }
   },
   "outputs": [],
   "source": [
    "data = data[[\"review\",\"labels\"]]\n",
    "test_data = test_data[[\"review\",\"labels\"]]"
   ]
  },
  {
   "cell_type": "code",
   "execution_count": 8,
   "id": "83cd7d5d",
   "metadata": {
    "pycharm": {
     "name": "#%%\n"
    }
   },
   "outputs": [
    {
     "data": {
      "text/html": [
       "<div>\n",
       "<style scoped>\n",
       "    .dataframe tbody tr th:only-of-type {\n",
       "        vertical-align: middle;\n",
       "    }\n",
       "\n",
       "    .dataframe tbody tr th {\n",
       "        vertical-align: top;\n",
       "    }\n",
       "\n",
       "    .dataframe thead th {\n",
       "        text-align: right;\n",
       "    }\n",
       "</style>\n",
       "<table border=\"1\" class=\"dataframe\">\n",
       "  <thead>\n",
       "    <tr style=\"text-align: right;\">\n",
       "      <th></th>\n",
       "      <th>review</th>\n",
       "      <th>labels</th>\n",
       "    </tr>\n",
       "  </thead>\n",
       "  <tbody>\n",
       "    <tr>\n",
       "      <th>0</th>\n",
       "      <td>\"Abilify changed my life. There is hope. I was...</td>\n",
       "      <td>3</td>\n",
       "    </tr>\n",
       "    <tr>\n",
       "      <th>1</th>\n",
       "      <td>\"I have taken anti-depressants for years, with...</td>\n",
       "      <td>3</td>\n",
       "    </tr>\n",
       "    <tr>\n",
       "      <th>2</th>\n",
       "      <td>\"I&amp;#039;ve been on every medicine under the su...</td>\n",
       "      <td>3</td>\n",
       "    </tr>\n",
       "    <tr>\n",
       "      <th>3</th>\n",
       "      <td>\"I have insomnia, it&amp;#039;s horrible. My story...</td>\n",
       "      <td>3</td>\n",
       "    </tr>\n",
       "    <tr>\n",
       "      <th>4</th>\n",
       "      <td>\"Honestly, I have been taking ativan for 2 yea...</td>\n",
       "      <td>2</td>\n",
       "    </tr>\n",
       "  </tbody>\n",
       "</table>\n",
       "</div>"
      ],
      "text/plain": [
       "                                              review  labels\n",
       "0  \"Abilify changed my life. There is hope. I was...       3\n",
       "1  \"I have taken anti-depressants for years, with...       3\n",
       "2  \"I&#039;ve been on every medicine under the su...       3\n",
       "3  \"I have insomnia, it&#039;s horrible. My story...       3\n",
       "4  \"Honestly, I have been taking ativan for 2 yea...       2"
      ]
     },
     "execution_count": 8,
     "metadata": {},
     "output_type": "execute_result"
    }
   ],
   "source": [
    "data.head()"
   ]
  },
  {
   "cell_type": "markdown",
   "id": "0ccb6e10",
   "metadata": {
    "pycharm": {
     "name": "#%% md\n"
    }
   },
   "source": [
    "## step sampling"
   ]
  },
  {
   "cell_type": "code",
   "execution_count": 8,
   "id": "a5a32686",
   "metadata": {
    "pycharm": {
     "name": "#%%\n"
    }
   },
   "outputs": [],
   "source": [
    "for i in range(1,4):\n",
    "    condition = data['labels'] == i\n",
    "    subset = data[condition].sample(frac=0.3)\n",
    "    val_data = pd.concat([subset, val_data])\n",
    "\n",
    "train_data = data [~data.index.isin(val_data.index)]"
   ]
  },
  {
   "cell_type": "code",
   "execution_count": 10,
   "id": "689dd9a5",
   "metadata": {
    "pycharm": {
     "name": "#%%\n"
    }
   },
   "outputs": [
    {
     "data": {
      "text/html": [
       "<div>\n",
       "<style scoped>\n",
       "    .dataframe tbody tr th:only-of-type {\n",
       "        vertical-align: middle;\n",
       "    }\n",
       "\n",
       "    .dataframe tbody tr th {\n",
       "        vertical-align: top;\n",
       "    }\n",
       "\n",
       "    .dataframe thead th {\n",
       "        text-align: right;\n",
       "    }\n",
       "</style>\n",
       "<table border=\"1\" class=\"dataframe\">\n",
       "  <thead>\n",
       "    <tr style=\"text-align: right;\">\n",
       "      <th></th>\n",
       "      <th>review</th>\n",
       "      <th>labels</th>\n",
       "    </tr>\n",
       "  </thead>\n",
       "  <tbody>\n",
       "    <tr>\n",
       "      <th>3800</th>\n",
       "      <td>\"After divorcing my wife of 8 years, and all t...</td>\n",
       "      <td>3</td>\n",
       "    </tr>\n",
       "    <tr>\n",
       "      <th>17415</th>\n",
       "      <td>\"After being diagnosed as bipolar from an exce...</td>\n",
       "      <td>3</td>\n",
       "    </tr>\n",
       "    <tr>\n",
       "      <th>5833</th>\n",
       "      <td>\"I&amp;#039;ve been living with extreme anxiety, q...</td>\n",
       "      <td>3</td>\n",
       "    </tr>\n",
       "    <tr>\n",
       "      <th>16926</th>\n",
       "      <td>\"Started on 20mg about two weeks ago.. anger a...</td>\n",
       "      <td>3</td>\n",
       "    </tr>\n",
       "    <tr>\n",
       "      <th>16072</th>\n",
       "      <td>\"One day, out of the blue, I felt lightheaded ...</td>\n",
       "      <td>3</td>\n",
       "    </tr>\n",
       "    <tr>\n",
       "      <th>...</th>\n",
       "      <td>...</td>\n",
       "      <td>...</td>\n",
       "    </tr>\n",
       "    <tr>\n",
       "      <th>4943</th>\n",
       "      <td>\"After years of being on depression medication...</td>\n",
       "      <td>1</td>\n",
       "    </tr>\n",
       "    <tr>\n",
       "      <th>22626</th>\n",
       "      <td>\"Took Viibryd for MDD. Had bad symptoms if I w...</td>\n",
       "      <td>1</td>\n",
       "    </tr>\n",
       "    <tr>\n",
       "      <th>31073</th>\n",
       "      <td>\"Itchy beyond belief!\"</td>\n",
       "      <td>1</td>\n",
       "    </tr>\n",
       "    <tr>\n",
       "      <th>8502</th>\n",
       "      <td>\"Many side effects.  I have been trying to wee...</td>\n",
       "      <td>1</td>\n",
       "    </tr>\n",
       "    <tr>\n",
       "      <th>866</th>\n",
       "      <td>\"Caused restless leg syndrome.\"</td>\n",
       "      <td>1</td>\n",
       "    </tr>\n",
       "  </tbody>\n",
       "</table>\n",
       "<p>9425 rows × 2 columns</p>\n",
       "</div>"
      ],
      "text/plain": [
       "                                                  review  labels\n",
       "3800   \"After divorcing my wife of 8 years, and all t...       3\n",
       "17415  \"After being diagnosed as bipolar from an exce...       3\n",
       "5833   \"I&#039;ve been living with extreme anxiety, q...       3\n",
       "16926  \"Started on 20mg about two weeks ago.. anger a...       3\n",
       "16072  \"One day, out of the blue, I felt lightheaded ...       3\n",
       "...                                                  ...     ...\n",
       "4943   \"After years of being on depression medication...       1\n",
       "22626  \"Took Viibryd for MDD. Had bad symptoms if I w...       1\n",
       "31073                             \"Itchy beyond belief!\"       1\n",
       "8502   \"Many side effects.  I have been trying to wee...       1\n",
       "866                      \"Caused restless leg syndrome.\"       1\n",
       "\n",
       "[9425 rows x 2 columns]"
      ]
     },
     "execution_count": 10,
     "metadata": {},
     "output_type": "execute_result"
    }
   ],
   "source": [
    "val_data"
   ]
  },
  {
   "cell_type": "code",
   "execution_count": 11,
   "id": "6a305c18",
   "metadata": {
    "pycharm": {
     "name": "#%%\n"
    }
   },
   "outputs": [
    {
     "data": {
      "text/html": [
       "<div>\n",
       "<style scoped>\n",
       "    .dataframe tbody tr th:only-of-type {\n",
       "        vertical-align: middle;\n",
       "    }\n",
       "\n",
       "    .dataframe tbody tr th {\n",
       "        vertical-align: top;\n",
       "    }\n",
       "\n",
       "    .dataframe thead th {\n",
       "        text-align: right;\n",
       "    }\n",
       "</style>\n",
       "<table border=\"1\" class=\"dataframe\">\n",
       "  <thead>\n",
       "    <tr style=\"text-align: right;\">\n",
       "      <th></th>\n",
       "      <th>review</th>\n",
       "      <th>labels</th>\n",
       "    </tr>\n",
       "  </thead>\n",
       "  <tbody>\n",
       "    <tr>\n",
       "      <th>2</th>\n",
       "      <td>\"I&amp;#039;ve been on every medicine under the su...</td>\n",
       "      <td>3</td>\n",
       "    </tr>\n",
       "    <tr>\n",
       "      <th>3</th>\n",
       "      <td>\"I have insomnia, it&amp;#039;s horrible. My story...</td>\n",
       "      <td>3</td>\n",
       "    </tr>\n",
       "    <tr>\n",
       "      <th>4</th>\n",
       "      <td>\"Honestly, I have been taking ativan for 2 yea...</td>\n",
       "      <td>2</td>\n",
       "    </tr>\n",
       "    <tr>\n",
       "      <th>5</th>\n",
       "      <td>\"1 week on Zoloft for anxiety and mood swings....</td>\n",
       "      <td>2</td>\n",
       "    </tr>\n",
       "    <tr>\n",
       "      <th>8</th>\n",
       "      <td>\"my gp started me on Venlafaxine yesterday to ...</td>\n",
       "      <td>1</td>\n",
       "    </tr>\n",
       "    <tr>\n",
       "      <th>...</th>\n",
       "      <td>...</td>\n",
       "      <td>...</td>\n",
       "    </tr>\n",
       "    <tr>\n",
       "      <th>31409</th>\n",
       "      <td>\"Zolpidem does work fast. However, I have a ri...</td>\n",
       "      <td>2</td>\n",
       "    </tr>\n",
       "    <tr>\n",
       "      <th>31410</th>\n",
       "      <td>\"I have been taking Cymbalta for 15 months now...</td>\n",
       "      <td>3</td>\n",
       "    </tr>\n",
       "    <tr>\n",
       "      <th>31411</th>\n",
       "      <td>\"About 4 years ago I started having early-morn...</td>\n",
       "      <td>2</td>\n",
       "    </tr>\n",
       "    <tr>\n",
       "      <th>31412</th>\n",
       "      <td>\"I started taking this medication 10 years ago...</td>\n",
       "      <td>3</td>\n",
       "    </tr>\n",
       "    <tr>\n",
       "      <th>31414</th>\n",
       "      <td>\"I was in a very bad place at the time I start...</td>\n",
       "      <td>1</td>\n",
       "    </tr>\n",
       "  </tbody>\n",
       "</table>\n",
       "<p>21994 rows × 2 columns</p>\n",
       "</div>"
      ],
      "text/plain": [
       "                                                  review  labels\n",
       "2      \"I&#039;ve been on every medicine under the su...       3\n",
       "3      \"I have insomnia, it&#039;s horrible. My story...       3\n",
       "4      \"Honestly, I have been taking ativan for 2 yea...       2\n",
       "5      \"1 week on Zoloft for anxiety and mood swings....       2\n",
       "8      \"my gp started me on Venlafaxine yesterday to ...       1\n",
       "...                                                  ...     ...\n",
       "31409  \"Zolpidem does work fast. However, I have a ri...       2\n",
       "31410  \"I have been taking Cymbalta for 15 months now...       3\n",
       "31411  \"About 4 years ago I started having early-morn...       2\n",
       "31412  \"I started taking this medication 10 years ago...       3\n",
       "31414  \"I was in a very bad place at the time I start...       1\n",
       "\n",
       "[21994 rows x 2 columns]"
      ]
     },
     "execution_count": 11,
     "metadata": {},
     "output_type": "execute_result"
    }
   ],
   "source": [
    "train_data"
   ]
  },
  {
   "cell_type": "code",
   "execution_count": 13,
   "id": "359559e5",
   "metadata": {
    "pycharm": {
     "name": "#%%\n"
    }
   },
   "outputs": [
    {
     "data": {
      "image/png": "[encoded data removed]",
      "text/plain": [
       "<Figure size 576x576 with 1 Axes>"
      ]
     },
     "metadata": {},
     "output_type": "display_data"
    }
   ],
   "source": [
    "labels = ['3','2','1']\n",
    "train_data['labels'].value_counts().plot.pie(figsize=(8,8),title=\"Distribution of reviews per sentiment in train dataset\",labels=labels,autopct='%.2f%%')\n",
    "plt.legend(labels)\n",
    "plt.gca().set_aspect('equal')"
   ]
  },
  {
   "cell_type": "markdown",
   "id": "9521a95f",
   "metadata": {
    "pycharm": {
     "name": "#%% md\n"
    }
   },
   "source": [
    "## change labels to one-hot"
   ]
  },
  {
   "cell_type": "code",
   "execution_count": 9,
   "id": "a3974b04",
   "metadata": {
    "pycharm": {
     "name": "#%%\n"
    }
   },
   "outputs": [],
   "source": [
    "train_data = encode_one_hot(train_data)\n",
    "val_data = encode_one_hot(val_data)\n",
    "test_data = encode_one_hot(test_data)\n",
    "train_target = train_data[[1,2,3]]\n",
    "val_target = val_data[[1,2,3]]\n",
    "test_target = test_data[[1,2,3]]"
   ]
  },
  {
   "cell_type": "code",
   "execution_count": 13,
   "id": "b8c57c7f",
   "metadata": {
    "pycharm": {
     "name": "#%%\n"
    }
   },
   "outputs": [
    {
     "data": {
      "text/html": [
       "<div>\n",
       "<style scoped>\n",
       "    .dataframe tbody tr th:only-of-type {\n",
       "        vertical-align: middle;\n",
       "    }\n",
       "\n",
       "    .dataframe tbody tr th {\n",
       "        vertical-align: top;\n",
       "    }\n",
       "\n",
       "    .dataframe thead th {\n",
       "        text-align: right;\n",
       "    }\n",
       "</style>\n",
       "<table border=\"1\" class=\"dataframe\">\n",
       "  <thead>\n",
       "    <tr style=\"text-align: right;\">\n",
       "      <th></th>\n",
       "      <th>1</th>\n",
       "      <th>2</th>\n",
       "      <th>3</th>\n",
       "    </tr>\n",
       "  </thead>\n",
       "  <tbody>\n",
       "    <tr>\n",
       "      <th>2</th>\n",
       "      <td>0</td>\n",
       "      <td>0</td>\n",
       "      <td>1</td>\n",
       "    </tr>\n",
       "    <tr>\n",
       "      <th>3</th>\n",
       "      <td>0</td>\n",
       "      <td>0</td>\n",
       "      <td>1</td>\n",
       "    </tr>\n",
       "    <tr>\n",
       "      <th>4</th>\n",
       "      <td>0</td>\n",
       "      <td>1</td>\n",
       "      <td>0</td>\n",
       "    </tr>\n",
       "    <tr>\n",
       "      <th>5</th>\n",
       "      <td>0</td>\n",
       "      <td>1</td>\n",
       "      <td>0</td>\n",
       "    </tr>\n",
       "    <tr>\n",
       "      <th>8</th>\n",
       "      <td>1</td>\n",
       "      <td>0</td>\n",
       "      <td>0</td>\n",
       "    </tr>\n",
       "    <tr>\n",
       "      <th>...</th>\n",
       "      <td>...</td>\n",
       "      <td>...</td>\n",
       "      <td>...</td>\n",
       "    </tr>\n",
       "    <tr>\n",
       "      <th>31409</th>\n",
       "      <td>0</td>\n",
       "      <td>1</td>\n",
       "      <td>0</td>\n",
       "    </tr>\n",
       "    <tr>\n",
       "      <th>31410</th>\n",
       "      <td>0</td>\n",
       "      <td>0</td>\n",
       "      <td>1</td>\n",
       "    </tr>\n",
       "    <tr>\n",
       "      <th>31411</th>\n",
       "      <td>0</td>\n",
       "      <td>1</td>\n",
       "      <td>0</td>\n",
       "    </tr>\n",
       "    <tr>\n",
       "      <th>31412</th>\n",
       "      <td>0</td>\n",
       "      <td>0</td>\n",
       "      <td>1</td>\n",
       "    </tr>\n",
       "    <tr>\n",
       "      <th>31414</th>\n",
       "      <td>1</td>\n",
       "      <td>0</td>\n",
       "      <td>0</td>\n",
       "    </tr>\n",
       "  </tbody>\n",
       "</table>\n",
       "<p>21994 rows × 3 columns</p>\n",
       "</div>"
      ],
      "text/plain": [
       "       1  2  3\n",
       "2      0  0  1\n",
       "3      0  0  1\n",
       "4      0  1  0\n",
       "5      0  1  0\n",
       "8      1  0  0\n",
       "...   .. .. ..\n",
       "31409  0  1  0\n",
       "31410  0  0  1\n",
       "31411  0  1  0\n",
       "31412  0  0  1\n",
       "31414  1  0  0\n",
       "\n",
       "[21994 rows x 3 columns]"
      ]
     },
     "execution_count": 13,
     "metadata": {},
     "output_type": "execute_result"
    }
   ],
   "source": [
    "train_target"
   ]
  },
  {
   "cell_type": "markdown",
   "id": "279dfea6",
   "metadata": {
    "pycharm": {
     "name": "#%% md\n"
    }
   },
   "source": [
    "## from datraframes to numpy "
   ]
  },
  {
   "cell_type": "code",
   "execution_count": 10,
   "id": "139af82f",
   "metadata": {
    "pycharm": {
     "name": "#%%\n"
    }
   },
   "outputs": [],
   "source": [
    "x_train = train_data[\"review\"].to_numpy()\n",
    "y_train = train_target.to_numpy()\n",
    "x_val = val_data[\"review\"].to_numpy()\n",
    "y_val = val_target.to_numpy()\n",
    "x_test = test_data[\"review\"].to_numpy()\n",
    "y_test = test_target.to_numpy()"
   ]
  },
  {
   "cell_type": "code",
   "execution_count": 15,
   "id": "acb58607",
   "metadata": {
    "pycharm": {
     "name": "#%%\n"
    }
   },
   "outputs": [
    {
     "data": {
      "text/plain": [
       "array([[0, 0, 1],\n",
       "       [0, 0, 1],\n",
       "       [0, 1, 0],\n",
       "       ...,\n",
       "       [0, 1, 0],\n",
       "       [0, 0, 1],\n",
       "       [1, 0, 0]], dtype=uint8)"
      ]
     },
     "execution_count": 15,
     "metadata": {},
     "output_type": "execute_result"
    }
   ],
   "source": [
    "y_train"
   ]
  },
  {
   "cell_type": "code",
   "execution_count": 16,
   "id": "07014acf",
   "metadata": {
    "pycharm": {
     "name": "#%%\n"
    }
   },
   "outputs": [
    {
     "data": {
      "text/plain": [
       "array(['\"I&#039;ve been on every medicine under the sun (it seems) to manage the hypomania / mania of Bipolar2. Within a few days of starting Lamictal (was on Tegretol) it was as if someone had turned a light on in my head. Is this the way &quot;normal&quot; people think? was one of the first things that struck me. I sleep like a log, have no irritability, almost no anger (other than what would be considered normal). I am able to focus and my creative, impulsive thoughts have decreased enough to be manageable. It&#039;s a God send as I would perennially be in a state of hypo mania, which sounds great, but I was physically and emotionally exhausted. My libido is markedly lower but I wonder if that is perhaps an effect of not being hypo manic. I take 20 mg for anxiety.\"',\n",
       "       '\"I have insomnia, it&#039;s horrible. My story begins with my PCP prescribing me Prozac to help with intestinal issues, because I was desperate I tried it, I was on it for 3 weeks. Stopped because of insomnia. Then I was prescribed Ativan, it out me out, but was very addicting. I had rebound insomnia. Then after about 14 days I hardly any sleep l tried the doctor one more time. I asked him about Trazadone. He told me that was a good medication for insomnia. He put me on 25 mgs, but stated I may have to figure out what dosage is best for me. I am currently taking 100 mgs, which is on the low range of what is prescribed, 400 mgs being at the high end for insomnia. I have the dry mouth and nasel congestion. I can live with that, I sleep now, yeah...\"',\n",
       "       '\"Honestly, I have been taking ativan for 2 years now 1mg twice daily.  It does help but it should be used as a tool for panic attacks NOT A SOLUTION.  I have tried so many anti-depressants as well such as cymbalta, cipralex and a couple more.  The best thing is to talk to close friends and family or even a psychiatrist.  talking to people and venting is honestly the best thing you can do for yourself even though it takes a lot of will power to do it.  I would love to hear other people opinion.\"',\n",
       "       ...,\n",
       "       '\"About 4 years ago I started having early-morning awakening/insomnia/anxiety after excessive alcohol consumption the night before. Discovered that I could prevent this by taking diazepam my wife had lying around. When this ran out my GP prescribed lorazepam 0.5 mg. Gradually this lost effectiveness (tolerance) so I quit, also cut down on alcohol. A year ago I had a stressful situation and started 0.5 mg daily for a month, but was able to stop again with no side effects. However, my early-morning awakening/insomnia/anxiety had become chronic and independent of alcohol. A month ago I started 0.5 mg daily for 10 days, had a severe withdrawal, had to taper off. So, yes, like others wrote here: it works great, but not for chronic use.\"',\n",
       "       '\"I started taking this medication 10 years ago. My doctor told me it was non-narcotic and non-habit forming.  Up to that time I had never had any addictions to drugs or alcohol, but unfortunately I am dependent on this drug for sleep.  It does however work very well with few side effects and I wake up feeling refreshed.  \"',\n",
       "       '\"I was in a very bad place at the time I started taking it. My doctor wanted to ween me off of Effexor after 7 years of 300mg of it. I&#039;ll tell you coming off the Effexor is like coming off hard drugs like heroine! I&#039;m not sure if the Zeldox (what they call geodon in Canada) was helping or making it worse. I officially got off the effexor after 10 weeks of weening and I&#039;m still currently on 80mg of Zeldox. I will say you have to eat with this med or else you&#039;re really only giving your body half of what you&#039;re putting in it. I&#039;m a week into lithium at 600mg. I&#039;m feeling fantastic, but I&#039;m thinking about weening off of the Zeldox, I do not believe its being effective and I&#039;m just getting negative side effects from it.\"'],\n",
       "      dtype=object)"
      ]
     },
     "execution_count": 16,
     "metadata": {},
     "output_type": "execute_result"
    }
   ],
   "source": [
    "x_train"
   ]
  },
  {
   "cell_type": "markdown",
   "id": "219ade62",
   "metadata": {
    "pycharm": {
     "name": "#%% md\n"
    }
   },
   "source": [
    "## load bert preprocess and encoder"
   ]
  },
  {
   "cell_type": "code",
   "execution_count": 11,
   "id": "d1af1ab2",
   "metadata": {
    "pycharm": {
     "name": "#%%\n"
    }
   },
   "outputs": [],
   "source": [
    "tfhub_handle_encoder = 'https://tfhub.dev/tensorflow/albert_en_base/2'\n",
    "tfhub_handle_preprocess = 'https://tfhub.dev/tensorflow/albert_en_preprocess/3'"
   ]
  },
  {
   "cell_type": "code",
   "execution_count": 12,
   "id": "4bce6e1b",
   "metadata": {
    "pycharm": {
     "name": "#%%\n"
    }
   },
   "outputs": [],
   "source": [
    "bert_preprocess_model = hub.KerasLayer(tfhub_handle_preprocess)"
   ]
  },
  {
   "cell_type": "code",
   "execution_count": 13,
   "id": "76e30f4b",
   "metadata": {
    "pycharm": {
     "name": "#%%\n"
    }
   },
   "outputs": [],
   "source": [
    "bert_model = hub.KerasLayer(tfhub_handle_encoder)"
   ]
  },
  {
   "cell_type": "markdown",
   "id": "a3dcf233",
   "metadata": {
    "pycharm": {
     "name": "#%% md\n"
    }
   },
   "source": [
    "## define model"
   ]
  },
  {
   "cell_type": "code",
   "execution_count": 14,
   "id": "f6c1b742",
   "metadata": {
    "pycharm": {
     "name": "#%%\n"
    }
   },
   "outputs": [],
   "source": [
    "def build_classifier_model():\n",
    "    text_input = tf.keras.layers.Input(shape=(), dtype=tf.string, name='text')\n",
    "    preprocessing_layer = hub.KerasLayer(tfhub_handle_preprocess, name='preprocessing')\n",
    "    encoder_inputs = preprocessing_layer(text_input)\n",
    "    encoder = hub.KerasLayer(tfhub_handle_encoder, trainable=True, name='BERT_encoder')\n",
    "    outputs = encoder(encoder_inputs)\n",
    "    net = outputs['pooled_output']\n",
    "    net = tf.keras.layers.Dropout(0.1)(net)\n",
    "    net = tf.keras.layers.Dense(3, activation='softmax', name='classifier')(net)\n",
    "    return tf.keras.Model(text_input, net)"
   ]
  },
  {
   "cell_type": "code",
   "execution_count": 29,
   "id": "a65906c9",
   "metadata": {
    "pycharm": {
     "name": "#%%\n"
    }
   },
   "outputs": [],
   "source": [
    "classifier_model = build_classifier_model()"
   ]
  },
  {
   "cell_type": "code",
   "execution_count": 24,
   "id": "9251f04b",
   "metadata": {
    "pycharm": {
     "name": "#%%\n"
    }
   },
   "outputs": [
    {
     "name": "stdout",
     "output_type": "stream",
     "text": [
      "Model: \"model\"\n",
      "__________________________________________________________________________________________________\n",
      " Layer (type)                   Output Shape         Param #     Connected to                     \n",
      "==================================================================================================\n",
      " text (InputLayer)              [(None,)]            0           []                               \n",
      "                                                                                                  \n",
      " preprocessing (KerasLayer)     {'input_mask': (Non  0           ['text[0][0]']                   \n",
      "                                e, 128),                                                          \n",
      "                                 'input_type_ids':                                                \n",
      "                                (None, 128),                                                      \n",
      "                                 'input_word_ids':                                                \n",
      "                                (None, 128)}                                                      \n",
      "                                                                                                  \n",
      " BERT_encoder (KerasLayer)      {'default': (None,   11683584    ['preprocessing[0][0]',          \n",
      "                                768),                             'preprocessing[0][1]',          \n",
      "                                 'encoder_outputs':               'preprocessing[0][2]']          \n",
      "                                 [(None, 128, 768),                                               \n",
      "                                 (None, 128, 768),                                                \n",
      "                                 (None, 128, 768),                                                \n",
      "                                 (None, 128, 768),                                                \n",
      "                                 (None, 128, 768),                                                \n",
      "                                 (None, 128, 768),                                                \n",
      "                                 (None, 128, 768),                                                \n",
      "                                 (None, 128, 768),                                                \n",
      "                                 (None, 128, 768),                                                \n",
      "                                 (None, 128, 768),                                                \n",
      "                                 (None, 128, 768),                                                \n",
      "                                 (None, 128, 768)],                                               \n",
      "                                 'pooled_output': (                                               \n",
      "                                None, 768),                                                       \n",
      "                                 'sequence_output':                                               \n",
      "                                 (None, 128, 768)}                                                \n",
      "                                                                                                  \n",
      " dropout (Dropout)              (None, 768)          0           ['BERT_encoder[0][13]']          \n",
      "                                                                                                  \n",
      " classifier (Dense)             (None, 3)            2307        ['dropout[0][0]']                \n",
      "                                                                                                  \n",
      "==================================================================================================\n",
      "Total params: 11,685,891\n",
      "Trainable params: 11,685,891\n",
      "Non-trainable params: 0\n",
      "__________________________________________________________________________________________________\n"
     ]
    }
   ],
   "source": [
    "classifier_model.summary()"
   ]
  },
  {
   "cell_type": "markdown",
   "id": "3861cf82",
   "metadata": {
    "pycharm": {
     "name": "#%% md\n"
    }
   },
   "source": [
    "## define loss and metrics"
   ]
  },
  {
   "cell_type": "code",
   "execution_count": 25,
   "id": "7046deb2",
   "metadata": {
    "pycharm": {
     "name": "#%%\n"
    }
   },
   "outputs": [],
   "source": [
    "#metrics = tf.keras.metrics.CategoricalAccuracy()"
   ]
  },
  {
   "cell_type": "code",
   "execution_count": 30,
   "id": "54f4b777",
   "metadata": {
    "pycharm": {
     "name": "#%%\n"
    }
   },
   "outputs": [],
   "source": [
    "def flood_loss(y_true,y_pred):\n",
    "    alpha = tf.constant([[2],[4],[3]], dtype=tf.float32) #adjust weight for each label\n",
    "    gamma = 0.25\n",
    "    epsilon = 1.e-7\n",
    "    y_true = tf.cast(y_true, tf.float32)\n",
    "    y_pred = tf.clip_by_value(y_pred, epsilon, 1. - epsilon)\n",
    "    y_t = tf.multiply(y_true, y_pred) + tf.multiply(1-y_true, 1-y_pred)\n",
    "    ce = -tf.math.log(y_t)\n",
    "    weight = tf.pow(tf.subtract(1., y_t), gamma)\n",
    "    fl = tf.matmul(tf.multiply(weight, ce), alpha)\n",
    "    loss = tf.reduce_mean(fl)\n",
    "    loss = tf.abs(loss-0.22) + 0.22\n",
    "    loss = tf.convert_to_tensor(loss)\n",
    "    return loss\n",
    "#metrics = tf.keras.metrics.Recall()"
   ]
  },
  {
   "cell_type": "markdown",
   "id": "132a283a",
   "metadata": {
    "pycharm": {
     "name": "#%% md\n"
    }
   },
   "source": [
    "## define learning rate, optimizer"
   ]
  },
  {
   "cell_type": "code",
   "execution_count": 31,
   "id": "d2ec2b22",
   "metadata": {
    "pycharm": {
     "name": "#%%\n"
    }
   },
   "outputs": [],
   "source": [
    "epochs = 150\n",
    "steps_per_epoch = 0\n",
    "for _ in x_train:\n",
    "    steps_per_epoch = steps_per_epoch + 1\n",
    "num_train_steps = steps_per_epoch/8 * epochs\n",
    "num_warmup_steps = int(0.1*num_train_steps)\n",
    "\n",
    "init_lr = 3e-6\n",
    "optimizer = optimization.create_optimizer(init_lr=init_lr,\n",
    "                                          num_train_steps=num_train_steps,\n",
    "                                          num_warmup_steps=num_warmup_steps,\n",
    "                                          optimizer_type='adamw')"
   ]
  },
  {
   "cell_type": "code",
   "execution_count": 32,
   "id": "51ddfb9a",
   "metadata": {
    "pycharm": {
     "name": "#%%\n"
    }
   },
   "outputs": [],
   "source": [
    "classifier_model.compile(optimizer=optimizer,\n",
    "                         loss=flood_loss,\n",
    "                         metrics=[\"accuracy\", tf.keras.metrics.Recall(name='recall')])"
   ]
  },
  {
   "cell_type": "markdown",
   "id": "e610e082",
   "metadata": {
    "pycharm": {
     "name": "#%% md\n"
    }
   },
   "source": [
    "## checkpoint, traing recoords and early stopping"
   ]
  },
  {
   "cell_type": "code",
   "execution_count": 33,
   "id": "8f532e36",
   "metadata": {
    "pycharm": {
     "name": "#%%\n"
    }
   },
   "outputs": [],
   "source": [
    "checkpoint_path = 'C:/Users/ROG/OneDrive/桌面/FYP/Model/three_way_bert/ckpt/cp.ckpt'\n",
    "cp_callback = tf.keras.callbacks.ModelCheckpoint(checkpoint_path,\n",
    "                                                 save_weights_only=True,\n",
    "                                                 verbose=1)"
   ]
  },
  {
   "cell_type": "code",
   "execution_count": 34,
   "id": "c052f128",
   "metadata": {
    "pycharm": {
     "name": "#%%\n"
    }
   },
   "outputs": [],
   "source": [
    "csv_callback = tf.keras.callbacks.CSVLogger(\n",
    "    'C:/Users/ROG/OneDrive/桌面/FYP/Model/three_way_bert/record.csv', separator=',', append=False\n",
    ")"
   ]
  },
  {
   "cell_type": "code",
   "execution_count": 31,
   "id": "1233cf8b",
   "metadata": {
    "pycharm": {
     "name": "#%%\n"
    }
   },
   "outputs": [],
   "source": [
    "es_callback = tf.keras.callbacks.EarlyStopping(monitor='val_categorical_accuracy', \n",
    "                                               patience=15)"
   ]
  },
  {
   "cell_type": "markdown",
   "id": "9b8ae878",
   "metadata": {
    "pycharm": {
     "name": "#%% md\n"
    }
   },
   "source": [
    "## model reload"
   ]
  },
  {
   "cell_type": "code",
   "execution_count": 19,
   "id": "21edfc26",
   "metadata": {
    "pycharm": {
     "name": "#%%\n"
    }
   },
   "outputs": [
    {
     "data": {
      "text/plain": [
       "<tensorflow.python.training.tracking.util.CheckpointLoadStatus at 0x24f9974ac10>"
      ]
     },
     "execution_count": 19,
     "metadata": {},
     "output_type": "execute_result"
    }
   ],
   "source": [
    "classifier_model.load_weights('C:/Users/15972/OneDrive/桌面/FYP/Model/three_way_bert/ckpt/cp.ckpt')"
   ]
  },
  {
   "cell_type": "markdown",
   "id": "9bc32e82",
   "metadata": {
    "pycharm": {
     "name": "#%% md\n"
    }
   },
   "source": [
    "## training and evaluate"
   ]
  },
  {
   "cell_type": "code",
   "execution_count": null,
   "id": "4a245727",
   "metadata": {
    "pycharm": {
     "name": "#%%\n"
    }
   },
   "outputs": [
    {
     "name": "stdout",
     "output_type": "stream",
     "text": [
      "Training model with https://tfhub.dev/tensorflow/albert_en_base/2\n",
      "Training model with https://tfhub.dev/tensorflow/albert_en_base/2\n",
      "Epoch 1/150\n",
      "2750/2750 [==============================] - ETA: 0s - loss: 4.9446 - accuracy: 0.4603 - recall: 0.2724\n",
      "Epoch 1: saving model to C:/Users/15972/OneDrive/桌面/FYP/Model/three_way_bert/ckpt\\cp.ckpt\n",
      "2750/2750 [==============================] - 1009s 361ms/step - loss: 4.9446 - accuracy: 0.4603 - recall: 0.2724 - val_loss: 4.5545 - val_accuracy: 0.5177 - val_recall: 0.2667\n",
      "Epoch 2/150\n",
      "2750/2750 [==============================] - ETA: 0s - loss: 4.3608 - accuracy: 0.5496 - recall: 0.3611\n",
      "Epoch 2: saving model to C:/Users/15972/OneDrive/桌面/FYP/Model/three_way_bert/ckpt\\cp.ckpt\n",
      "2750/2750 [==============================] - 1046s 380ms/step - loss: 4.3608 - accuracy: 0.5496 - recall: 0.3611 - val_loss: 3.7543 - val_accuracy: 0.6450 - val_recall: 0.4933\n",
      "Epoch 3/150\n",
      "2750/2750 [==============================] - ETA: 0s - loss: 3.6575 - accuracy: 0.6629 - recall: 0.5712\n",
      "Epoch 3: saving model to C:/Users/15972/OneDrive/桌面/FYP/Model/three_way_bert/ckpt\\cp.ckpt\n",
      "2750/2750 [==============================] - 979s 356ms/step - loss: 3.6575 - accuracy: 0.6629 - recall: 0.5712 - val_loss: 3.3528 - val_accuracy: 0.7006 - val_recall: 0.6312\n",
      "Epoch 4/150\n",
      "2750/2750 [==============================] - ETA: 0s - loss: 3.3068 - accuracy: 0.7112 - recall: 0.6570\n",
      "Epoch 4: saving model to C:/Users/15972/OneDrive/桌面/FYP/Model/three_way_bert/ckpt\\cp.ckpt\n",
      "2750/2750 [==============================] - 900s 327ms/step - loss: 3.3068 - accuracy: 0.7112 - recall: 0.6570 - val_loss: 3.3311 - val_accuracy: 0.7164 - val_recall: 0.6787\n",
      "Epoch 5/150\n",
      "2750/2750 [==============================] - ETA: 0s - loss: 2.9979 - accuracy: 0.7513 - recall: 0.7148\n",
      "Epoch 5: saving model to C:/Users/15972/OneDrive/桌面/FYP/Model/three_way_bert/ckpt\\cp.ckpt\n",
      "2750/2750 [==============================] - 905s 329ms/step - loss: 2.9979 - accuracy: 0.7513 - recall: 0.7148 - val_loss: 3.2528 - val_accuracy: 0.7176 - val_recall: 0.6931\n",
      "Epoch 6/150\n",
      "2750/2750 [==============================] - ETA: 0s - loss: 2.7081 - accuracy: 0.7894 - recall: 0.7639\n",
      "Epoch 6: saving model to C:/Users/15972/OneDrive/桌面/FYP/Model/three_way_bert/ckpt\\cp.ckpt\n",
      "2750/2750 [==============================] - 903s 328ms/step - loss: 2.7081 - accuracy: 0.7894 - recall: 0.7639 - val_loss: 3.1706 - val_accuracy: 0.7413 - val_recall: 0.7223\n",
      "Epoch 7/150\n",
      "2750/2750 [==============================] - ETA: 0s - loss: 2.3996 - accuracy: 0.8215 - recall: 0.8028\n",
      "Epoch 7: saving model to C:/Users/15972/OneDrive/桌面/FYP/Model/three_way_bert/ckpt\\cp.ckpt\n",
      "2750/2750 [==============================] - 901s 328ms/step - loss: 2.3996 - accuracy: 0.8215 - recall: 0.8028 - val_loss: 3.3360 - val_accuracy: 0.7421 - val_recall: 0.7250\n",
      "Epoch 8/150\n",
      "2750/2750 [==============================] - ETA: 0s - loss: 2.0890 - accuracy: 0.8515 - recall: 0.8402\n",
      "Epoch 8: saving model to C:/Users/15972/OneDrive/桌面/FYP/Model/three_way_bert/ckpt\\cp.ckpt\n",
      "2750/2750 [==============================] - 900s 327ms/step - loss: 2.0890 - accuracy: 0.8515 - recall: 0.8402 - val_loss: 3.4509 - val_accuracy: 0.7454 - val_recall: 0.7357\n",
      "Epoch 9/150\n",
      "2750/2750 [==============================] - ETA: 0s - loss: 1.8405 - accuracy: 0.8731 - recall: 0.8631\n",
      "Epoch 9: saving model to C:/Users/15972/OneDrive/桌面/FYP/Model/three_way_bert/ckpt\\cp.ckpt\n",
      "2750/2750 [==============================] - 900s 327ms/step - loss: 1.8405 - accuracy: 0.8731 - recall: 0.8631 - val_loss: 3.6951 - val_accuracy: 0.7481 - val_recall: 0.7395\n",
      "Epoch 10/150\n",
      "2750/2750 [==============================] - ETA: 0s - loss: 1.6695 - accuracy: 0.8874 - recall: 0.8795\n",
      "Epoch 10: saving model to C:/Users/15972/OneDrive/桌面/FYP/Model/three_way_bert/ckpt\\cp.ckpt\n",
      "2750/2750 [==============================] - 901s 328ms/step - loss: 1.6695 - accuracy: 0.8874 - recall: 0.8795 - val_loss: 3.7033 - val_accuracy: 0.7524 - val_recall: 0.7451\n",
      "Epoch 11/150\n",
      "2750/2750 [==============================] - ETA: 0s - loss: 1.5039 - accuracy: 0.8987 - recall: 0.8924\n",
      "Epoch 11: saving model to C:/Users/15972/OneDrive/桌面/FYP/Model/three_way_bert/ckpt\\cp.ckpt\n",
      "2750/2750 [==============================] - 900s 327ms/step - loss: 1.5039 - accuracy: 0.8987 - recall: 0.8924 - val_loss: 3.6114 - val_accuracy: 0.7648 - val_recall: 0.7558\n",
      "Epoch 12/150\n",
      "2750/2750 [==============================] - ETA: 0s - loss: 1.3968 - accuracy: 0.9078 - recall: 0.9024\n",
      "Epoch 12: saving model to C:/Users/15972/OneDrive/桌面/FYP/Model/three_way_bert/ckpt\\cp.ckpt\n",
      "2750/2750 [==============================] - 901s 328ms/step - loss: 1.3968 - accuracy: 0.9078 - recall: 0.9024 - val_loss: 3.7195 - val_accuracy: 0.7620 - val_recall: 0.7558\n",
      "Epoch 13/150\n",
      "2750/2750 [==============================] - ETA: 0s - loss: 1.3242 - accuracy: 0.9137 - recall: 0.9075\n",
      "Epoch 13: saving model to C:/Users/15972/OneDrive/桌面/FYP/Model/three_way_bert/ckpt\\cp.ckpt\n",
      "2750/2750 [==============================] - 901s 328ms/step - loss: 1.3242 - accuracy: 0.9137 - recall: 0.9075 - val_loss: 3.5565 - val_accuracy: 0.7742 - val_recall: 0.7677\n",
      "Epoch 14/150\n",
      "2750/2750 [==============================] - ETA: 0s - loss: 1.2382 - accuracy: 0.9220 - recall: 0.9141\n",
      "Epoch 14: saving model to C:/Users/15972/OneDrive/桌面/FYP/Model/three_way_bert/ckpt\\cp.ckpt\n",
      "2750/2750 [==============================] - 903s 329ms/step - loss: 1.2382 - accuracy: 0.9220 - recall: 0.9141 - val_loss: 3.4948 - val_accuracy: 0.7764 - val_recall: 0.7664\n",
      "Epoch 15/150\n",
      "2750/2750 [==============================] - ETA: 0s - loss: 1.2216 - accuracy: 0.9226 - recall: 0.9158\n",
      "Epoch 15: saving model to C:/Users/15972/OneDrive/桌面/FYP/Model/three_way_bert/ckpt\\cp.ckpt\n",
      "2750/2750 [==============================] - 900s 327ms/step - loss: 1.2216 - accuracy: 0.9226 - recall: 0.9158 - val_loss: 3.6850 - val_accuracy: 0.7757 - val_recall: 0.7698\n",
      "Epoch 16/150\n",
      "2750/2750 [==============================] - ETA: 0s - loss: 1.0206 - accuracy: 0.9388 - recall: 0.9328\n",
      "Epoch 16: saving model to C:/Users/15972/OneDrive/桌面/FYP/Model/three_way_bert/ckpt\\cp.ckpt\n",
      "2750/2750 [==============================] - 898s 327ms/step - loss: 1.0206 - accuracy: 0.9388 - recall: 0.9328 - val_loss: 3.4821 - val_accuracy: 0.7899 - val_recall: 0.7834\n",
      "Epoch 17/150\n",
      "2750/2750 [==============================] - ETA: 0s - loss: 0.9248 - accuracy: 0.9463 - recall: 0.9397\n",
      "Epoch 17: saving model to C:/Users/15972/OneDrive/桌面/FYP/Model/three_way_bert/ckpt\\cp.ckpt\n",
      "2750/2750 [==============================] - 897s 326ms/step - loss: 0.9248 - accuracy: 0.9463 - recall: 0.9397 - val_loss: 3.6547 - val_accuracy: 0.7754 - val_recall: 0.7657\n",
      "Epoch 18/150\n",
      "2750/2750 [==============================] - ETA: 0s - loss: 0.9053 - accuracy: 0.9486 - recall: 0.9425\n",
      "Epoch 18: saving model to C:/Users/15972/OneDrive/桌面/FYP/Model/three_way_bert/ckpt\\cp.ckpt\n",
      "2750/2750 [==============================] - 895s 325ms/step - loss: 0.9053 - accuracy: 0.9486 - recall: 0.9425 - val_loss: 3.7864 - val_accuracy: 0.7815 - val_recall: 0.7741\n",
      "Epoch 19/150\n",
      "2750/2750 [==============================] - ETA: 0s - loss: 0.8037 - accuracy: 0.9555 - recall: 0.9506\n",
      "Epoch 19: saving model to C:/Users/15972/OneDrive/桌面/FYP/Model/three_way_bert/ckpt\\cp.ckpt\n",
      "2750/2750 [==============================] - 898s 326ms/step - loss: 0.8037 - accuracy: 0.9555 - recall: 0.9506 - val_loss: 3.4805 - val_accuracy: 0.7907 - val_recall: 0.7819\n",
      "Epoch 20/150\n",
      "2750/2750 [==============================] - ETA: 0s - loss: 0.7641 - accuracy: 0.9600 - recall: 0.9564\n",
      "Epoch 20: saving model to C:/Users/15972/OneDrive/桌面/FYP/Model/three_way_bert/ckpt\\cp.ckpt\n",
      "2750/2750 [==============================] - 900s 327ms/step - loss: 0.7641 - accuracy: 0.9600 - recall: 0.9564 - val_loss: 3.4032 - val_accuracy: 0.7949 - val_recall: 0.7899\n",
      "Epoch 21/150\n",
      "2750/2750 [==============================] - ETA: 0s - loss: 0.7002 - accuracy: 0.9651 - recall: 0.9606\n",
      "Epoch 21: saving model to C:/Users/15972/OneDrive/桌面/FYP/Model/three_way_bert/ckpt\\cp.ckpt\n",
      "2750/2750 [==============================] - 900s 327ms/step - loss: 0.7002 - accuracy: 0.9651 - recall: 0.9606 - val_loss: 3.2228 - val_accuracy: 0.8051 - val_recall: 0.7955\n",
      "Epoch 22/150\n",
      "2750/2750 [==============================] - ETA: 0s - loss: 0.6829 - accuracy: 0.9664 - recall: 0.9625\n",
      "Epoch 22: saving model to C:/Users/15972/OneDrive/桌面/FYP/Model/three_way_bert/ckpt\\cp.ckpt\n",
      "2750/2750 [==============================] - 902s 328ms/step - loss: 0.6829 - accuracy: 0.9664 - recall: 0.9625 - val_loss: 3.4317 - val_accuracy: 0.8022 - val_recall: 0.7966\n",
      "Epoch 23/150\n",
      "2750/2750 [==============================] - ETA: 0s - loss: 0.6575 - accuracy: 0.9690 - recall: 0.9657\n",
      "Epoch 23: saving model to C:/Users/15972/OneDrive/桌面/FYP/Model/three_way_bert/ckpt\\cp.ckpt\n",
      "2750/2750 [==============================] - 898s 327ms/step - loss: 0.6575 - accuracy: 0.9690 - recall: 0.9657 - val_loss: 3.4147 - val_accuracy: 0.7977 - val_recall: 0.7918\n",
      "Epoch 24/150\n",
      "2750/2750 [==============================] - ETA: 0s - loss: 0.6379 - accuracy: 0.9705 - recall: 0.9677\n",
      "Epoch 24: saving model to C:/Users/15972/OneDrive/桌面/FYP/Model/three_way_bert/ckpt\\cp.ckpt\n",
      "2750/2750 [==============================] - 898s 327ms/step - loss: 0.6379 - accuracy: 0.9705 - recall: 0.9677 - val_loss: 3.5018 - val_accuracy: 0.7947 - val_recall: 0.7851\n",
      "Epoch 25/150\n",
      "2750/2750 [==============================] - ETA: 0s - loss: 0.5924 - accuracy: 0.9738 - recall: 0.9713\n",
      "Epoch 25: saving model to C:/Users/15972/OneDrive/桌面/FYP/Model/three_way_bert/ckpt\\cp.ckpt\n",
      "2750/2750 [==============================] - 900s 327ms/step - loss: 0.5924 - accuracy: 0.9738 - recall: 0.9713 - val_loss: 3.2727 - val_accuracy: 0.8057 - val_recall: 0.7999\n",
      "Epoch 26/150\n",
      "2750/2750 [==============================] - ETA: 0s - loss: 0.5724 - accuracy: 0.9753 - recall: 0.9724\n",
      "Epoch 26: saving model to C:/Users/15972/OneDrive/桌面/FYP/Model/three_way_bert/ckpt\\cp.ckpt\n",
      "2750/2750 [==============================] - 900s 327ms/step - loss: 0.5724 - accuracy: 0.9753 - recall: 0.9724 - val_loss: 3.4263 - val_accuracy: 0.8006 - val_recall: 0.7965\n",
      "Epoch 27/150\n",
      "2750/2750 [==============================] - ETA: 0s - loss: 0.5779 - accuracy: 0.9753 - recall: 0.9732\n",
      "Epoch 27: saving model to C:/Users/15972/OneDrive/桌面/FYP/Model/three_way_bert/ckpt\\cp.ckpt\n",
      "2750/2750 [==============================] - 899s 327ms/step - loss: 0.5779 - accuracy: 0.9753 - recall: 0.9732 - val_loss: 3.2525 - val_accuracy: 0.8118 - val_recall: 0.8082\n",
      "Epoch 28/150\n",
      "2750/2750 [==============================] - ETA: 0s - loss: 0.5560 - accuracy: 0.9773 - recall: 0.9749\n",
      "Epoch 28: saving model to C:/Users/15972/OneDrive/桌面/FYP/Model/three_way_bert/ckpt\\cp.ckpt\n",
      "2750/2750 [==============================] - 898s 326ms/step - loss: 0.5560 - accuracy: 0.9773 - recall: 0.9749 - val_loss: 3.4348 - val_accuracy: 0.8018 - val_recall: 0.7968\n",
      "Epoch 29/150\n",
      "2750/2750 [==============================] - ETA: 0s - loss: 0.5389 - accuracy: 0.9779 - recall: 0.9759\n",
      "Epoch 29: saving model to C:/Users/15972/OneDrive/桌面/FYP/Model/three_way_bert/ckpt\\cp.ckpt\n",
      "2750/2750 [==============================] - 902s 328ms/step - loss: 0.5389 - accuracy: 0.9779 - recall: 0.9759 - val_loss: 3.2747 - val_accuracy: 0.8024 - val_recall: 0.7973\n",
      "Epoch 30/150\n",
      "2750/2750 [==============================] - ETA: 0s - loss: 0.5160 - accuracy: 0.9788 - recall: 0.9767\n",
      "Epoch 30: saving model to C:/Users/15972/OneDrive/桌面/FYP/Model/three_way_bert/ckpt\\cp.ckpt\n",
      "2750/2750 [==============================] - 900s 327ms/step - loss: 0.5160 - accuracy: 0.9788 - recall: 0.9767 - val_loss: 3.2666 - val_accuracy: 0.8088 - val_recall: 0.8049\n",
      "Epoch 31/150\n",
      "2750/2750 [==============================] - ETA: 0s - loss: 0.4948 - accuracy: 0.9810 - recall: 0.9792\n",
      "Epoch 31: saving model to C:/Users/15972/OneDrive/桌面/FYP/Model/three_way_bert/ckpt\\cp.ckpt\n",
      "2750/2750 [==============================] - 903s 328ms/step - loss: 0.4948 - accuracy: 0.9810 - recall: 0.9792 - val_loss: 3.1565 - val_accuracy: 0.8149 - val_recall: 0.8112\n",
      "Epoch 32/150\n",
      "2750/2750 [==============================] - ETA: 0s - loss: 0.5013 - accuracy: 0.9806 - recall: 0.9789\n",
      "Epoch 32: saving model to C:/Users/15972/OneDrive/桌面/FYP/Model/three_way_bert/ckpt\\cp.ckpt\n",
      "2750/2750 [==============================] - 902s 328ms/step - loss: 0.5013 - accuracy: 0.9806 - recall: 0.9789 - val_loss: 3.6202 - val_accuracy: 0.7959 - val_recall: 0.7906\n",
      "Epoch 33/150\n",
      "2750/2750 [==============================] - ETA: 0s - loss: 0.4860 - accuracy: 0.9808 - recall: 0.9790\n",
      "Epoch 33: saving model to C:/Users/15972/OneDrive/桌面/FYP/Model/three_way_bert/ckpt\\cp.ckpt\n",
      "2750/2750 [==============================] - 902s 328ms/step - loss: 0.4860 - accuracy: 0.9808 - recall: 0.9790 - val_loss: 3.2613 - val_accuracy: 0.8099 - val_recall: 0.8062\n",
      "Epoch 34/150\n",
      "2750/2750 [==============================] - ETA: 0s - loss: 0.4734 - accuracy: 0.9831 - recall: 0.9814\n",
      "Epoch 34: saving model to C:/Users/15972/OneDrive/桌面/FYP/Model/three_way_bert/ckpt\\cp.ckpt\n",
      "2750/2750 [==============================] - 899s 327ms/step - loss: 0.4734 - accuracy: 0.9831 - recall: 0.9814 - val_loss: 3.1925 - val_accuracy: 0.8138 - val_recall: 0.8100\n",
      "Epoch 35/150\n",
      "2750/2750 [==============================] - ETA: 0s - loss: 0.4772 - accuracy: 0.9824 - recall: 0.9806\n",
      "Epoch 35: saving model to C:/Users/15972/OneDrive/桌面/FYP/Model/three_way_bert/ckpt\\cp.ckpt\n",
      "2750/2750 [==============================] - 901s 328ms/step - loss: 0.4772 - accuracy: 0.9824 - recall: 0.9806 - val_loss: 3.2672 - val_accuracy: 0.8014 - val_recall: 0.7966\n",
      "Epoch 36/150\n",
      "2750/2750 [==============================] - ETA: 0s - loss: 0.4561 - accuracy: 0.9845 - recall: 0.9830\n",
      "Epoch 36: saving model to C:/Users/15972/OneDrive/桌面/FYP/Model/three_way_bert/ckpt\\cp.ckpt\n",
      "2750/2750 [==============================] - 901s 328ms/step - loss: 0.4561 - accuracy: 0.9845 - recall: 0.9830 - val_loss: 3.1228 - val_accuracy: 0.8139 - val_recall: 0.8094\n",
      "Epoch 37/150\n",
      "2750/2750 [==============================] - ETA: 0s - loss: 0.4258 - accuracy: 0.9861 - recall: 0.9848\n",
      "Epoch 37: saving model to C:/Users/15972/OneDrive/桌面/FYP/Model/three_way_bert/ckpt\\cp.ckpt\n",
      "2750/2750 [==============================] - 906s 329ms/step - loss: 0.4258 - accuracy: 0.9861 - recall: 0.9848 - val_loss: 3.2052 - val_accuracy: 0.8108 - val_recall: 0.8058\n",
      "Epoch 38/150\n",
      "2750/2750 [==============================] - ETA: 0s - loss: 0.4417 - accuracy: 0.9846 - recall: 0.9837\n",
      "Epoch 38: saving model to C:/Users/15972/OneDrive/桌面/FYP/Model/three_way_bert/ckpt\\cp.ckpt\n",
      "2750/2750 [==============================] - 908s 330ms/step - loss: 0.4417 - accuracy: 0.9846 - recall: 0.9837 - val_loss: 3.1098 - val_accuracy: 0.8131 - val_recall: 0.8092\n",
      "Epoch 39/150\n",
      "2750/2750 [==============================] - ETA: 0s - loss: 0.4429 - accuracy: 0.9852 - recall: 0.9837\n",
      "Epoch 39: saving model to C:/Users/15972/OneDrive/桌面/FYP/Model/three_way_bert/ckpt\\cp.ckpt\n",
      "2750/2750 [==============================] - 904s 329ms/step - loss: 0.4429 - accuracy: 0.9852 - recall: 0.9837 - val_loss: 3.1929 - val_accuracy: 0.8126 - val_recall: 0.8094\n",
      "Epoch 40/150\n",
      "2750/2750 [==============================] - ETA: 0s - loss: 0.4276 - accuracy: 0.9862 - recall: 0.9849\n",
      "Epoch 40: saving model to C:/Users/15972/OneDrive/桌面/FYP/Model/three_way_bert/ckpt\\cp.ckpt\n",
      "2750/2750 [==============================] - 907s 330ms/step - loss: 0.4276 - accuracy: 0.9862 - recall: 0.9849 - val_loss: 3.2258 - val_accuracy: 0.8017 - val_recall: 0.7973\n",
      "Epoch 41/150\n",
      "2750/2750 [==============================] - ETA: 0s - loss: 0.4145 - accuracy: 0.9874 - recall: 0.9858\n",
      "Epoch 41: saving model to C:/Users/15972/OneDrive/桌面/FYP/Model/three_way_bert/ckpt\\cp.ckpt\n",
      "2750/2750 [==============================] - 908s 330ms/step - loss: 0.4145 - accuracy: 0.9874 - recall: 0.9858 - val_loss: 3.0708 - val_accuracy: 0.8188 - val_recall: 0.8144\n",
      "Epoch 42/150\n",
      "2750/2750 [==============================] - ETA: 0s - loss: 0.3996 - accuracy: 0.9890 - recall: 0.9871\n",
      "Epoch 42: saving model to C:/Users/15972/OneDrive/桌面/FYP/Model/three_way_bert/ckpt\\cp.ckpt\n",
      "2750/2750 [==============================] - 910s 331ms/step - loss: 0.3996 - accuracy: 0.9890 - recall: 0.9871 - val_loss: 3.1551 - val_accuracy: 0.8160 - val_recall: 0.8112\n",
      "Epoch 43/150\n",
      "2750/2750 [==============================] - ETA: 0s - loss: 0.4017 - accuracy: 0.9888 - recall: 0.9873\n",
      "Epoch 43: saving model to C:/Users/15972/OneDrive/桌面/FYP/Model/three_way_bert/ckpt\\cp.ckpt\n"
     ]
    },
    {
     "name": "stdout",
     "output_type": "stream",
     "text": [
      "2750/2750 [==============================] - 911s 331ms/step - loss: 0.4017 - accuracy: 0.9888 - recall: 0.9873 - val_loss: 3.1294 - val_accuracy: 0.8196 - val_recall: 0.8153\n",
      "Epoch 44/150\n",
      "2750/2750 [==============================] - ETA: 0s - loss: 0.3833 - accuracy: 0.9898 - recall: 0.9890\n",
      "Epoch 44: saving model to C:/Users/15972/OneDrive/桌面/FYP/Model/three_way_bert/ckpt\\cp.ckpt\n",
      "2750/2750 [==============================] - 916s 333ms/step - loss: 0.3833 - accuracy: 0.9898 - recall: 0.9890 - val_loss: 3.0757 - val_accuracy: 0.8182 - val_recall: 0.8137\n",
      "Epoch 45/150\n",
      "2750/2750 [==============================] - ETA: 0s - loss: 0.3818 - accuracy: 0.9897 - recall: 0.9888\n",
      "Epoch 45: saving model to C:/Users/15972/OneDrive/桌面/FYP/Model/three_way_bert/ckpt\\cp.ckpt\n",
      "2750/2750 [==============================] - 932s 339ms/step - loss: 0.3818 - accuracy: 0.9897 - recall: 0.9888 - val_loss: 3.0602 - val_accuracy: 0.8197 - val_recall: 0.8169\n",
      "Epoch 46/150\n",
      "2750/2750 [==============================] - ETA: 0s - loss: 0.3731 - accuracy: 0.9910 - recall: 0.9898\n",
      "Epoch 46: saving model to C:/Users/15972/OneDrive/桌面/FYP/Model/three_way_bert/ckpt\\cp.ckpt\n",
      "2750/2750 [==============================] - 914s 332ms/step - loss: 0.3731 - accuracy: 0.9910 - recall: 0.9898 - val_loss: 3.3305 - val_accuracy: 0.8074 - val_recall: 0.8028\n",
      "Epoch 47/150\n",
      "2750/2750 [==============================] - ETA: 0s - loss: 0.3718 - accuracy: 0.9911 - recall: 0.9896\n",
      "Epoch 47: saving model to C:/Users/15972/OneDrive/桌面/FYP/Model/three_way_bert/ckpt\\cp.ckpt\n",
      "2750/2750 [==============================] - 914s 332ms/step - loss: 0.3718 - accuracy: 0.9911 - recall: 0.9896 - val_loss: 3.0741 - val_accuracy: 0.8216 - val_recall: 0.8178\n",
      "Epoch 48/150\n",
      "2750/2750 [==============================] - ETA: 0s - loss: 0.3630 - accuracy: 0.9920 - recall: 0.9912\n",
      "Epoch 48: saving model to C:/Users/15972/OneDrive/桌面/FYP/Model/three_way_bert/ckpt\\cp.ckpt\n",
      "2750/2750 [==============================] - 915s 333ms/step - loss: 0.3630 - accuracy: 0.9920 - recall: 0.9912 - val_loss: 3.2136 - val_accuracy: 0.8064 - val_recall: 0.8020\n",
      "Epoch 49/150\n",
      "2750/2750 [==============================] - ETA: 0s - loss: 0.3654 - accuracy: 0.9915 - recall: 0.9908\n",
      "Epoch 49: saving model to C:/Users/15972/OneDrive/桌面/FYP/Model/three_way_bert/ckpt\\cp.ckpt\n",
      "2750/2750 [==============================] - 910s 331ms/step - loss: 0.3654 - accuracy: 0.9915 - recall: 0.9908 - val_loss: 3.2139 - val_accuracy: 0.8121 - val_recall: 0.8070\n",
      "Epoch 50/150\n",
      "2750/2750 [==============================] - ETA: 0s - loss: 0.3622 - accuracy: 0.9923 - recall: 0.9919\n",
      "Epoch 50: saving model to C:/Users/15972/OneDrive/桌面/FYP/Model/three_way_bert/ckpt\\cp.ckpt\n",
      "2750/2750 [==============================] - 914s 332ms/step - loss: 0.3622 - accuracy: 0.9923 - recall: 0.9919 - val_loss: 3.0843 - val_accuracy: 0.8196 - val_recall: 0.8160\n",
      "Epoch 51/150\n",
      "2750/2750 [==============================] - ETA: 0s - loss: 0.3502 - accuracy: 0.9927 - recall: 0.9921\n",
      "Epoch 51: saving model to C:/Users/15972/OneDrive/桌面/FYP/Model/three_way_bert/ckpt\\cp.ckpt\n",
      "2750/2750 [==============================] - 914s 332ms/step - loss: 0.3502 - accuracy: 0.9927 - recall: 0.9921 - val_loss: 3.0703 - val_accuracy: 0.8169 - val_recall: 0.8133\n",
      "Epoch 52/150\n",
      "2750/2750 [==============================] - ETA: 0s - loss: 0.3546 - accuracy: 0.9922 - recall: 0.9916\n",
      "Epoch 52: saving model to C:/Users/15972/OneDrive/桌面/FYP/Model/three_way_bert/ckpt\\cp.ckpt\n",
      "2750/2750 [==============================] - 915s 333ms/step - loss: 0.3546 - accuracy: 0.9922 - recall: 0.9916 - val_loss: 3.0622 - val_accuracy: 0.8170 - val_recall: 0.8132\n",
      "Epoch 53/150\n",
      "2750/2750 [==============================] - ETA: 0s - loss: 0.3494 - accuracy: 0.9929 - recall: 0.9918\n",
      "Epoch 53: saving model to C:/Users/15972/OneDrive/桌面/FYP/Model/three_way_bert/ckpt\\cp.ckpt\n",
      "2750/2750 [==============================] - 914s 332ms/step - loss: 0.3494 - accuracy: 0.9929 - recall: 0.9918 - val_loss: 3.0386 - val_accuracy: 0.8253 - val_recall: 0.8225\n",
      "Epoch 54/150\n",
      "2750/2750 [==============================] - ETA: 0s - loss: 0.3473 - accuracy: 0.9932 - recall: 0.9925\n",
      "Epoch 54: saving model to C:/Users/15972/OneDrive/桌面/FYP/Model/three_way_bert/ckpt\\cp.ckpt\n",
      "2750/2750 [==============================] - 913s 332ms/step - loss: 0.3473 - accuracy: 0.9932 - recall: 0.9925 - val_loss: 3.1158 - val_accuracy: 0.8166 - val_recall: 0.8124\n",
      "Epoch 55/150\n",
      "2750/2750 [==============================] - ETA: 0s - loss: 1.1462 - accuracy: 0.9053 - recall: 0.8633\n",
      "Epoch 55: saving model to C:/Users/15972/OneDrive/桌面/FYP/Model/three_way_bert/ckpt\\cp.ckpt\n",
      "2750/2750 [==============================] - 911s 331ms/step - loss: 1.1462 - accuracy: 0.9053 - recall: 0.8633 - val_loss: 3.3348 - val_accuracy: 0.7195 - val_recall: 0.6248\n",
      "Epoch 56/150\n",
      "2750/2750 [==============================] - ETA: 0s - loss: 2.4934 - accuracy: 0.8154 - recall: 0.8000\n",
      "Epoch 56: saving model to C:/Users/15972/OneDrive/桌面/FYP/Model/three_way_bert/ckpt\\cp.ckpt\n",
      "2750/2750 [==============================] - 909s 330ms/step - loss: 2.4934 - accuracy: 0.8154 - recall: 0.8000 - val_loss: 3.3949 - val_accuracy: 0.7596 - val_recall: 0.7518\n",
      "Epoch 57/150\n",
      "2750/2750 [==============================] - ETA: 0s - loss: 1.6398 - accuracy: 0.8960 - recall: 0.8918\n",
      "Epoch 57: saving model to C:/Users/15972/OneDrive/桌面/FYP/Model/three_way_bert/ckpt\\cp.ckpt\n",
      "2750/2750 [==============================] - 928s 337ms/step - loss: 1.6398 - accuracy: 0.8960 - recall: 0.8918 - val_loss: 3.1114 - val_accuracy: 0.8024 - val_recall: 0.7959\n",
      "Epoch 58/150\n",
      "2750/2750 [==============================] - ETA: 0s - loss: 1.0561 - accuracy: 0.9387 - recall: 0.9362\n",
      "Epoch 58: saving model to C:/Users/15972/OneDrive/桌面/FYP/Model/three_way_bert/ckpt\\cp.ckpt\n",
      "2750/2750 [==============================] - 928s 337ms/step - loss: 1.0561 - accuracy: 0.9387 - recall: 0.9362 - val_loss: 3.3309 - val_accuracy: 0.7987 - val_recall: 0.7944\n",
      "Epoch 59/150\n",
      "2750/2750 [==============================] - ETA: 0s - loss: 0.8086 - accuracy: 0.9581 - recall: 0.9564\n",
      "Epoch 59: saving model to C:/Users/15972/OneDrive/桌面/FYP/Model/three_way_bert/ckpt\\cp.ckpt\n",
      "2750/2750 [==============================] - 924s 336ms/step - loss: 0.8086 - accuracy: 0.9581 - recall: 0.9564 - val_loss: 3.3643 - val_accuracy: 0.7977 - val_recall: 0.7910\n",
      "Epoch 60/150\n",
      "2750/2750 [==============================] - ETA: 0s - loss: 0.6932 - accuracy: 0.9654 - recall: 0.9630\n",
      "Epoch 60: saving model to C:/Users/15972/OneDrive/桌面/FYP/Model/three_way_bert/ckpt\\cp.ckpt\n",
      "2750/2750 [==============================] - 944s 343ms/step - loss: 0.6932 - accuracy: 0.9654 - recall: 0.9630 - val_loss: 3.1540 - val_accuracy: 0.8162 - val_recall: 0.8109\n",
      "Epoch 61/150\n",
      "2750/2750 [==============================] - ETA: 0s - loss: 0.6122 - accuracy: 0.9704 - recall: 0.9687\n",
      "Epoch 61: saving model to C:/Users/15972/OneDrive/桌面/FYP/Model/three_way_bert/ckpt\\cp.ckpt\n",
      "2750/2750 [==============================] - 918s 334ms/step - loss: 0.6122 - accuracy: 0.9704 - recall: 0.9687 - val_loss: 3.2260 - val_accuracy: 0.8119 - val_recall: 0.8067\n",
      "Epoch 62/150\n",
      "2750/2750 [==============================] - ETA: 0s - loss: 0.5584 - accuracy: 0.9741 - recall: 0.9721\n",
      "Epoch 62: saving model to C:/Users/15972/OneDrive/桌面/FYP/Model/three_way_bert/ckpt\\cp.ckpt\n",
      "2750/2750 [==============================] - 928s 337ms/step - loss: 0.5584 - accuracy: 0.9741 - recall: 0.9721 - val_loss: 3.2400 - val_accuracy: 0.8141 - val_recall: 0.8101\n",
      "Epoch 63/150\n",
      "2750/2750 [==============================] - ETA: 0s - loss: 0.5110 - accuracy: 0.9781 - recall: 0.9764\n",
      "Epoch 63: saving model to C:/Users/15972/OneDrive/桌面/FYP/Model/three_way_bert/ckpt\\cp.ckpt\n",
      "2750/2750 [==============================] - 906s 329ms/step - loss: 0.5110 - accuracy: 0.9781 - recall: 0.9764 - val_loss: 3.2390 - val_accuracy: 0.8169 - val_recall: 0.8133\n",
      "Epoch 64/150\n",
      "2750/2750 [==============================] - ETA: 0s - loss: 0.4735 - accuracy: 0.9813 - recall: 0.9798\n",
      "Epoch 64: saving model to C:/Users/15972/OneDrive/桌面/FYP/Model/three_way_bert/ckpt\\cp.ckpt\n",
      "2750/2750 [==============================] - 891s 324ms/step - loss: 0.4735 - accuracy: 0.9813 - recall: 0.9798 - val_loss: 3.1576 - val_accuracy: 0.8168 - val_recall: 0.8115\n"
     ]
    },
    {
     "name": "stdout",
     "output_type": "stream",
     "text": [
      "Epoch 65/150\n",
      "2750/2750 [==============================] - ETA: 0s - loss: 0.4715 - accuracy: 0.9813 - recall: 0.9801\n",
      "Epoch 65: saving model to C:/Users/15972/OneDrive/桌面/FYP/Model/three_way_bert/ckpt\\cp.ckpt\n",
      "2750/2750 [==============================] - 895s 325ms/step - loss: 0.4715 - accuracy: 0.9813 - recall: 0.9801 - val_loss: 3.2090 - val_accuracy: 0.8140 - val_recall: 0.8097\n",
      "Epoch 66/150\n",
      "2750/2750 [==============================] - ETA: 0s - loss: 0.4205 - accuracy: 0.9855 - recall: 0.9843\n",
      "Epoch 66: saving model to C:/Users/15972/OneDrive/桌面/FYP/Model/three_way_bert/ckpt\\cp.ckpt\n",
      "2750/2750 [==============================] - 914s 332ms/step - loss: 0.4205 - accuracy: 0.9855 - recall: 0.9843 - val_loss: 3.4066 - val_accuracy: 0.8066 - val_recall: 0.8011\n",
      "Epoch 67/150\n",
      "2750/2750 [==============================] - ETA: 0s - loss: 0.4048 - accuracy: 0.9870 - recall: 0.9857\n",
      "Epoch 67: saving model to C:/Users/15972/OneDrive/桌面/FYP/Model/three_way_bert/ckpt\\cp.ckpt\n",
      "2750/2750 [==============================] - 914s 332ms/step - loss: 0.4048 - accuracy: 0.9870 - recall: 0.9857 - val_loss: 3.1091 - val_accuracy: 0.8221 - val_recall: 0.8173\n",
      "Epoch 68/150\n",
      "2750/2750 [==============================] - ETA: 0s - loss: 0.4019 - accuracy: 0.9872 - recall: 0.9862\n",
      "Epoch 68: saving model to C:/Users/15972/OneDrive/桌面/FYP/Model/three_way_bert/ckpt\\cp.ckpt\n",
      "2750/2750 [==============================] - 906s 329ms/step - loss: 0.4019 - accuracy: 0.9872 - recall: 0.9862 - val_loss: 3.0709 - val_accuracy: 0.8245 - val_recall: 0.8211\n",
      "Epoch 69/150\n",
      "2750/2750 [==============================] - ETA: 0s - loss: 0.3781 - accuracy: 0.9893 - recall: 0.9884\n",
      "Epoch 69: saving model to C:/Users/15972/OneDrive/桌面/FYP/Model/three_way_bert/ckpt\\cp.ckpt\n",
      "2750/2750 [==============================] - 907s 330ms/step - loss: 0.3781 - accuracy: 0.9893 - recall: 0.9884 - val_loss: 3.2049 - val_accuracy: 0.8197 - val_recall: 0.8157\n",
      "Epoch 70/150\n",
      "2750/2750 [==============================] - ETA: 0s - loss: 0.3825 - accuracy: 0.9884 - recall: 0.9880\n",
      "Epoch 70: saving model to C:/Users/15972/OneDrive/桌面/FYP/Model/three_way_bert/ckpt\\cp.ckpt\n",
      "2750/2750 [==============================] - 897s 326ms/step - loss: 0.3825 - accuracy: 0.9884 - recall: 0.9880 - val_loss: 3.1929 - val_accuracy: 0.8146 - val_recall: 0.8101\n",
      "Epoch 71/150\n",
      "2750/2750 [==============================] - ETA: 0s - loss: 0.3658 - accuracy: 0.9896 - recall: 0.9890\n",
      "Epoch 71: saving model to C:/Users/15972/OneDrive/桌面/FYP/Model/three_way_bert/ckpt\\cp.ckpt\n",
      "2750/2750 [==============================] - 899s 327ms/step - loss: 0.3658 - accuracy: 0.9896 - recall: 0.9890 - val_loss: 3.1236 - val_accuracy: 0.8229 - val_recall: 0.8196\n",
      "Epoch 72/150\n",
      "2750/2750 [==============================] - ETA: 0s - loss: 0.3583 - accuracy: 0.9907 - recall: 0.9897\n",
      "Epoch 72: saving model to C:/Users/15972/OneDrive/桌面/FYP/Model/three_way_bert/ckpt\\cp.ckpt\n",
      "2750/2750 [==============================] - 898s 326ms/step - loss: 0.3583 - accuracy: 0.9907 - recall: 0.9897 - val_loss: 3.2214 - val_accuracy: 0.8215 - val_recall: 0.8166\n",
      "Epoch 73/150\n",
      "2750/2750 [==============================] - ETA: 0s - loss: 0.3546 - accuracy: 0.9911 - recall: 0.9903\n",
      "Epoch 73: saving model to C:/Users/15972/OneDrive/桌面/FYP/Model/three_way_bert/ckpt\\cp.ckpt\n",
      "2750/2750 [==============================] - 905s 329ms/step - loss: 0.3546 - accuracy: 0.9911 - recall: 0.9903 - val_loss: 3.2025 - val_accuracy: 0.8222 - val_recall: 0.8177\n",
      "Epoch 74/150\n",
      "2750/2750 [==============================] - ETA: 0s - loss: 0.3505 - accuracy: 0.9916 - recall: 0.9907\n",
      "Epoch 74: saving model to C:/Users/15972/OneDrive/桌面/FYP/Model/three_way_bert/ckpt\\cp.ckpt\n",
      "2750/2750 [==============================] - 910s 331ms/step - loss: 0.3505 - accuracy: 0.9916 - recall: 0.9907 - val_loss: 3.1787 - val_accuracy: 0.8169 - val_recall: 0.8137\n",
      "Epoch 75/150\n",
      "2750/2750 [==============================] - ETA: 0s - loss: 0.3432 - accuracy: 0.9918 - recall: 0.9914\n",
      "Epoch 75: saving model to C:/Users/15972/OneDrive/桌面/FYP/Model/three_way_bert/ckpt\\cp.ckpt\n",
      "2750/2750 [==============================] - 913s 332ms/step - loss: 0.3432 - accuracy: 0.9918 - recall: 0.9914 - val_loss: 3.2356 - val_accuracy: 0.8212 - val_recall: 0.8185\n",
      "Epoch 76/150\n",
      "2750/2750 [==============================] - ETA: 0s - loss: 0.3275 - accuracy: 0.9935 - recall: 0.9927\n",
      "Epoch 76: saving model to C:/Users/15972/OneDrive/桌面/FYP/Model/three_way_bert/ckpt\\cp.ckpt\n",
      "2750/2750 [==============================] - 911s 331ms/step - loss: 0.3275 - accuracy: 0.9935 - recall: 0.9927 - val_loss: 3.1807 - val_accuracy: 0.8158 - val_recall: 0.8119\n",
      "Epoch 77/150\n",
      "2750/2750 [==============================] - ETA: 0s - loss: 0.3311 - accuracy: 0.9933 - recall: 0.9926\n",
      "Epoch 77: saving model to C:/Users/15972/OneDrive/桌面/FYP/Model/three_way_bert/ckpt\\cp.ckpt\n",
      "2750/2750 [==============================] - 896s 326ms/step - loss: 0.3311 - accuracy: 0.9933 - recall: 0.9926 - val_loss: 3.0968 - val_accuracy: 0.8242 - val_recall: 0.8206\n",
      "Epoch 78/150\n",
      "2750/2750 [==============================] - ETA: 0s - loss: 0.3317 - accuracy: 0.9930 - recall: 0.9926\n",
      "Epoch 78: saving model to C:/Users/15972/OneDrive/桌面/FYP/Model/three_way_bert/ckpt\\cp.ckpt\n",
      "2750/2750 [==============================] - 895s 325ms/step - loss: 0.3317 - accuracy: 0.9930 - recall: 0.9926 - val_loss: 3.0517 - val_accuracy: 0.8245 - val_recall: 0.8201\n",
      "Epoch 79/150\n",
      "2750/2750 [==============================] - ETA: 0s - loss: 0.3245 - accuracy: 0.9934 - recall: 0.9930\n",
      "Epoch 79: saving model to C:/Users/15972/OneDrive/桌面/FYP/Model/three_way_bert/ckpt\\cp.ckpt\n",
      "2750/2750 [==============================] - 897s 326ms/step - loss: 0.3245 - accuracy: 0.9934 - recall: 0.9930 - val_loss: 3.1009 - val_accuracy: 0.8224 - val_recall: 0.8198\n",
      "Epoch 80/150\n",
      "2750/2750 [==============================] - ETA: 0s - loss: 0.3159 - accuracy: 0.9944 - recall: 0.9940\n",
      "Epoch 80: saving model to C:/Users/15972/OneDrive/桌面/FYP/Model/three_way_bert/ckpt\\cp.ckpt\n",
      "2750/2750 [==============================] - 897s 326ms/step - loss: 0.3159 - accuracy: 0.9944 - recall: 0.9940 - val_loss: 3.2014 - val_accuracy: 0.8160 - val_recall: 0.8128\n",
      "Epoch 81/150\n",
      "2750/2750 [==============================] - ETA: 0s - loss: 0.3138 - accuracy: 0.9943 - recall: 0.9941\n",
      "Epoch 81: saving model to C:/Users/15972/OneDrive/桌面/FYP/Model/three_way_bert/ckpt\\cp.ckpt\n",
      "2750/2750 [==============================] - 898s 326ms/step - loss: 0.3138 - accuracy: 0.9943 - recall: 0.9941 - val_loss: 3.0437 - val_accuracy: 0.8254 - val_recall: 0.8209\n",
      "Epoch 82/150\n",
      "2750/2750 [==============================] - ETA: 0s - loss: 0.3062 - accuracy: 0.9950 - recall: 0.9946\n",
      "Epoch 82: saving model to C:/Users/15972/OneDrive/桌面/FYP/Model/three_way_bert/ckpt\\cp.ckpt\n",
      "2750/2750 [==============================] - 904s 329ms/step - loss: 0.3062 - accuracy: 0.9950 - recall: 0.9946 - val_loss: 3.2051 - val_accuracy: 0.8198 - val_recall: 0.8173\n",
      "Epoch 83/150\n",
      "2750/2750 [==============================] - ETA: 0s - loss: 0.3081 - accuracy: 0.9948 - recall: 0.9943\n",
      "Epoch 83: saving model to C:/Users/15972/OneDrive/桌面/FYP/Model/three_way_bert/ckpt\\cp.ckpt\n",
      "2750/2750 [==============================] - 903s 328ms/step - loss: 0.3081 - accuracy: 0.9948 - recall: 0.9943 - val_loss: 3.1789 - val_accuracy: 0.8178 - val_recall: 0.8141\n",
      "Epoch 84/150\n",
      "2750/2750 [==============================] - ETA: 0s - loss: 0.3063 - accuracy: 0.9951 - recall: 0.9947\n",
      "Epoch 84: saving model to C:/Users/15972/OneDrive/桌面/FYP/Model/three_way_bert/ckpt\\cp.ckpt\n",
      "2750/2750 [==============================] - 897s 326ms/step - loss: 0.3063 - accuracy: 0.9951 - recall: 0.9947 - val_loss: 3.1888 - val_accuracy: 0.8186 - val_recall: 0.8159\n",
      "Epoch 85/150\n",
      "2750/2750 [==============================] - ETA: 0s - loss: 0.2951 - accuracy: 0.9961 - recall: 0.9957\n",
      "Epoch 85: saving model to C:/Users/15972/OneDrive/桌面/FYP/Model/three_way_bert/ckpt\\cp.ckpt\n",
      "2750/2750 [==============================] - 896s 326ms/step - loss: 0.2951 - accuracy: 0.9961 - recall: 0.9957 - val_loss: 3.1147 - val_accuracy: 0.8224 - val_recall: 0.8188\n",
      "Epoch 86/150\n",
      "2750/2750 [==============================] - ETA: 0s - loss: 0.2982 - accuracy: 0.9954 - recall: 0.9952\n",
      "Epoch 86: saving model to C:/Users/15972/OneDrive/桌面/FYP/Model/three_way_bert/ckpt\\cp.ckpt\n"
     ]
    },
    {
     "name": "stdout",
     "output_type": "stream",
     "text": [
      "2750/2750 [==============================] - 890s 323ms/step - loss: 0.2982 - accuracy: 0.9954 - recall: 0.9952 - val_loss: 3.1099 - val_accuracy: 0.8205 - val_recall: 0.8176\n",
      "Epoch 87/150\n",
      "2750/2750 [==============================] - ETA: 0s - loss: 0.3019 - accuracy: 0.9956 - recall: 0.9952\n",
      "Epoch 87: saving model to C:/Users/15972/OneDrive/桌面/FYP/Model/three_way_bert/ckpt\\cp.ckpt\n",
      "2750/2750 [==============================] - 889s 323ms/step - loss: 0.3019 - accuracy: 0.9956 - recall: 0.9952 - val_loss: 3.0956 - val_accuracy: 0.8190 - val_recall: 0.8160\n",
      "Epoch 88/150\n",
      "2750/2750 [==============================] - ETA: 0s - loss: 0.2932 - accuracy: 0.9961 - recall: 0.9958\n",
      "Epoch 88: saving model to C:/Users/15972/OneDrive/桌面/FYP/Model/three_way_bert/ckpt\\cp.ckpt\n",
      "2750/2750 [==============================] - 894s 325ms/step - loss: 0.2932 - accuracy: 0.9961 - recall: 0.9958 - val_loss: 3.1533 - val_accuracy: 0.8219 - val_recall: 0.8186\n",
      "Epoch 89/150\n",
      "2750/2750 [==============================] - ETA: 0s - loss: 0.2919 - accuracy: 0.9963 - recall: 0.9959\n",
      "Epoch 89: saving model to C:/Users/15972/OneDrive/桌面/FYP/Model/three_way_bert/ckpt\\cp.ckpt\n",
      "2750/2750 [==============================] - 893s 325ms/step - loss: 0.2919 - accuracy: 0.9963 - recall: 0.9959 - val_loss: 3.0045 - val_accuracy: 0.8234 - val_recall: 0.8189\n",
      "Epoch 90/150\n",
      "2750/2750 [==============================] - ETA: 0s - loss: 0.2892 - accuracy: 0.9964 - recall: 0.9961\n",
      "Epoch 90: saving model to C:/Users/15972/OneDrive/桌面/FYP/Model/three_way_bert/ckpt\\cp.ckpt\n",
      "2750/2750 [==============================] - 889s 323ms/step - loss: 0.2892 - accuracy: 0.9964 - recall: 0.9961 - val_loss: 3.0695 - val_accuracy: 0.8238 - val_recall: 0.8202\n",
      "Epoch 91/150\n",
      "2750/2750 [==============================] - ETA: 0s - loss: 0.2824 - accuracy: 0.9969 - recall: 0.9963\n",
      "Epoch 91: saving model to C:/Users/15972/OneDrive/桌面/FYP/Model/three_way_bert/ckpt\\cp.ckpt\n",
      "2750/2750 [==============================] - 897s 326ms/step - loss: 0.2824 - accuracy: 0.9969 - recall: 0.9963 - val_loss: 3.1440 - val_accuracy: 0.8181 - val_recall: 0.8146\n",
      "Epoch 92/150\n",
      "2750/2750 [==============================] - ETA: 0s - loss: 0.2804 - accuracy: 0.9966 - recall: 0.9964\n",
      "Epoch 92: saving model to C:/Users/15972/OneDrive/桌面/FYP/Model/three_way_bert/ckpt\\cp.ckpt\n",
      "2750/2750 [==============================] - 891s 324ms/step - loss: 0.2804 - accuracy: 0.9966 - recall: 0.9964 - val_loss: 3.1281 - val_accuracy: 0.8186 - val_recall: 0.8156\n",
      "Epoch 93/150\n",
      "2750/2750 [==============================] - ETA: 0s - loss: 0.2842 - accuracy: 0.9966 - recall: 0.9960\n",
      "Epoch 93: saving model to C:/Users/15972/OneDrive/桌面/FYP/Model/three_way_bert/ckpt\\cp.ckpt\n",
      "2750/2750 [==============================] - 904s 329ms/step - loss: 0.2842 - accuracy: 0.9966 - recall: 0.9960 - val_loss: 3.0896 - val_accuracy: 0.8226 - val_recall: 0.8190\n",
      "Epoch 94/150\n",
      "2750/2750 [==============================] - ETA: 0s - loss: 0.2849 - accuracy: 0.9965 - recall: 0.9960\n",
      "Epoch 94: saving model to C:/Users/15972/OneDrive/桌面/FYP/Model/three_way_bert/ckpt\\cp.ckpt\n",
      "2750/2750 [==============================] - 908s 330ms/step - loss: 0.2849 - accuracy: 0.9965 - recall: 0.9960 - val_loss: 3.1182 - val_accuracy: 0.8262 - val_recall: 0.8221\n",
      "Epoch 95/150\n",
      "2750/2750 [==============================] - ETA: 0s - loss: 0.2776 - accuracy: 0.9970 - recall: 0.9969\n",
      "Epoch 95: saving model to C:/Users/15972/OneDrive/桌面/FYP/Model/three_way_bert/ckpt\\cp.ckpt\n",
      "2750/2750 [==============================] - 902s 328ms/step - loss: 0.2776 - accuracy: 0.9970 - recall: 0.9969 - val_loss: 3.0373 - val_accuracy: 0.8262 - val_recall: 0.8212\n",
      "Epoch 96/150\n",
      " 374/2750 [===>..........................] - ETA: 12:14 - loss: 0.2750 - accuracy: 0.9977 - recall: 0.9973"
     ]
    }
   ],
   "source": [
    "print(f'Training model with {tfhub_handle_encoder}')\n",
    "print(f'Training model with {tfhub_handle_encoder}')\n",
    "history = classifier_model.fit(x=x_train,\n",
    "                               y=y_train,\n",
    "                               validation_data=(x_val,y_val),\n",
    "                               epochs=150,\n",
    "                               batch_size=8,\n",
    "                               callbacks=[cp_callback,csv_callback])"
   ]
  },
  {
   "cell_type": "markdown",
   "id": "2fa48ebb",
   "metadata": {
    "pycharm": {
     "name": "#%% md\n"
    }
   },
   "source": [
    "## testing "
   ]
  },
  {
   "cell_type": "code",
   "execution_count": 20,
   "id": "4c67c788",
   "metadata": {
    "pycharm": {
     "name": "#%%\n"
    }
   },
   "outputs": [
    {
     "name": "stdout",
     "output_type": "stream",
     "text": [
      "1305/1305 [==============================] - 569s 418ms/step - loss: 0.5136 - recall: 0.8179\n",
      "Loss: 0.5136268734931946\n",
      "Accuracy: 0.8179029822349548\n"
     ]
    }
   ],
   "source": [
    "loss, accuracy = classifier_model.evaluate(x=x_test,y=y_test,batch_size=8)\n",
    "\n",
    "print(f'Loss: {loss}')\n",
    "print(f'Accuracy: {accuracy}')"
   ]
  },
  {
   "cell_type": "markdown",
   "id": "f0173f63",
   "metadata": {
    "pycharm": {
     "name": "#%% md\n"
    }
   },
   "source": [
    "## Confusion matrix"
   ]
  },
  {
   "cell_type": "code",
   "execution_count": 23,
   "id": "04aa9781",
   "metadata": {
    "pycharm": {
     "name": "#%%\n"
    }
   },
   "outputs": [
    {
     "name": "stdout",
     "output_type": "stream",
     "text": [
      "327/327 [==============================] - 98s 289ms/step\n"
     ]
    }
   ],
   "source": [
    "y_pred = np.argmax(classifier_model.predict(x_test),axis=1)"
   ]
  },
  {
   "cell_type": "code",
   "execution_count": 31,
   "id": "3d2303d2",
   "metadata": {
    "pycharm": {
     "name": "#%%\n"
    }
   },
   "outputs": [
    {
     "name": "stdout",
     "output_type": "stream",
     "text": [
      "[2 2 0 ... 2 1 2]\n"
     ]
    }
   ],
   "source": [
    "print(y_pred)"
   ]
  },
  {
   "cell_type": "code",
   "execution_count": 27,
   "id": "fb09bd45",
   "metadata": {
    "pycharm": {
     "name": "#%%\n"
    }
   },
   "outputs": [
    {
     "name": "stdout",
     "output_type": "stream",
     "text": [
      "[2 2 0 ... 2 2 2]\n"
     ]
    }
   ],
   "source": [
    "y_true = np.argmax(y_test, axis=1)\n",
    "print(y_true)"
   ]
  },
  {
   "cell_type": "code",
   "execution_count": 28,
   "id": "6ccc6d4d",
   "metadata": {
    "pycharm": {
     "name": "#%%\n"
    }
   },
   "outputs": [
    {
     "data": {
      "image/png": "[encoded data removed]",
      "text/plain": [
       "<Figure size 576x576 with 2 Axes>"
      ]
     },
     "metadata": {
      "needs_background": "light"
     },
     "output_type": "display_data"
    }
   ],
   "source": [
    "from sklearn.metrics import confusion_matrix\n",
    "import seaborn as sns\n",
    "con_mat = confusion_matrix(y_true, y_pred)\n",
    "con_mat_norm = con_mat.astype('float') / con_mat.sum(axis=1)[:, np.newaxis]     # 归一化\n",
    "con_mat_norm = np.around(con_mat_norm, decimals=2)\n",
    "plt.figure(figsize=(8, 8))\n",
    "sns.heatmap(con_mat_norm, annot=True, cmap='Blues')\n",
    "\n",
    "plt.ylim(0, 3)\n",
    "plt.xlabel('Predicted labels')\n",
    "plt.ylabel('True labels')\n",
    "plt.show()"
   ]
  },
  {
   "cell_type": "markdown",
   "id": "dbb84999",
   "metadata": {
    "pycharm": {
     "name": "#%% md\n"
    }
   },
   "source": [
    "## visualization"
   ]
  },
  {
   "cell_type": "code",
   "execution_count": 38,
   "id": "61d70001",
   "metadata": {
    "pycharm": {
     "name": "#%%\n"
    }
   },
   "outputs": [
    {
     "data": {
      "image/png": "[encoded data removed]",
      "text/plain": [
       "<Figure size 1332x756 with 1 Axes>"
      ]
     },
     "metadata": {},
     "output_type": "display_data"
    }
   ],
   "source": [
    "import seaborn as sns\n",
    "csv_path = 'C:/Users/ROG/OneDrive/桌面/FYP/Model/three_way_bert/record_.csv'\n",
    "records = pd.read_csv(csv_path)\n",
    "sns.set_style(style='whitegrid')\n",
    "labels=['categorical_accuracy','loss','val_categorical_accuracy','val_loss']\n",
    "plt.plot(records['epoch'],records['categorical_accuracy'], label=\"categorical_accuracy\",color='r', linewidth=2)\n",
    "plt.plot(records['epoch'],records['loss'], label=\"loss\",color='g', linewidth=2)\n",
    "plt.plot(records['epoch'],records['val_categorical_accuracy'], label=\"val_categorical_accuracy\",color='b', linewidth=2)\n",
    "plt.plot(records['epoch'],records['val_loss'], label=\"val_loss\",color='c', linewidth=2)\n",
    "plt.legend(labels)\n",
    "fig = plt.gcf()\n",
    "fig.set_size_inches(18.5, 10.5)"
   ]
  },
  {
   "cell_type": "code",
   "execution_count": 40,
   "id": "6f177ce7",
   "metadata": {
    "pycharm": {
     "name": "#%%\n"
    }
   },
   "outputs": [
    {
     "data": {
      "image/png": "[encoded data removed]",
      "text/plain": [
       "<Figure size 1332x756 with 1 Axes>"
      ]
     },
     "metadata": {},
     "output_type": "display_data"
    }
   ],
   "source": [
    "csv_path = 'C:/Users/15972/OneDrive/桌面/FYP/Model/three_way_bert_v1/record.csv'\n",
    "records = pd.read_csv(csv_path)\n",
    "sns.set_style(style='whitegrid')\n",
    "labels=['categorical_accuracy','loss','val_categorical_accuracy','val_loss']\n",
    "plt.plot(records['epoch'],records['categorical_accuracy'], label=\"categorical_accuracy\",color='r', linewidth=2)\n",
    "plt.plot(records['epoch'],records['loss'], label=\"loss\",color='g', linewidth=2)\n",
    "plt.plot(records['epoch'],records['val_categorical_accuracy'], label=\"val_categorical_accuracy\",color='b', linewidth=2)\n",
    "plt.plot(records['epoch'],records['val_loss'], label=\"val_loss\",color='c', linewidth=2)\n",
    "plt.legend(labels)\n",
    "fig = plt.gcf()\n",
    "fig.set_size_inches(18.5, 10.5)"
   ]
  }
 ],
 "metadata": {
  "kernelspec": {
   "display_name": "Python 3 (ipykernel)",
   "language": "python",
   "name": "python3"
  },
  "language_info": {
   "codemirror_mode": {
    "name": "ipython",
    "version": 3
   },
   "file_extension": ".py",
   "mimetype": "text/x-python",
   "name": "python",
   "nbconvert_exporter": "python",
   "pygments_lexer": "ipython3",
   "version": "3.9.7"
  }
 },
 "nbformat": 4,
 "nbformat_minor": 5
}