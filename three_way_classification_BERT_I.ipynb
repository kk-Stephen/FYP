{
 "cells": [
  {
   "cell_type": "code",
   "execution_count": 1,
   "id": "388f0410",
   "metadata": {
    "pycharm": {
     "name": "#%%\n"
    }
   },
   "outputs": [],
   "source": [
    "train_dir = 'C:/Users/ROG/OneDrive/桌面/FYP/Dataset/Train_data/train_data_after_washing.csv'\n",
    "test_dir = 'C:/Users/ROG/OneDrive/桌面/FYP/Dataset/Test_data/test_data_after_washing.csv'"
   ]
  },
  {
   "cell_type": "code",
   "execution_count": 2,
   "id": "2996adc6",
   "metadata": {
    "pycharm": {
     "name": "#%%\n"
    }
   },
   "outputs": [],
   "source": [
    "import os\n",
    "import shutil\n",
    "\n",
    "import tensorflow as tf\n",
    "import tensorflow_hub as hub\n",
    "import tensorflow_text as text\n",
    "from official.nlp import optimization  # to create AdamW optimizer\n",
    "\n",
    "import matplotlib.pyplot as plt\n",
    "import numpy as np\n",
    "import pandas as pd\n",
    "\n",
    "import seaborn as sns\n",
    "\n",
    "from sklearn.model_selection import StratifiedKFold\n",
    "from sklearn.metrics import confusion_matrix, roc_auc_score, recall_score, precision_score, cohen_kappa_score, roc_curve, auc, make_scorer, accuracy_score, f1_score \n",
    "tf.get_logger().setLevel('ERROR') # return ERROR messages, ignore others"
   ]
  },
  {
   "cell_type": "code",
   "execution_count": 3,
   "id": "64ae81f5",
   "metadata": {
    "pycharm": {
     "name": "#%%\n"
    }
   },
   "outputs": [],
   "source": [
    "def encode_one_hot(ori_dataframe):\n",
    "    dummies = pd.get_dummies(ori_dataframe.labels)\n",
    "    res = pd.concat([ori_dataframe, dummies], axis=1)\n",
    "    return res"
   ]
  },
  {
   "cell_type": "code",
   "execution_count": 4,
   "id": "e4e9545c",
   "metadata": {
    "pycharm": {
     "name": "#%%\n"
    }
   },
   "outputs": [],
   "source": [
    "data = pd.read_csv(train_dir)\n",
    "data = pd.DataFrame(data)\n",
    "test_data = pd.read_csv(test_dir)\n",
    "test_data = pd.DataFrame(test_data)\n",
    "train_data = pd.DataFrame()\n",
    "val_data = pd.DataFrame()\n",
    "data = data[[\"review\",\"rating\"]]\n",
    "test_data = test_data[[\"review\",\"rating\"]]"
   ]
  },
  {
   "cell_type": "code",
   "execution_count": 5,
   "id": "bf71b505",
   "metadata": {
    "pycharm": {
     "name": "#%%\n"
    }
   },
   "outputs": [],
   "source": [
    "data['labels'] = data['rating'].map({1 : 0,\n",
    "                                     2 : 0,\n",
    "                                     3 : 0,\n",
    "                                     4 : 0,\n",
    "                                     5 : 1,\n",
    "                                     6 : 1,\n",
    "                                     7 : 1,\n",
    "                                     8 : 1,\n",
    "                                     9 : 2,\n",
    "                                     10 : 2})"
   ]
  },
  {
   "cell_type": "code",
   "execution_count": 6,
   "id": "6565d257",
   "metadata": {
    "pycharm": {
     "name": "#%%\n"
    }
   },
   "outputs": [],
   "source": [
    "test_data['labels'] = test_data['rating'].map({1 : 0,\n",
    "                                               2 : 0,\n",
    "                                               3 : 0,\n",
    "                                               4 : 0,\n",
    "                                               5 : 1,\n",
    "                                               6 : 1,\n",
    "                                               7 : 1,\n",
    "                                               8 : 1,\n",
    "                                               9 : 2,\n",
    "                                               10 : 2})"
   ]
  },
  {
   "cell_type": "code",
   "execution_count": 7,
   "id": "58423f10",
   "metadata": {
    "pycharm": {
     "name": "#%%\n"
    }
   },
   "outputs": [],
   "source": [
    "data = data[[\"review\",\"labels\"]]\n",
    "test_data = test_data[[\"review\",\"labels\"]]"
   ]
  },
  {
   "cell_type": "code",
   "execution_count": 8,
   "id": "6bdcdc52",
   "metadata": {
    "pycharm": {
     "name": "#%%\n"
    }
   },
   "outputs": [],
   "source": [
    "#for i in range(1,4):\n",
    "#    condition = data['labels'] == i\n",
    "#    subset = data[condition].sample(frac=0.3)\n",
    "#    val_data = pd.concat([subset, val_data])\n",
    "\n",
    "#train_data = data [~data.index.isin(val_data.index)]"
   ]
  },
  {
   "cell_type": "code",
   "execution_count": 9,
   "id": "d185a9ed",
   "metadata": {
    "pycharm": {
     "name": "#%%\n"
    }
   },
   "outputs": [],
   "source": [
    "#train_data = encode_one_hot(train_data)\n",
    "#val_data = encode_one_hot(val_data)\n",
    "#test_data = encode_one_hot(test_data)\n",
    "#train_target = train_data[[1,2,3]]\n",
    "#val_target = val_data[[1,2,3]]\n",
    "#test_target = test_data[[1,2,3]]"
   ]
  },
  {
   "cell_type": "code",
   "execution_count": 10,
   "id": "e7c4b984",
   "metadata": {
    "pycharm": {
     "name": "#%%\n"
    }
   },
   "outputs": [],
   "source": [
    "X = data[\"review\"].to_numpy()\n",
    "y = data[\"labels\"].to_numpy()"
   ]
  },
  {
   "cell_type": "code",
   "execution_count": 14,
   "id": "7b515207",
   "metadata": {
    "pycharm": {
     "name": "#%%\n"
    }
   },
   "outputs": [],
   "source": [
    "def build_classifier_model():\n",
    "    text_input = tf.keras.layers.Input(shape=(), dtype=tf.string, name='text')\n",
    "    preprocessing_layer = hub.KerasLayer(tfhub_handle_preprocess, name='preprocessing')\n",
    "    encoder_inputs = preprocessing_layer(text_input)\n",
    "    encoder = hub.KerasLayer(tfhub_handle_encoder, trainable=True, name='BERT_encoder')\n",
    "    outputs = encoder(encoder_inputs)\n",
    "    net = outputs['pooled_output']\n",
    "    net = tf.keras.layers.Dropout(0.1)(net)\n",
    "    net = tf.keras.layers.Dense(128, activation='relu', name='classifier_dense_1')(net)\n",
    "    net = tf.keras.layers.Dense(128, activation='relu', name='classifier_dense_2')(net)\n",
    "    net = tf.keras.layers.Dense(128, activation='relu', name='classifier_dense_3')(net)\n",
    "    net = tf.keras.layers.Dense(128, activation='relu', name='classifier_dense_4')(net)\n",
    "    net = tf.keras.layers.Dense(3, activation='softmax', name='classifier_dense_5')(net)\n",
    "    return tf.keras.Model(text_input, net)"
   ]
  },
  {
   "cell_type": "code",
   "execution_count": 17,
   "id": "7a702f4f",
   "metadata": {
    "pycharm": {
     "name": "#%%\n"
    }
   },
   "outputs": [],
   "source": [
    "def ff_loss(y_true,y_pred):\n",
    "    alpha = tf.constant([[1],[1],[3]], dtype=tf.float32) #adjust weight for each label\n",
    "    gamma = 1.25\n",
    "    epsilon = 1.e-7\n",
    "    y_true = tf.cast(y_true, tf.float32)\n",
    "    y_pred = tf.clip_by_value(y_pred, epsilon, 1. - epsilon)\n",
    "    y_t = tf.multiply(y_true, y_pred) + tf.multiply(1-y_true, 1-y_pred)\n",
    "    ce = -tf.math.log(y_t)\n",
    "    weight = tf.pow(tf.subtract(1., y_t), gamma)\n",
    "    fl = tf.matmul(tf.multiply(weight, ce), alpha)\n",
    "    loss = tf.reduce_mean(fl)\n",
    "    loss = tf.abs(loss-0.10) + 0.10\n",
    "    loss = tf.convert_to_tensor(loss)\n",
    "    \n",
    "    return loss"
   ]
  },
  {
   "cell_type": "code",
   "execution_count": null,
   "id": "83549966",
   "metadata": {},
   "outputs": [],
   "source": [
    "def model_training():\n",
    "    tfhub_handle_encoder = 'https://tfhub.dev/tensorflow/albert_en_base/2'\n",
    "    tfhub_handle_preprocess = 'https://tfhub.dev/tensorflow/albert_en_preprocess/3'\n",
    "    bert_preprocess_model = hub.KerasLayer(tfhub_handle_preprocess)\n",
    "    bert_model = hub.KerasLayer(tfhub_handle_encoder)\n",
    "    classifier_model = build_classifier_model()\n",
    "    classifier_model.summary()\n",
    "    epochs = 150\n",
    "    steps_per_epoch = 0\n",
    "    for _ in x_train:\n",
    "        steps_per_epoch = steps_per_epoch + 1\n",
    "    num_train_steps = steps_per_epoch/24 * epochs\n",
    "    num_warmup_steps = int(0.1*num_train_steps)\n",
    "\n",
    "    init_lr = 3e-6\n",
    "    optimizer = optimization.create_optimizer(init_lr=init_lr,\n",
    "                                              num_train_steps=num_train_steps,\n",
    "                                              num_warmup_steps=num_warmup_steps,\n",
    "                                              optimizer_type='adamw')\n",
    "    classifier_model.compile(optimizer=optimizer,\n",
    "                             loss=ff_loss,\n",
    "                             metrics=[\"accuracy\", tf.keras.metrics.Recall(name='recall')])\n",
    "    checkpoint_path = 'C:/Users/ROG/OneDrive/桌面/FYP/Model/TWB_4_113_1.25/ckpt/cp.ckpt'\n",
    "    cp_callback = tf.keras.callbacks.ModelCheckpoint(checkpoint_path,\n",
    "                                                 save_weights_only=True,\n",
    "                                                 verbose=1)\n",
    "    csv_callback = tf.keras.callbacks.CSVLogger(\n",
    "    'C:/Users/ROG/OneDrive/桌面/FYP/Model/TWB_4_113_1.25/record.csv', separator=',', append=False\n",
    "    )\n",
    "    import time\n",
    "    t0 = time.time()\n",
    "    print(f'Training model with {tfhub_handle_encoder}')\n",
    "    print(f'Training model with {tfhub_handle_encoder}')\n",
    "    history = classifier_model.fit(x=x_train,\n",
    "                                   y=y_train,\n",
    "                                   validation_data=(x_val,y_val),\n",
    "                                   epochs=150,\n",
    "                                   batch_size=24,\n",
    "                                   callbacks=[cp_callback,csv_callback])\n",
    "    t1 = time.time()\n",
    "    time_train = t1-t0\n",
    "    "
   ]
  },
  {
   "cell_type": "code",
   "execution_count": 11,
   "id": "bb993ea8",
   "metadata": {
    "pycharm": {
     "name": "#%%\n"
    }
   },
   "outputs": [],
   "source": [
    "tfhub_handle_encoder = 'https://tfhub.dev/tensorflow/albert_en_base/2'\n",
    "tfhub_handle_preprocess = 'https://tfhub.dev/tensorflow/albert_en_preprocess/3'"
   ]
  },
  {
   "cell_type": "code",
   "execution_count": 12,
   "id": "1df94520",
   "metadata": {
    "pycharm": {
     "name": "#%%\n"
    },
    "scrolled": true
   },
   "outputs": [],
   "source": [
    "bert_preprocess_model = hub.KerasLayer(tfhub_handle_preprocess)"
   ]
  },
  {
   "cell_type": "code",
   "execution_count": 13,
   "id": "61d11624",
   "metadata": {
    "pycharm": {
     "name": "#%%\n"
    }
   },
   "outputs": [],
   "source": [
    "bert_model = hub.KerasLayer(tfhub_handle_encoder)"
   ]
  },
  {
   "cell_type": "code",
   "execution_count": 15,
   "id": "65f5eb1a",
   "metadata": {
    "pycharm": {
     "name": "#%%\n"
    }
   },
   "outputs": [],
   "source": [
    "classifier_model = build_classifier_model()"
   ]
  },
  {
   "cell_type": "code",
   "execution_count": 16,
   "id": "62b7865b",
   "metadata": {
    "pycharm": {
     "name": "#%%\n"
    }
   },
   "outputs": [
    {
     "name": "stdout",
     "output_type": "stream",
     "text": [
      "Model: \"model\"\n",
      "__________________________________________________________________________________________________\n",
      " Layer (type)                   Output Shape         Param #     Connected to                     \n",
      "==================================================================================================\n",
      " text (InputLayer)              [(None,)]            0           []                               \n",
      "                                                                                                  \n",
      " preprocessing (KerasLayer)     {'input_mask': (Non  0           ['text[0][0]']                   \n",
      "                                e, 128),                                                          \n",
      "                                 'input_type_ids':                                                \n",
      "                                (None, 128),                                                      \n",
      "                                 'input_word_ids':                                                \n",
      "                                (None, 128)}                                                      \n",
      "                                                                                                  \n",
      " BERT_encoder (KerasLayer)      {'sequence_output':  11683584    ['preprocessing[0][0]',          \n",
      "                                 (None, 128, 768),                'preprocessing[0][1]',          \n",
      "                                 'encoder_outputs':               'preprocessing[0][2]']          \n",
      "                                 [(None, 128, 768),                                               \n",
      "                                 (None, 128, 768),                                                \n",
      "                                 (None, 128, 768),                                                \n",
      "                                 (None, 128, 768),                                                \n",
      "                                 (None, 128, 768),                                                \n",
      "                                 (None, 128, 768),                                                \n",
      "                                 (None, 128, 768),                                                \n",
      "                                 (None, 128, 768),                                                \n",
      "                                 (None, 128, 768),                                                \n",
      "                                 (None, 128, 768),                                                \n",
      "                                 (None, 128, 768),                                                \n",
      "                                 (None, 128, 768)],                                               \n",
      "                                 'default': (None,                                                \n",
      "                                768),                                                             \n",
      "                                 'pooled_output': (                                               \n",
      "                                None, 768)}                                                       \n",
      "                                                                                                  \n",
      " dropout (Dropout)              (None, 768)          0           ['BERT_encoder[0][13]']          \n",
      "                                                                                                  \n",
      " classifier_dense_1 (Dense)     (None, 128)          98432       ['dropout[0][0]']                \n",
      "                                                                                                  \n",
      " classifier_dense_2 (Dense)     (None, 128)          16512       ['classifier_dense_1[0][0]']     \n",
      "                                                                                                  \n",
      " classifier_dense_3 (Dense)     (None, 128)          16512       ['classifier_dense_2[0][0]']     \n",
      "                                                                                                  \n",
      " classifier_dense_4 (Dense)     (None, 128)          16512       ['classifier_dense_3[0][0]']     \n",
      "                                                                                                  \n",
      " classifier_dense_5 (Dense)     (None, 3)            387         ['classifier_dense_4[0][0]']     \n",
      "                                                                                                  \n",
      "==================================================================================================\n",
      "Total params: 11,831,939\n",
      "Trainable params: 11,831,939\n",
      "Non-trainable params: 0\n",
      "__________________________________________________________________________________________________\n"
     ]
    }
   ],
   "source": [
    "classifier_model.summary()"
   ]
  },
  {
   "cell_type": "code",
   "execution_count": 18,
   "id": "5fa37087",
   "metadata": {
    "pycharm": {
     "name": "#%%\n"
    }
   },
   "outputs": [],
   "source": [
    "epochs = 150\n",
    "steps_per_epoch = 0\n",
    "for _ in x_train:\n",
    "    steps_per_epoch = steps_per_epoch + 1\n",
    "num_train_steps = steps_per_epoch/24 * epochs\n",
    "num_warmup_steps = int(0.1*num_train_steps)\n",
    "\n",
    "init_lr = 3e-6\n",
    "optimizer = optimization.create_optimizer(init_lr=init_lr,\n",
    "                                          num_train_steps=num_train_steps,\n",
    "                                          num_warmup_steps=num_warmup_steps,\n",
    "                                          optimizer_type='adamw')"
   ]
  },
  {
   "cell_type": "code",
   "execution_count": 19,
   "id": "33c60bb7",
   "metadata": {
    "pycharm": {
     "name": "#%%\n"
    }
   },
   "outputs": [],
   "source": [
    "classifier_model.compile(optimizer=optimizer,\n",
    "                         loss=ff_loss,\n",
    "                         metrics=[\"accuracy\", tf.keras.metrics.Recall(name='recall')])"
   ]
  },
  {
   "cell_type": "code",
   "execution_count": 20,
   "id": "f28609a1",
   "metadata": {
    "pycharm": {
     "name": "#%%\n"
    }
   },
   "outputs": [],
   "source": [
    "#classifier_model.load_weights('C:/Users/ROG/OneDrive/桌面/FYP/Model/TWB_4_10.51_0.25/ckpt/cp.ckpt')"
   ]
  },
  {
   "cell_type": "code",
   "execution_count": 21,
   "id": "9921b405",
   "metadata": {
    "pycharm": {
     "name": "#%%\n"
    }
   },
   "outputs": [],
   "source": [
    "checkpoint_path = 'C:/Users/ROG/OneDrive/桌面/FYP/Model/TWB_4_113_1.25/ckpt/cp.ckpt'\n",
    "cp_callback = tf.keras.callbacks.ModelCheckpoint(checkpoint_path,\n",
    "                                                 save_weights_only=True,\n",
    "                                                 verbose=1)"
   ]
  },
  {
   "cell_type": "code",
   "execution_count": 22,
   "id": "f41a4ea9",
   "metadata": {
    "pycharm": {
     "name": "#%%\n"
    }
   },
   "outputs": [],
   "source": [
    "csv_callback = tf.keras.callbacks.CSVLogger(\n",
    "    'C:/Users/ROG/OneDrive/桌面/FYP/Model/TWB_4_113_1.25/record.csv', separator=',', append=False\n",
    ")"
   ]
  },
  {
   "cell_type": "code",
   "execution_count": 23,
   "id": "ada1b039",
   "metadata": {
    "pycharm": {
     "name": "#%%\n"
    },
    "scrolled": true
   },
   "outputs": [
    {
     "name": "stdout",
     "output_type": "stream",
     "text": [
      "Training model with https://tfhub.dev/tensorflow/albert_en_base/2\n",
      "Training model with https://tfhub.dev/tensorflow/albert_en_base/2\n",
      "Epoch 1/150\n",
      "917/917 [==============================] - ETA: 0s - loss: 1.7147 - accuracy: 0.3593 - recall: 0.0014\n",
      "Epoch 1: saving model to C:/Users/ROG/OneDrive/桌面/FYP/Model/TWB_4_113_1.25/ckpt\\cp.ckpt\n",
      "917/917 [==============================] - 266s 282ms/step - loss: 1.7147 - accuracy: 0.3593 - recall: 0.0014 - val_loss: 1.4121 - val_accuracy: 0.5124 - val_recall: 0.0000e+00\n",
      "Epoch 2/150\n",
      "917/917 [==============================] - ETA: 0s - loss: 1.3941 - accuracy: 0.5128 - recall: 0.0919\n",
      "Epoch 2: saving model to C:/Users/ROG/OneDrive/桌面/FYP/Model/TWB_4_113_1.25/ckpt\\cp.ckpt\n",
      "917/917 [==============================] - 257s 281ms/step - loss: 1.3941 - accuracy: 0.5128 - recall: 0.0919 - val_loss: 1.3427 - val_accuracy: 0.5123 - val_recall: 0.3556\n",
      "Epoch 3/150\n",
      "917/917 [==============================] - ETA: 0s - loss: 1.2366 - accuracy: 0.5469 - recall: 0.3140\n",
      "Epoch 3: saving model to C:/Users/ROG/OneDrive/桌面/FYP/Model/TWB_4_113_1.25/ckpt\\cp.ckpt\n",
      "917/917 [==============================] - 258s 281ms/step - loss: 1.2366 - accuracy: 0.5469 - recall: 0.3140 - val_loss: 1.1563 - val_accuracy: 0.6037 - val_recall: 0.4277\n",
      "Epoch 4/150\n",
      "917/917 [==============================] - ETA: 0s - loss: 1.0871 - accuracy: 0.6304 - recall: 0.3905\n",
      "Epoch 4: saving model to C:/Users/ROG/OneDrive/桌面/FYP/Model/TWB_4_113_1.25/ckpt\\cp.ckpt\n",
      "917/917 [==============================] - 258s 281ms/step - loss: 1.0871 - accuracy: 0.6304 - recall: 0.3905 - val_loss: 1.0314 - val_accuracy: 0.6608 - val_recall: 0.4224\n",
      "Epoch 5/150\n",
      "917/917 [==============================] - ETA: 0s - loss: 0.9943 - accuracy: 0.6760 - recall: 0.4398\n",
      "Epoch 5: saving model to C:/Users/ROG/OneDrive/桌面/FYP/Model/TWB_4_113_1.25/ckpt\\cp.ckpt\n",
      "917/917 [==============================] - 257s 280ms/step - loss: 0.9943 - accuracy: 0.6760 - recall: 0.4398 - val_loss: 0.9604 - val_accuracy: 0.6875 - val_recall: 0.5080\n",
      "Epoch 6/150\n",
      "917/917 [==============================] - ETA: 0s - loss: 0.9128 - accuracy: 0.7118 - recall: 0.5192\n",
      "Epoch 6: saving model to C:/Users/ROG/OneDrive/桌面/FYP/Model/TWB_4_113_1.25/ckpt\\cp.ckpt\n",
      "917/917 [==============================] - 255s 278ms/step - loss: 0.9128 - accuracy: 0.7118 - recall: 0.5192 - val_loss: 0.9343 - val_accuracy: 0.7068 - val_recall: 0.5666\n",
      "Epoch 7/150\n",
      "917/917 [==============================] - ETA: 0s - loss: 0.8372 - accuracy: 0.7440 - recall: 0.5851\n",
      "Epoch 7: saving model to C:/Users/ROG/OneDrive/桌面/FYP/Model/TWB_4_113_1.25/ckpt\\cp.ckpt\n",
      "917/917 [==============================] - 256s 279ms/step - loss: 0.8372 - accuracy: 0.7440 - recall: 0.5851 - val_loss: 0.8995 - val_accuracy: 0.7316 - val_recall: 0.6174\n",
      "Epoch 8/150\n",
      "917/917 [==============================] - ETA: 0s - loss: 0.7471 - accuracy: 0.7811 - recall: 0.6688\n",
      "Epoch 8: saving model to C:/Users/ROG/OneDrive/桌面/FYP/Model/TWB_4_113_1.25/ckpt\\cp.ckpt\n",
      "917/917 [==============================] - 256s 279ms/step - loss: 0.7471 - accuracy: 0.7811 - recall: 0.6688 - val_loss: 0.9145 - val_accuracy: 0.7371 - val_recall: 0.6645\n",
      "Epoch 9/150\n",
      "917/917 [==============================] - ETA: 0s - loss: 0.6588 - accuracy: 0.8104 - recall: 0.7345\n",
      "Epoch 9: saving model to C:/Users/ROG/OneDrive/桌面/FYP/Model/TWB_4_113_1.25/ckpt\\cp.ckpt\n",
      "917/917 [==============================] - 255s 278ms/step - loss: 0.6588 - accuracy: 0.8104 - recall: 0.7345 - val_loss: 0.9012 - val_accuracy: 0.7482 - val_recall: 0.6915\n",
      "Epoch 10/150\n",
      "917/917 [==============================] - ETA: 0s - loss: 0.5703 - accuracy: 0.8381 - recall: 0.7883\n",
      "Epoch 10: saving model to C:/Users/ROG/OneDrive/桌面/FYP/Model/TWB_4_113_1.25/ckpt\\cp.ckpt\n",
      "917/917 [==============================] - 255s 278ms/step - loss: 0.5703 - accuracy: 0.8381 - recall: 0.7883 - val_loss: 0.9664 - val_accuracy: 0.7550 - val_recall: 0.7118\n",
      "Epoch 11/150\n",
      "917/917 [==============================] - ETA: 0s - loss: 0.4918 - accuracy: 0.8634 - recall: 0.8306\n",
      "Epoch 11: saving model to C:/Users/ROG/OneDrive/桌面/FYP/Model/TWB_4_113_1.25/ckpt\\cp.ckpt\n",
      "917/917 [==============================] - 255s 279ms/step - loss: 0.4918 - accuracy: 0.8634 - recall: 0.8306 - val_loss: 1.0587 - val_accuracy: 0.7603 - val_recall: 0.7375\n",
      "Epoch 12/150\n",
      "917/917 [==============================] - ETA: 0s - loss: 0.4285 - accuracy: 0.8787 - recall: 0.8529\n",
      "Epoch 12: saving model to C:/Users/ROG/OneDrive/桌面/FYP/Model/TWB_4_113_1.25/ckpt\\cp.ckpt\n",
      "917/917 [==============================] - 256s 279ms/step - loss: 0.4285 - accuracy: 0.8787 - recall: 0.8529 - val_loss: 1.1489 - val_accuracy: 0.7693 - val_recall: 0.7465\n",
      "Epoch 13/150\n",
      "917/917 [==============================] - ETA: 0s - loss: 0.3882 - accuracy: 0.8927 - recall: 0.8716\n",
      "Epoch 13: saving model to C:/Users/ROG/OneDrive/桌面/FYP/Model/TWB_4_113_1.25/ckpt\\cp.ckpt\n",
      "917/917 [==============================] - 255s 278ms/step - loss: 0.3882 - accuracy: 0.8927 - recall: 0.8716 - val_loss: 1.1099 - val_accuracy: 0.7766 - val_recall: 0.7554\n",
      "Epoch 14/150\n",
      "917/917 [==============================] - ETA: 0s - loss: 0.3528 - accuracy: 0.9035 - recall: 0.8863\n",
      "Epoch 14: saving model to C:/Users/ROG/OneDrive/桌面/FYP/Model/TWB_4_113_1.25/ckpt\\cp.ckpt\n",
      "917/917 [==============================] - 256s 279ms/step - loss: 0.3528 - accuracy: 0.9035 - recall: 0.8863 - val_loss: 1.1863 - val_accuracy: 0.7693 - val_recall: 0.7523\n",
      "Epoch 15/150\n",
      "917/917 [==============================] - ETA: 0s - loss: 0.3499 - accuracy: 0.9046 - recall: 0.8856\n",
      "Epoch 15: saving model to C:/Users/ROG/OneDrive/桌面/FYP/Model/TWB_4_113_1.25/ckpt\\cp.ckpt\n",
      "917/917 [==============================] - 256s 279ms/step - loss: 0.3499 - accuracy: 0.9046 - recall: 0.8856 - val_loss: 1.1304 - val_accuracy: 0.7738 - val_recall: 0.7573\n",
      "Epoch 16/150\n",
      "917/917 [==============================] - ETA: 0s - loss: 0.3148 - accuracy: 0.9148 - recall: 0.8963\n",
      "Epoch 16: saving model to C:/Users/ROG/OneDrive/桌面/FYP/Model/TWB_4_113_1.25/ckpt\\cp.ckpt\n",
      "917/917 [==============================] - 256s 279ms/step - loss: 0.3148 - accuracy: 0.9148 - recall: 0.8963 - val_loss: 1.1990 - val_accuracy: 0.7716 - val_recall: 0.7562\n",
      "Epoch 17/150\n",
      "917/917 [==============================] - ETA: 0s - loss: 0.2932 - accuracy: 0.9242 - recall: 0.9048\n",
      "Epoch 17: saving model to C:/Users/ROG/OneDrive/桌面/FYP/Model/TWB_4_113_1.25/ckpt\\cp.ckpt\n",
      "917/917 [==============================] - 255s 278ms/step - loss: 0.2932 - accuracy: 0.9242 - recall: 0.9048 - val_loss: 1.1246 - val_accuracy: 0.7832 - val_recall: 0.7671\n",
      "Epoch 18/150\n",
      "917/917 [==============================] - ETA: 0s - loss: 0.2815 - accuracy: 0.9271 - recall: 0.9092\n",
      "Epoch 18: saving model to C:/Users/ROG/OneDrive/桌面/FYP/Model/TWB_4_113_1.25/ckpt\\cp.ckpt\n",
      "917/917 [==============================] - 255s 278ms/step - loss: 0.2815 - accuracy: 0.9271 - recall: 0.9092 - val_loss: 1.1163 - val_accuracy: 0.7823 - val_recall: 0.7669\n",
      "Epoch 19/150\n",
      "917/917 [==============================] - ETA: 0s - loss: 0.2658 - accuracy: 0.9325 - recall: 0.9167\n",
      "Epoch 19: saving model to C:/Users/ROG/OneDrive/桌面/FYP/Model/TWB_4_113_1.25/ckpt\\cp.ckpt\n",
      "917/917 [==============================] - 255s 278ms/step - loss: 0.2658 - accuracy: 0.9325 - recall: 0.9167 - val_loss: 1.1118 - val_accuracy: 0.7833 - val_recall: 0.7633\n",
      "Epoch 20/150\n",
      "917/917 [==============================] - ETA: 0s - loss: 0.2424 - accuracy: 0.9417 - recall: 0.9246\n",
      "Epoch 20: saving model to C:/Users/ROG/OneDrive/桌面/FYP/Model/TWB_4_113_1.25/ckpt\\cp.ckpt\n",
      "917/917 [==============================] - 254s 277ms/step - loss: 0.2424 - accuracy: 0.9417 - recall: 0.9246 - val_loss: 1.1148 - val_accuracy: 0.7908 - val_recall: 0.7767\n",
      "Epoch 21/150\n",
      "917/917 [==============================] - ETA: 0s - loss: 0.2437 - accuracy: 0.9419 - recall: 0.9258\n",
      "Epoch 21: saving model to C:/Users/ROG/OneDrive/桌面/FYP/Model/TWB_4_113_1.25/ckpt\\cp.ckpt\n",
      "917/917 [==============================] - 255s 278ms/step - loss: 0.2437 - accuracy: 0.9419 - recall: 0.9258 - val_loss: 1.1167 - val_accuracy: 0.7832 - val_recall: 0.7698\n",
      "Epoch 22/150\n",
      "917/917 [==============================] - ETA: 0s - loss: 0.2299 - accuracy: 0.9481 - recall: 0.9308\n",
      "Epoch 22: saving model to C:/Users/ROG/OneDrive/桌面/FYP/Model/TWB_4_113_1.25/ckpt\\cp.ckpt\n"
     ]
    },
    {
     "name": "stdout",
     "output_type": "stream",
     "text": [
      "917/917 [==============================] - 255s 279ms/step - loss: 0.2299 - accuracy: 0.9481 - recall: 0.9308 - val_loss: 1.0858 - val_accuracy: 0.7945 - val_recall: 0.7810\n",
      "Epoch 23/150\n",
      "917/917 [==============================] - ETA: 0s - loss: 0.2381 - accuracy: 0.9459 - recall: 0.9296\n",
      "Epoch 23: saving model to C:/Users/ROG/OneDrive/桌面/FYP/Model/TWB_4_113_1.25/ckpt\\cp.ckpt\n",
      "917/917 [==============================] - 256s 279ms/step - loss: 0.2381 - accuracy: 0.9459 - recall: 0.9296 - val_loss: 1.0589 - val_accuracy: 0.7931 - val_recall: 0.7777\n",
      "Epoch 24/150\n",
      "917/917 [==============================] - ETA: 0s - loss: 0.2246 - accuracy: 0.9486 - recall: 0.9328\n",
      "Epoch 24: saving model to C:/Users/ROG/OneDrive/桌面/FYP/Model/TWB_4_113_1.25/ckpt\\cp.ckpt\n",
      "917/917 [==============================] - 255s 278ms/step - loss: 0.2246 - accuracy: 0.9486 - recall: 0.9328 - val_loss: 1.0392 - val_accuracy: 0.7924 - val_recall: 0.7780\n",
      "Epoch 25/150\n",
      "917/917 [==============================] - ETA: 0s - loss: 0.2124 - accuracy: 0.9532 - recall: 0.9376\n",
      "Epoch 25: saving model to C:/Users/ROG/OneDrive/桌面/FYP/Model/TWB_4_113_1.25/ckpt\\cp.ckpt\n",
      "917/917 [==============================] - 255s 278ms/step - loss: 0.2124 - accuracy: 0.9532 - recall: 0.9376 - val_loss: 1.0294 - val_accuracy: 0.7935 - val_recall: 0.7821\n",
      "Epoch 26/150\n",
      "917/917 [==============================] - ETA: 0s - loss: 0.1975 - accuracy: 0.9589 - recall: 0.9420\n",
      "Epoch 26: saving model to C:/Users/ROG/OneDrive/桌面/FYP/Model/TWB_4_113_1.25/ckpt\\cp.ckpt\n",
      "917/917 [==============================] - 255s 279ms/step - loss: 0.1975 - accuracy: 0.9589 - recall: 0.9420 - val_loss: 1.0270 - val_accuracy: 0.7969 - val_recall: 0.7811\n",
      "Epoch 27/150\n",
      "917/917 [==============================] - ETA: 0s - loss: 0.2019 - accuracy: 0.9598 - recall: 0.9444\n",
      "Epoch 27: saving model to C:/Users/ROG/OneDrive/桌面/FYP/Model/TWB_4_113_1.25/ckpt\\cp.ckpt\n",
      "917/917 [==============================] - 256s 279ms/step - loss: 0.2019 - accuracy: 0.9598 - recall: 0.9444 - val_loss: 0.9960 - val_accuracy: 0.7928 - val_recall: 0.7818\n",
      "Epoch 28/150\n",
      "917/917 [==============================] - ETA: 0s - loss: 0.1969 - accuracy: 0.9609 - recall: 0.9446\n",
      "Epoch 28: saving model to C:/Users/ROG/OneDrive/桌面/FYP/Model/TWB_4_113_1.25/ckpt\\cp.ckpt\n",
      "917/917 [==============================] - 255s 279ms/step - loss: 0.1969 - accuracy: 0.9609 - recall: 0.9446 - val_loss: 1.0336 - val_accuracy: 0.7908 - val_recall: 0.7809\n",
      "Epoch 29/150\n",
      "917/917 [==============================] - ETA: 0s - loss: 0.1909 - accuracy: 0.9629 - recall: 0.9472\n",
      "Epoch 29: saving model to C:/Users/ROG/OneDrive/桌面/FYP/Model/TWB_4_113_1.25/ckpt\\cp.ckpt\n",
      "917/917 [==============================] - 255s 278ms/step - loss: 0.1909 - accuracy: 0.9629 - recall: 0.9472 - val_loss: 1.0871 - val_accuracy: 0.7756 - val_recall: 0.7635\n",
      "Epoch 30/150\n",
      "917/917 [==============================] - ETA: 0s - loss: 0.1784 - accuracy: 0.9680 - recall: 0.9548\n",
      "Epoch 30: saving model to C:/Users/ROG/OneDrive/桌面/FYP/Model/TWB_4_113_1.25/ckpt\\cp.ckpt\n",
      "917/917 [==============================] - 256s 279ms/step - loss: 0.1784 - accuracy: 0.9680 - recall: 0.9548 - val_loss: 0.9755 - val_accuracy: 0.8007 - val_recall: 0.7893\n",
      "Epoch 31/150\n",
      "917/917 [==============================] - ETA: 0s - loss: 0.1800 - accuracy: 0.9674 - recall: 0.9558\n",
      "Epoch 31: saving model to C:/Users/ROG/OneDrive/桌面/FYP/Model/TWB_4_113_1.25/ckpt\\cp.ckpt\n",
      "917/917 [==============================] - 256s 279ms/step - loss: 0.1800 - accuracy: 0.9674 - recall: 0.9558 - val_loss: 1.1030 - val_accuracy: 0.7796 - val_recall: 0.7704\n",
      "Epoch 32/150\n",
      "917/917 [==============================] - ETA: 0s - loss: 0.1785 - accuracy: 0.9697 - recall: 0.9592\n",
      "Epoch 32: saving model to C:/Users/ROG/OneDrive/桌面/FYP/Model/TWB_4_113_1.25/ckpt\\cp.ckpt\n",
      "917/917 [==============================] - 255s 278ms/step - loss: 0.1785 - accuracy: 0.9697 - recall: 0.9592 - val_loss: 0.9865 - val_accuracy: 0.8020 - val_recall: 0.7906\n",
      "Epoch 33/150\n",
      "917/917 [==============================] - ETA: 0s - loss: 0.1693 - accuracy: 0.9719 - recall: 0.9618\n",
      "Epoch 33: saving model to C:/Users/ROG/OneDrive/桌面/FYP/Model/TWB_4_113_1.25/ckpt\\cp.ckpt\n",
      "917/917 [==============================] - 255s 278ms/step - loss: 0.1693 - accuracy: 0.9719 - recall: 0.9618 - val_loss: 0.9533 - val_accuracy: 0.8017 - val_recall: 0.7919\n",
      "Epoch 34/150\n",
      "917/917 [==============================] - ETA: 0s - loss: 0.1686 - accuracy: 0.9730 - recall: 0.9617\n",
      "Epoch 34: saving model to C:/Users/ROG/OneDrive/桌面/FYP/Model/TWB_4_113_1.25/ckpt\\cp.ckpt\n",
      "917/917 [==============================] - 255s 278ms/step - loss: 0.1686 - accuracy: 0.9730 - recall: 0.9617 - val_loss: 0.9795 - val_accuracy: 0.7993 - val_recall: 0.7902\n",
      "Epoch 35/150\n",
      "917/917 [==============================] - ETA: 0s - loss: 0.1637 - accuracy: 0.9760 - recall: 0.9680\n",
      "Epoch 35: saving model to C:/Users/ROG/OneDrive/桌面/FYP/Model/TWB_4_113_1.25/ckpt\\cp.ckpt\n",
      "917/917 [==============================] - 256s 279ms/step - loss: 0.1637 - accuracy: 0.9760 - recall: 0.9680 - val_loss: 0.9212 - val_accuracy: 0.8048 - val_recall: 0.7955\n",
      "Epoch 36/150\n",
      "917/917 [==============================] - ETA: 0s - loss: 0.1587 - accuracy: 0.9771 - recall: 0.9694\n",
      "Epoch 36: saving model to C:/Users/ROG/OneDrive/桌面/FYP/Model/TWB_4_113_1.25/ckpt\\cp.ckpt\n",
      "917/917 [==============================] - 255s 278ms/step - loss: 0.1587 - accuracy: 0.9771 - recall: 0.9694 - val_loss: 0.9912 - val_accuracy: 0.7990 - val_recall: 0.7897\n",
      "Epoch 37/150\n",
      "917/917 [==============================] - ETA: 0s - loss: 0.1539 - accuracy: 0.9795 - recall: 0.9727\n",
      "Epoch 37: saving model to C:/Users/ROG/OneDrive/桌面/FYP/Model/TWB_4_113_1.25/ckpt\\cp.ckpt\n",
      "917/917 [==============================] - 255s 279ms/step - loss: 0.1539 - accuracy: 0.9795 - recall: 0.9727 - val_loss: 0.9225 - val_accuracy: 0.8111 - val_recall: 0.8032\n",
      "Epoch 38/150\n",
      "917/917 [==============================] - ETA: 0s - loss: 0.1526 - accuracy: 0.9797 - recall: 0.9729\n",
      "Epoch 38: saving model to C:/Users/ROG/OneDrive/桌面/FYP/Model/TWB_4_113_1.25/ckpt\\cp.ckpt\n",
      "917/917 [==============================] - 255s 279ms/step - loss: 0.1526 - accuracy: 0.9797 - recall: 0.9729 - val_loss: 0.9453 - val_accuracy: 0.8074 - val_recall: 0.8010\n",
      "Epoch 39/150\n",
      "917/917 [==============================] - ETA: 0s - loss: 0.1505 - accuracy: 0.9824 - recall: 0.9774\n",
      "Epoch 39: saving model to C:/Users/ROG/OneDrive/桌面/FYP/Model/TWB_4_113_1.25/ckpt\\cp.ckpt\n",
      "917/917 [==============================] - 256s 279ms/step - loss: 0.1505 - accuracy: 0.9824 - recall: 0.9774 - val_loss: 0.9324 - val_accuracy: 0.8047 - val_recall: 0.7985\n",
      "Epoch 40/150\n",
      "917/917 [==============================] - ETA: 0s - loss: 0.1459 - accuracy: 0.9850 - recall: 0.9809\n",
      "Epoch 40: saving model to C:/Users/ROG/OneDrive/桌面/FYP/Model/TWB_4_113_1.25/ckpt\\cp.ckpt\n",
      "917/917 [==============================] - 255s 278ms/step - loss: 0.1459 - accuracy: 0.9850 - recall: 0.9809 - val_loss: 1.0843 - val_accuracy: 0.7901 - val_recall: 0.7823\n",
      "Epoch 41/150\n",
      "917/917 [==============================] - ETA: 0s - loss: 0.1422 - accuracy: 0.9857 - recall: 0.9809\n",
      "Epoch 41: saving model to C:/Users/ROG/OneDrive/桌面/FYP/Model/TWB_4_113_1.25/ckpt\\cp.ckpt\n",
      "917/917 [==============================] - 255s 278ms/step - loss: 0.1422 - accuracy: 0.9857 - recall: 0.9809 - val_loss: 0.9299 - val_accuracy: 0.8082 - val_recall: 0.8044\n",
      "Epoch 42/150\n",
      "917/917 [==============================] - ETA: 0s - loss: 0.1422 - accuracy: 0.9857 - recall: 0.9819\n",
      "Epoch 42: saving model to C:/Users/ROG/OneDrive/桌面/FYP/Model/TWB_4_113_1.25/ckpt\\cp.ckpt\n",
      "917/917 [==============================] - 256s 279ms/step - loss: 0.1422 - accuracy: 0.9857 - recall: 0.9819 - val_loss: 0.9457 - val_accuracy: 0.8067 - val_recall: 0.8019\n",
      "Epoch 43/150\n",
      "917/917 [==============================] - ETA: 0s - loss: 0.1442 - accuracy: 0.9859 - recall: 0.9831\n",
      "Epoch 43: saving model to C:/Users/ROG/OneDrive/桌面/FYP/Model/TWB_4_113_1.25/ckpt\\cp.ckpt\n",
      "917/917 [==============================] - 256s 279ms/step - loss: 0.1442 - accuracy: 0.9859 - recall: 0.9831 - val_loss: 0.9388 - val_accuracy: 0.8091 - val_recall: 0.8047\n",
      "Epoch 44/150\n",
      "917/917 [==============================] - ETA: 0s - loss: 0.1379 - accuracy: 0.9874 - recall: 0.9841\n",
      "Epoch 44: saving model to C:/Users/ROG/OneDrive/桌面/FYP/Model/TWB_4_113_1.25/ckpt\\cp.ckpt\n",
      "917/917 [==============================] - 255s 278ms/step - loss: 0.1379 - accuracy: 0.9874 - recall: 0.9841 - val_loss: 0.9195 - val_accuracy: 0.8098 - val_recall: 0.8038\n",
      "Epoch 45/150\n",
      "917/917 [==============================] - ETA: 0s - loss: 0.1354 - accuracy: 0.9887 - recall: 0.9867\n",
      "Epoch 45: saving model to C:/Users/ROG/OneDrive/桌面/FYP/Model/TWB_4_113_1.25/ckpt\\cp.ckpt\n",
      "917/917 [==============================] - 255s 278ms/step - loss: 0.1354 - accuracy: 0.9887 - recall: 0.9867 - val_loss: 0.9098 - val_accuracy: 0.8105 - val_recall: 0.8054\n",
      "Epoch 46/150\n",
      "917/917 [==============================] - ETA: 0s - loss: 0.1353 - accuracy: 0.9888 - recall: 0.9865\n",
      "Epoch 46: saving model to C:/Users/ROG/OneDrive/桌面/FYP/Model/TWB_4_113_1.25/ckpt\\cp.ckpt\n",
      "917/917 [==============================] - 256s 279ms/step - loss: 0.1353 - accuracy: 0.9888 - recall: 0.9865 - val_loss: 0.9184 - val_accuracy: 0.8075 - val_recall: 0.8032\n",
      "Epoch 47/150\n",
      "917/917 [==============================] - ETA: 0s - loss: 0.1353 - accuracy: 0.9893 - recall: 0.9870\n",
      "Epoch 47: saving model to C:/Users/ROG/OneDrive/桌面/FYP/Model/TWB_4_113_1.25/ckpt\\cp.ckpt\n",
      "917/917 [==============================] - 255s 279ms/step - loss: 0.1353 - accuracy: 0.9893 - recall: 0.9870 - val_loss: 0.8941 - val_accuracy: 0.8108 - val_recall: 0.8070\n",
      "Epoch 48/150\n",
      "917/917 [==============================] - ETA: 0s - loss: 0.1324 - accuracy: 0.9896 - recall: 0.9881\n",
      "Epoch 48: saving model to C:/Users/ROG/OneDrive/桌面/FYP/Model/TWB_4_113_1.25/ckpt\\cp.ckpt\n",
      "917/917 [==============================] - 255s 278ms/step - loss: 0.1324 - accuracy: 0.9896 - recall: 0.9881 - val_loss: 0.8784 - val_accuracy: 0.8134 - val_recall: 0.8076\n",
      "Epoch 49/150\n",
      "917/917 [==============================] - ETA: 0s - loss: 0.1309 - accuracy: 0.9915 - recall: 0.9900\n",
      "Epoch 49: saving model to C:/Users/ROG/OneDrive/桌面/FYP/Model/TWB_4_113_1.25/ckpt\\cp.ckpt\n",
      "917/917 [==============================] - 254s 277ms/step - loss: 0.1309 - accuracy: 0.9915 - recall: 0.9900 - val_loss: 0.9050 - val_accuracy: 0.8150 - val_recall: 0.8108\n",
      "Epoch 50/150\n",
      "917/917 [==============================] - ETA: 0s - loss: 0.1271 - accuracy: 0.9922 - recall: 0.9907\n",
      "Epoch 50: saving model to C:/Users/ROG/OneDrive/桌面/FYP/Model/TWB_4_113_1.25/ckpt\\cp.ckpt\n",
      "917/917 [==============================] - 255s 279ms/step - loss: 0.1271 - accuracy: 0.9922 - recall: 0.9907 - val_loss: 0.8986 - val_accuracy: 0.8126 - val_recall: 0.8084\n",
      "Epoch 51/150\n",
      "917/917 [==============================] - ETA: 0s - loss: 0.1249 - accuracy: 0.9928 - recall: 0.9910\n",
      "Epoch 51: saving model to C:/Users/ROG/OneDrive/桌面/FYP/Model/TWB_4_113_1.25/ckpt\\cp.ckpt\n",
      "917/917 [==============================] - 256s 279ms/step - loss: 0.1249 - accuracy: 0.9928 - recall: 0.9910 - val_loss: 0.9399 - val_accuracy: 0.8063 - val_recall: 0.8007\n",
      "Epoch 52/150\n",
      "917/917 [==============================] - ETA: 0s - loss: 0.1246 - accuracy: 0.9937 - recall: 0.9923\n",
      "Epoch 52: saving model to C:/Users/ROG/OneDrive/桌面/FYP/Model/TWB_4_113_1.25/ckpt\\cp.ckpt\n",
      "917/917 [==============================] - 255s 278ms/step - loss: 0.1246 - accuracy: 0.9937 - recall: 0.9923 - val_loss: 0.9182 - val_accuracy: 0.8087 - val_recall: 0.8038\n",
      "Epoch 53/150\n",
      "917/917 [==============================] - ETA: 0s - loss: 0.1249 - accuracy: 0.9930 - recall: 0.9917\n",
      "Epoch 53: saving model to C:/Users/ROG/OneDrive/桌面/FYP/Model/TWB_4_113_1.25/ckpt\\cp.ckpt\n",
      "917/917 [==============================] - 255s 278ms/step - loss: 0.1249 - accuracy: 0.9930 - recall: 0.9917 - val_loss: 0.9096 - val_accuracy: 0.8059 - val_recall: 0.8015\n",
      "Epoch 54/150\n",
      "917/917 [==============================] - ETA: 0s - loss: 0.1279 - accuracy: 0.9922 - recall: 0.9916\n",
      "Epoch 54: saving model to C:/Users/ROG/OneDrive/桌面/FYP/Model/TWB_4_113_1.25/ckpt\\cp.ckpt\n",
      "917/917 [==============================] - 255s 279ms/step - loss: 0.1279 - accuracy: 0.9922 - recall: 0.9916 - val_loss: 0.9155 - val_accuracy: 0.8088 - val_recall: 0.8047\n",
      "Epoch 55/150\n",
      "917/917 [==============================] - ETA: 0s - loss: 0.1249 - accuracy: 0.9929 - recall: 0.9920\n",
      "Epoch 55: saving model to C:/Users/ROG/OneDrive/桌面/FYP/Model/TWB_4_113_1.25/ckpt\\cp.ckpt\n",
      "917/917 [==============================] - 256s 279ms/step - loss: 0.1249 - accuracy: 0.9929 - recall: 0.9920 - val_loss: 0.8971 - val_accuracy: 0.8129 - val_recall: 0.8100\n",
      "Epoch 56/150\n",
      "917/917 [==============================] - ETA: 0s - loss: 0.1255 - accuracy: 0.9927 - recall: 0.9915\n",
      "Epoch 56: saving model to C:/Users/ROG/OneDrive/桌面/FYP/Model/TWB_4_113_1.25/ckpt\\cp.ckpt\n",
      "917/917 [==============================] - 255s 278ms/step - loss: 0.1255 - accuracy: 0.9927 - recall: 0.9915 - val_loss: 0.8784 - val_accuracy: 0.8187 - val_recall: 0.8143\n",
      "Epoch 57/150\n",
      "917/917 [==============================] - ETA: 0s - loss: 0.1258 - accuracy: 0.9926 - recall: 0.9914\n",
      "Epoch 57: saving model to C:/Users/ROG/OneDrive/桌面/FYP/Model/TWB_4_113_1.25/ckpt\\cp.ckpt\n",
      "917/917 [==============================] - 255s 279ms/step - loss: 0.1258 - accuracy: 0.9926 - recall: 0.9914 - val_loss: 0.9224 - val_accuracy: 0.8102 - val_recall: 0.8051\n",
      "Epoch 58/150\n",
      "917/917 [==============================] - ETA: 0s - loss: 0.1217 - accuracy: 0.9944 - recall: 0.9935\n",
      "Epoch 58: saving model to C:/Users/ROG/OneDrive/桌面/FYP/Model/TWB_4_113_1.25/ckpt\\cp.ckpt\n",
      "917/917 [==============================] - 255s 278ms/step - loss: 0.1217 - accuracy: 0.9944 - recall: 0.9935 - val_loss: 0.8899 - val_accuracy: 0.8154 - val_recall: 0.8117\n",
      "Epoch 59/150\n",
      "917/917 [==============================] - ETA: 0s - loss: 0.6036 - accuracy: 0.7899 - recall: 0.6937\n",
      "Epoch 59: saving model to C:/Users/ROG/OneDrive/桌面/FYP/Model/TWB_4_113_1.25/ckpt\\cp.ckpt\n",
      "917/917 [==============================] - 256s 279ms/step - loss: 0.6036 - accuracy: 0.7899 - recall: 0.6937 - val_loss: 1.0696 - val_accuracy: 0.6744 - val_recall: 0.3434\n",
      "Epoch 60/150\n",
      "917/917 [==============================] - ETA: 0s - loss: 0.8016 - accuracy: 0.7625 - recall: 0.5986\n",
      "Epoch 60: saving model to C:/Users/ROG/OneDrive/桌面/FYP/Model/TWB_4_113_1.25/ckpt\\cp.ckpt\n",
      "917/917 [==============================] - 255s 278ms/step - loss: 0.8016 - accuracy: 0.7625 - recall: 0.5986 - val_loss: 0.8610 - val_accuracy: 0.7573 - val_recall: 0.7133\n",
      "Epoch 61/150\n",
      "917/917 [==============================] - ETA: 0s - loss: 0.5537 - accuracy: 0.8631 - recall: 0.8353\n",
      "Epoch 61: saving model to C:/Users/ROG/OneDrive/桌面/FYP/Model/TWB_4_113_1.25/ckpt\\cp.ckpt\n",
      "917/917 [==============================] - 255s 279ms/step - loss: 0.5537 - accuracy: 0.8631 - recall: 0.8353 - val_loss: 0.8901 - val_accuracy: 0.7819 - val_recall: 0.7634\n",
      "Epoch 62/150\n",
      "917/917 [==============================] - ETA: 0s - loss: 0.3994 - accuracy: 0.9124 - recall: 0.9038\n",
      "Epoch 62: saving model to C:/Users/ROG/OneDrive/桌面/FYP/Model/TWB_4_113_1.25/ckpt\\cp.ckpt\n",
      "917/917 [==============================] - 256s 279ms/step - loss: 0.3994 - accuracy: 0.9124 - recall: 0.9038 - val_loss: 0.9603 - val_accuracy: 0.7888 - val_recall: 0.7809\n",
      "Epoch 63/150\n",
      "917/917 [==============================] - ETA: 0s - loss: 0.2837 - accuracy: 0.9455 - recall: 0.9406\n",
      "Epoch 63: saving model to C:/Users/ROG/OneDrive/桌面/FYP/Model/TWB_4_113_1.25/ckpt\\cp.ckpt\n",
      "917/917 [==============================] - 256s 279ms/step - loss: 0.2837 - accuracy: 0.9455 - recall: 0.9406 - val_loss: 1.0355 - val_accuracy: 0.7965 - val_recall: 0.7900\n",
      "Epoch 64/150\n",
      "917/917 [==============================] - ETA: 0s - loss: 0.2290 - accuracy: 0.9621 - recall: 0.9594\n",
      "Epoch 64: saving model to C:/Users/ROG/OneDrive/桌面/FYP/Model/TWB_4_113_1.25/ckpt\\cp.ckpt\n",
      "917/917 [==============================] - 255s 278ms/step - loss: 0.2290 - accuracy: 0.9621 - recall: 0.9594 - val_loss: 1.0202 - val_accuracy: 0.7954 - val_recall: 0.7905\n",
      "Epoch 65/150\n",
      "917/917 [==============================] - ETA: 0s - loss: 0.2010 - accuracy: 0.9689 - recall: 0.9669\n",
      "Epoch 65: saving model to C:/Users/ROG/OneDrive/桌面/FYP/Model/TWB_4_113_1.25/ckpt\\cp.ckpt\n",
      "917/917 [==============================] - 255s 278ms/step - loss: 0.2010 - accuracy: 0.9689 - recall: 0.9669 - val_loss: 1.0198 - val_accuracy: 0.7885 - val_recall: 0.7831\n"
     ]
    },
    {
     "name": "stdout",
     "output_type": "stream",
     "text": [
      "Epoch 66/150\n",
      "917/917 [==============================] - ETA: 0s - loss: 0.1888 - accuracy: 0.9725 - recall: 0.9701\n",
      "Epoch 66: saving model to C:/Users/ROG/OneDrive/桌面/FYP/Model/TWB_4_113_1.25/ckpt\\cp.ckpt\n",
      "917/917 [==============================] - 256s 279ms/step - loss: 0.1888 - accuracy: 0.9725 - recall: 0.9701 - val_loss: 1.1442 - val_accuracy: 0.7853 - val_recall: 0.7784\n",
      "Epoch 67/150\n",
      "917/917 [==============================] - ETA: 0s - loss: 0.1800 - accuracy: 0.9747 - recall: 0.9722\n",
      "Epoch 67: saving model to C:/Users/ROG/OneDrive/桌面/FYP/Model/TWB_4_113_1.25/ckpt\\cp.ckpt\n",
      "917/917 [==============================] - 255s 279ms/step - loss: 0.1800 - accuracy: 0.9747 - recall: 0.9722 - val_loss: 1.0104 - val_accuracy: 0.8020 - val_recall: 0.7961\n",
      "Epoch 68/150\n",
      "917/917 [==============================] - ETA: 0s - loss: 0.1658 - accuracy: 0.9795 - recall: 0.9772\n",
      "Epoch 68: saving model to C:/Users/ROG/OneDrive/桌面/FYP/Model/TWB_4_113_1.25/ckpt\\cp.ckpt\n",
      "917/917 [==============================] - 255s 278ms/step - loss: 0.1658 - accuracy: 0.9795 - recall: 0.9772 - val_loss: 1.0258 - val_accuracy: 0.8041 - val_recall: 0.7988\n",
      "Epoch 69/150\n",
      "917/917 [==============================] - ETA: 0s - loss: 0.1568 - accuracy: 0.9821 - recall: 0.9801\n",
      "Epoch 69: saving model to C:/Users/ROG/OneDrive/桌面/FYP/Model/TWB_4_113_1.25/ckpt\\cp.ckpt\n",
      "917/917 [==============================] - 256s 279ms/step - loss: 0.1568 - accuracy: 0.9821 - recall: 0.9801 - val_loss: 0.9986 - val_accuracy: 0.8008 - val_recall: 0.7945\n",
      "Epoch 70/150\n",
      "917/917 [==============================] - ETA: 0s - loss: 0.1529 - accuracy: 0.9832 - recall: 0.9814\n",
      "Epoch 70: saving model to C:/Users/ROG/OneDrive/桌面/FYP/Model/TWB_4_113_1.25/ckpt\\cp.ckpt\n",
      "917/917 [==============================] - 256s 279ms/step - loss: 0.1529 - accuracy: 0.9832 - recall: 0.9814 - val_loss: 0.9694 - val_accuracy: 0.8070 - val_recall: 0.8016\n",
      "Epoch 71/150\n",
      "917/917 [==============================] - ETA: 0s - loss: 0.1503 - accuracy: 0.9841 - recall: 0.9818\n",
      "Epoch 71: saving model to C:/Users/ROG/OneDrive/桌面/FYP/Model/TWB_4_113_1.25/ckpt\\cp.ckpt\n",
      "917/917 [==============================] - 255s 278ms/step - loss: 0.1503 - accuracy: 0.9841 - recall: 0.9818 - val_loss: 0.9681 - val_accuracy: 0.8034 - val_recall: 0.8005\n",
      "Epoch 72/150\n",
      "917/917 [==============================] - ETA: 0s - loss: 0.1398 - accuracy: 0.9869 - recall: 0.9855\n",
      "Epoch 72: saving model to C:/Users/ROG/OneDrive/桌面/FYP/Model/TWB_4_113_1.25/ckpt\\cp.ckpt\n",
      "917/917 [==============================] - 255s 278ms/step - loss: 0.1398 - accuracy: 0.9869 - recall: 0.9855 - val_loss: 0.9633 - val_accuracy: 0.8046 - val_recall: 0.7987\n",
      "Epoch 73/150\n",
      "917/917 [==============================] - ETA: 0s - loss: 0.1369 - accuracy: 0.9883 - recall: 0.9862\n",
      "Epoch 73: saving model to C:/Users/ROG/OneDrive/桌面/FYP/Model/TWB_4_113_1.25/ckpt\\cp.ckpt\n",
      "917/917 [==============================] - 256s 279ms/step - loss: 0.1369 - accuracy: 0.9883 - recall: 0.9862 - val_loss: 0.9743 - val_accuracy: 0.8052 - val_recall: 0.8001\n",
      "Epoch 74/150\n",
      "917/917 [==============================] - ETA: 0s - loss: 0.1340 - accuracy: 0.9900 - recall: 0.9888\n",
      "Epoch 74: saving model to C:/Users/ROG/OneDrive/桌面/FYP/Model/TWB_4_113_1.25/ckpt\\cp.ckpt\n",
      "917/917 [==============================] - 256s 279ms/step - loss: 0.1340 - accuracy: 0.9900 - recall: 0.9888 - val_loss: 0.9483 - val_accuracy: 0.8076 - val_recall: 0.8036\n",
      "Epoch 75/150\n",
      "917/917 [==============================] - ETA: 0s - loss: 0.1323 - accuracy: 0.9907 - recall: 0.9893\n",
      "Epoch 75: saving model to C:/Users/ROG/OneDrive/桌面/FYP/Model/TWB_4_113_1.25/ckpt\\cp.ckpt\n",
      "917/917 [==============================] - 256s 279ms/step - loss: 0.1323 - accuracy: 0.9907 - recall: 0.9893 - val_loss: 0.9934 - val_accuracy: 0.8075 - val_recall: 0.8037\n",
      "Epoch 76/150\n",
      "917/917 [==============================] - ETA: 0s - loss: 0.1284 - accuracy: 0.9915 - recall: 0.9900\n",
      "Epoch 76: saving model to C:/Users/ROG/OneDrive/桌面/FYP/Model/TWB_4_113_1.25/ckpt\\cp.ckpt\n",
      "917/917 [==============================] - 254s 277ms/step - loss: 0.1284 - accuracy: 0.9915 - recall: 0.9900 - val_loss: 0.9709 - val_accuracy: 0.8066 - val_recall: 0.8027\n",
      "Epoch 77/150\n",
      "917/917 [==============================] - ETA: 0s - loss: 0.1251 - accuracy: 0.9922 - recall: 0.9910\n",
      "Epoch 77: saving model to C:/Users/ROG/OneDrive/桌面/FYP/Model/TWB_4_113_1.25/ckpt\\cp.ckpt\n",
      "917/917 [==============================] - 255s 278ms/step - loss: 0.1251 - accuracy: 0.9922 - recall: 0.9910 - val_loss: 0.9554 - val_accuracy: 0.8075 - val_recall: 0.8030\n",
      "Epoch 78/150\n",
      "917/917 [==============================] - ETA: 0s - loss: 0.1251 - accuracy: 0.9930 - recall: 0.9917\n",
      "Epoch 78: saving model to C:/Users/ROG/OneDrive/桌面/FYP/Model/TWB_4_113_1.25/ckpt\\cp.ckpt\n",
      "917/917 [==============================] - 255s 278ms/step - loss: 0.1251 - accuracy: 0.9930 - recall: 0.9917 - val_loss: 0.9906 - val_accuracy: 0.8017 - val_recall: 0.7963\n",
      "Epoch 79/150\n",
      "917/917 [==============================] - ETA: 0s - loss: 0.1227 - accuracy: 0.9933 - recall: 0.9923\n",
      "Epoch 79: saving model to C:/Users/ROG/OneDrive/桌面/FYP/Model/TWB_4_113_1.25/ckpt\\cp.ckpt\n",
      "917/917 [==============================] - 255s 278ms/step - loss: 0.1227 - accuracy: 0.9933 - recall: 0.9923 - val_loss: 1.0610 - val_accuracy: 0.7985 - val_recall: 0.7933\n",
      "Epoch 80/150\n",
      "917/917 [==============================] - ETA: 0s - loss: 0.1206 - accuracy: 0.9949 - recall: 0.9939\n",
      "Epoch 80: saving model to C:/Users/ROG/OneDrive/桌面/FYP/Model/TWB_4_113_1.25/ckpt\\cp.ckpt\n",
      "917/917 [==============================] - 255s 279ms/step - loss: 0.1206 - accuracy: 0.9949 - recall: 0.9939 - val_loss: 0.9650 - val_accuracy: 0.8109 - val_recall: 0.8081\n",
      "Epoch 81/150\n",
      "917/917 [==============================] - ETA: 0s - loss: 0.1236 - accuracy: 0.9932 - recall: 0.9924\n",
      "Epoch 81: saving model to C:/Users/ROG/OneDrive/桌面/FYP/Model/TWB_4_113_1.25/ckpt\\cp.ckpt\n",
      "917/917 [==============================] - 256s 279ms/step - loss: 0.1236 - accuracy: 0.9932 - recall: 0.9924 - val_loss: 0.9575 - val_accuracy: 0.8116 - val_recall: 0.8088\n",
      "Epoch 82/150\n",
      "917/917 [==============================] - ETA: 0s - loss: 0.1235 - accuracy: 0.9934 - recall: 0.9929\n",
      "Epoch 82: saving model to C:/Users/ROG/OneDrive/桌面/FYP/Model/TWB_4_113_1.25/ckpt\\cp.ckpt\n",
      "917/917 [==============================] - 256s 279ms/step - loss: 0.1235 - accuracy: 0.9934 - recall: 0.9929 - val_loss: 0.9470 - val_accuracy: 0.8132 - val_recall: 0.8104\n",
      "Epoch 83/150\n",
      "917/917 [==============================] - ETA: 0s - loss: 0.1224 - accuracy: 0.9941 - recall: 0.9935\n",
      "Epoch 83: saving model to C:/Users/ROG/OneDrive/桌面/FYP/Model/TWB_4_113_1.25/ckpt\\cp.ckpt\n",
      "917/917 [==============================] - 255s 278ms/step - loss: 0.1224 - accuracy: 0.9941 - recall: 0.9935 - val_loss: 0.9540 - val_accuracy: 0.8101 - val_recall: 0.8072\n",
      "Epoch 84/150\n",
      "917/917 [==============================] - ETA: 0s - loss: 0.1224 - accuracy: 0.9941 - recall: 0.9933\n",
      "Epoch 84: saving model to C:/Users/ROG/OneDrive/桌面/FYP/Model/TWB_4_113_1.25/ckpt\\cp.ckpt\n",
      "917/917 [==============================] - 256s 279ms/step - loss: 0.1224 - accuracy: 0.9941 - recall: 0.9933 - val_loss: 1.0221 - val_accuracy: 0.8021 - val_recall: 0.7979\n",
      "Epoch 85/150\n",
      "917/917 [==============================] - ETA: 0s - loss: 0.1194 - accuracy: 0.9949 - recall: 0.9944\n",
      "Epoch 85: saving model to C:/Users/ROG/OneDrive/桌面/FYP/Model/TWB_4_113_1.25/ckpt\\cp.ckpt\n",
      "917/917 [==============================] - 256s 279ms/step - loss: 0.1194 - accuracy: 0.9949 - recall: 0.9944 - val_loss: 0.9602 - val_accuracy: 0.8137 - val_recall: 0.8107\n",
      "Epoch 86/150\n",
      "917/917 [==============================] - ETA: 0s - loss: 0.1190 - accuracy: 0.9950 - recall: 0.9946\n",
      "Epoch 86: saving model to C:/Users/ROG/OneDrive/桌面/FYP/Model/TWB_4_113_1.25/ckpt\\cp.ckpt\n",
      "917/917 [==============================] - 256s 279ms/step - loss: 0.1190 - accuracy: 0.9950 - recall: 0.9946 - val_loss: 0.9552 - val_accuracy: 0.8111 - val_recall: 0.8075\n",
      "Epoch 87/150\n",
      "917/917 [==============================] - ETA: 0s - loss: 0.1158 - accuracy: 0.9957 - recall: 0.9953\n",
      "Epoch 87: saving model to C:/Users/ROG/OneDrive/桌面/FYP/Model/TWB_4_113_1.25/ckpt\\cp.ckpt\n",
      "917/917 [==============================] - 255s 278ms/step - loss: 0.1158 - accuracy: 0.9957 - recall: 0.9953 - val_loss: 0.9629 - val_accuracy: 0.8127 - val_recall: 0.8110\n"
     ]
    },
    {
     "name": "stdout",
     "output_type": "stream",
     "text": [
      "Epoch 88/150\n",
      "917/917 [==============================] - ETA: 0s - loss: 0.1171 - accuracy: 0.9950 - recall: 0.9947\n",
      "Epoch 88: saving model to C:/Users/ROG/OneDrive/桌面/FYP/Model/TWB_4_113_1.25/ckpt\\cp.ckpt\n",
      "917/917 [==============================] - 255s 279ms/step - loss: 0.1171 - accuracy: 0.9950 - recall: 0.9947 - val_loss: 0.9437 - val_accuracy: 0.8157 - val_recall: 0.8120\n",
      "Epoch 89/150\n",
      "917/917 [==============================] - ETA: 0s - loss: 0.1167 - accuracy: 0.9959 - recall: 0.9956\n",
      "Epoch 89: saving model to C:/Users/ROG/OneDrive/桌面/FYP/Model/TWB_4_113_1.25/ckpt\\cp.ckpt\n",
      "917/917 [==============================] - 256s 279ms/step - loss: 0.1167 - accuracy: 0.9959 - recall: 0.9956 - val_loss: 0.9717 - val_accuracy: 0.8114 - val_recall: 0.8091\n",
      "Epoch 90/150\n",
      "917/917 [==============================] - ETA: 0s - loss: 0.1130 - accuracy: 0.9967 - recall: 0.9963\n",
      "Epoch 90: saving model to C:/Users/ROG/OneDrive/桌面/FYP/Model/TWB_4_113_1.25/ckpt\\cp.ckpt\n",
      "917/917 [==============================] - 255s 278ms/step - loss: 0.1130 - accuracy: 0.9967 - recall: 0.9963 - val_loss: 1.0039 - val_accuracy: 0.8080 - val_recall: 0.8052\n",
      "Epoch 91/150\n",
      "917/917 [==============================] - ETA: 0s - loss: 0.1165 - accuracy: 0.9958 - recall: 0.9956\n",
      "Epoch 91: saving model to C:/Users/ROG/OneDrive/桌面/FYP/Model/TWB_4_113_1.25/ckpt\\cp.ckpt\n",
      "917/917 [==============================] - 255s 278ms/step - loss: 0.1165 - accuracy: 0.9958 - recall: 0.9956 - val_loss: 0.9631 - val_accuracy: 0.8141 - val_recall: 0.8107\n",
      "Epoch 92/150\n",
      "917/917 [==============================] - ETA: 0s - loss: 0.1143 - accuracy: 0.9964 - recall: 0.9960\n",
      "Epoch 92: saving model to C:/Users/ROG/OneDrive/桌面/FYP/Model/TWB_4_113_1.25/ckpt\\cp.ckpt\n",
      "917/917 [==============================] - 255s 278ms/step - loss: 0.1143 - accuracy: 0.9964 - recall: 0.9960 - val_loss: 0.9721 - val_accuracy: 0.8136 - val_recall: 0.8101\n",
      "Epoch 93/150\n",
      "917/917 [==============================] - ETA: 0s - loss: 0.1173 - accuracy: 0.9958 - recall: 0.9956\n",
      "Epoch 93: saving model to C:/Users/ROG/OneDrive/桌面/FYP/Model/TWB_4_113_1.25/ckpt\\cp.ckpt\n",
      "917/917 [==============================] - 255s 279ms/step - loss: 0.1173 - accuracy: 0.9958 - recall: 0.9956 - val_loss: 0.9751 - val_accuracy: 0.8123 - val_recall: 0.8104\n",
      "Epoch 94/150\n",
      "917/917 [==============================] - ETA: 0s - loss: 0.1156 - accuracy: 0.9960 - recall: 0.9958\n",
      "Epoch 94: saving model to C:/Users/ROG/OneDrive/桌面/FYP/Model/TWB_4_113_1.25/ckpt\\cp.ckpt\n",
      "917/917 [==============================] - 256s 279ms/step - loss: 0.1156 - accuracy: 0.9960 - recall: 0.9958 - val_loss: 0.9538 - val_accuracy: 0.8116 - val_recall: 0.8073\n",
      "Epoch 95/150\n",
      "917/917 [==============================] - ETA: 0s - loss: 0.1149 - accuracy: 0.9958 - recall: 0.9955\n",
      "Epoch 95: saving model to C:/Users/ROG/OneDrive/桌面/FYP/Model/TWB_4_113_1.25/ckpt\\cp.ckpt\n",
      "917/917 [==============================] - 255s 278ms/step - loss: 0.1149 - accuracy: 0.9958 - recall: 0.9955 - val_loss: 0.9489 - val_accuracy: 0.8140 - val_recall: 0.8109\n",
      "Epoch 96/150\n",
      "917/917 [==============================] - ETA: 0s - loss: 0.1129 - accuracy: 0.9966 - recall: 0.9965\n",
      "Epoch 96: saving model to C:/Users/ROG/OneDrive/桌面/FYP/Model/TWB_4_113_1.25/ckpt\\cp.ckpt\n",
      "917/917 [==============================] - 255s 278ms/step - loss: 0.1129 - accuracy: 0.9966 - recall: 0.9965 - val_loss: 0.9653 - val_accuracy: 0.8174 - val_recall: 0.8137\n",
      "Epoch 97/150\n",
      "917/917 [==============================] - ETA: 0s - loss: 0.1132 - accuracy: 0.9967 - recall: 0.9962\n",
      "Epoch 97: saving model to C:/Users/ROG/OneDrive/桌面/FYP/Model/TWB_4_113_1.25/ckpt\\cp.ckpt\n",
      "917/917 [==============================] - 256s 279ms/step - loss: 0.1132 - accuracy: 0.9967 - recall: 0.9962 - val_loss: 0.9572 - val_accuracy: 0.8106 - val_recall: 0.8086\n",
      "Epoch 98/150\n",
      "917/917 [==============================] - ETA: 0s - loss: 0.1111 - accuracy: 0.9971 - recall: 0.9968\n",
      "Epoch 98: saving model to C:/Users/ROG/OneDrive/桌面/FYP/Model/TWB_4_113_1.25/ckpt\\cp.ckpt\n",
      "917/917 [==============================] - 256s 279ms/step - loss: 0.1111 - accuracy: 0.9971 - recall: 0.9968 - val_loss: 0.9346 - val_accuracy: 0.8149 - val_recall: 0.8133\n",
      "Epoch 99/150\n",
      "917/917 [==============================] - ETA: 0s - loss: 0.1128 - accuracy: 0.9971 - recall: 0.9969\n",
      "Epoch 99: saving model to C:/Users/ROG/OneDrive/桌面/FYP/Model/TWB_4_113_1.25/ckpt\\cp.ckpt\n",
      "917/917 [==============================] - 255s 278ms/step - loss: 0.1128 - accuracy: 0.9971 - recall: 0.9969 - val_loss: 0.9841 - val_accuracy: 0.8070 - val_recall: 0.8032\n",
      "Epoch 100/150\n",
      "917/917 [==============================] - ETA: 0s - loss: 0.1122 - accuracy: 0.9970 - recall: 0.9968\n",
      "Epoch 100: saving model to C:/Users/ROG/OneDrive/桌面/FYP/Model/TWB_4_113_1.25/ckpt\\cp.ckpt\n",
      "917/917 [==============================] - 255s 278ms/step - loss: 0.1122 - accuracy: 0.9970 - recall: 0.9968 - val_loss: 0.9563 - val_accuracy: 0.8145 - val_recall: 0.8122\n",
      "Epoch 101/150\n",
      "917/917 [==============================] - ETA: 0s - loss: 0.1103 - accuracy: 0.9977 - recall: 0.9977\n",
      "Epoch 101: saving model to C:/Users/ROG/OneDrive/桌面/FYP/Model/TWB_4_113_1.25/ckpt\\cp.ckpt\n",
      "917/917 [==============================] - 255s 279ms/step - loss: 0.1103 - accuracy: 0.9977 - recall: 0.9977 - val_loss: 0.9783 - val_accuracy: 0.8116 - val_recall: 0.8088\n",
      "Epoch 102/150\n",
      "917/917 [==============================] - ETA: 0s - loss: 0.1123 - accuracy: 0.9967 - recall: 0.9965\n",
      "Epoch 102: saving model to C:/Users/ROG/OneDrive/桌面/FYP/Model/TWB_4_113_1.25/ckpt\\cp.ckpt\n",
      "917/917 [==============================] - 256s 279ms/step - loss: 0.1123 - accuracy: 0.9967 - recall: 0.9965 - val_loss: 0.9667 - val_accuracy: 0.8117 - val_recall: 0.8092\n",
      "Epoch 103/150\n",
      "917/917 [==============================] - ETA: 0s - loss: 0.1112 - accuracy: 0.9975 - recall: 0.9974\n",
      "Epoch 103: saving model to C:/Users/ROG/OneDrive/桌面/FYP/Model/TWB_4_113_1.25/ckpt\\cp.ckpt\n",
      "917/917 [==============================] - 256s 279ms/step - loss: 0.1112 - accuracy: 0.9975 - recall: 0.9974 - val_loss: 0.9963 - val_accuracy: 0.8047 - val_recall: 0.8031\n",
      "Epoch 104/150\n",
      "917/917 [==============================] - ETA: 0s - loss: 0.1099 - accuracy: 0.9976 - recall: 0.9972\n",
      "Epoch 104: saving model to C:/Users/ROG/OneDrive/桌面/FYP/Model/TWB_4_113_1.25/ckpt\\cp.ckpt\n",
      "917/917 [==============================] - 255s 278ms/step - loss: 0.1099 - accuracy: 0.9976 - recall: 0.9972 - val_loss: 0.9507 - val_accuracy: 0.8157 - val_recall: 0.8126\n",
      "Epoch 105/150\n",
      "917/917 [==============================] - ETA: 0s - loss: 0.1095 - accuracy: 0.9978 - recall: 0.9976\n",
      "Epoch 105: saving model to C:/Users/ROG/OneDrive/桌面/FYP/Model/TWB_4_113_1.25/ckpt\\cp.ckpt\n",
      "917/917 [==============================] - 255s 278ms/step - loss: 0.1095 - accuracy: 0.9978 - recall: 0.9976 - val_loss: 0.9752 - val_accuracy: 0.8123 - val_recall: 0.8097\n",
      "Epoch 106/150\n",
      "917/917 [==============================] - ETA: 0s - loss: 0.1094 - accuracy: 0.9978 - recall: 0.9976\n",
      "Epoch 106: saving model to C:/Users/ROG/OneDrive/桌面/FYP/Model/TWB_4_113_1.25/ckpt\\cp.ckpt\n",
      "917/917 [==============================] - 255s 278ms/step - loss: 0.1094 - accuracy: 0.9978 - recall: 0.9976 - val_loss: 0.9461 - val_accuracy: 0.8179 - val_recall: 0.8152\n",
      "Epoch 107/150\n",
      "917/917 [==============================] - ETA: 0s - loss: 0.1117 - accuracy: 0.9973 - recall: 0.9972\n",
      "Epoch 107: saving model to C:/Users/ROG/OneDrive/桌面/FYP/Model/TWB_4_113_1.25/ckpt\\cp.ckpt\n",
      "917/917 [==============================] - 255s 278ms/step - loss: 0.1117 - accuracy: 0.9973 - recall: 0.9972 - val_loss: 0.9770 - val_accuracy: 0.8116 - val_recall: 0.8084\n",
      "Epoch 108/150\n",
      "917/917 [==============================] - ETA: 0s - loss: 0.1117 - accuracy: 0.9972 - recall: 0.9970\n",
      "Epoch 108: saving model to C:/Users/ROG/OneDrive/桌面/FYP/Model/TWB_4_113_1.25/ckpt\\cp.ckpt\n",
      "917/917 [==============================] - 256s 279ms/step - loss: 0.1117 - accuracy: 0.9972 - recall: 0.9970 - val_loss: 0.9844 - val_accuracy: 0.8109 - val_recall: 0.8084\n",
      "Epoch 109/150\n",
      "917/917 [==============================] - ETA: 0s - loss: 0.1097 - accuracy: 0.9977 - recall: 0.9975\n",
      "Epoch 109: saving model to C:/Users/ROG/OneDrive/桌面/FYP/Model/TWB_4_113_1.25/ckpt\\cp.ckpt\n",
      "917/917 [==============================] - 256s 279ms/step - loss: 0.1097 - accuracy: 0.9977 - recall: 0.9975 - val_loss: 1.0096 - val_accuracy: 0.8094 - val_recall: 0.8069\n"
     ]
    },
    {
     "name": "stdout",
     "output_type": "stream",
     "text": [
      "Epoch 110/150\n",
      "917/917 [==============================] - ETA: 0s - loss: 0.1089 - accuracy: 0.9979 - recall: 0.9977\n",
      "Epoch 110: saving model to C:/Users/ROG/OneDrive/桌面/FYP/Model/TWB_4_113_1.25/ckpt\\cp.ckpt\n",
      "917/917 [==============================] - 256s 279ms/step - loss: 0.1089 - accuracy: 0.9979 - recall: 0.9977 - val_loss: 0.9654 - val_accuracy: 0.8129 - val_recall: 0.8108\n",
      "Epoch 111/150\n",
      "917/917 [==============================] - ETA: 0s - loss: 0.1080 - accuracy: 0.9981 - recall: 0.9980\n",
      "Epoch 111: saving model to C:/Users/ROG/OneDrive/桌面/FYP/Model/TWB_4_113_1.25/ckpt\\cp.ckpt\n",
      "917/917 [==============================] - 255s 278ms/step - loss: 0.1080 - accuracy: 0.9981 - recall: 0.9980 - val_loss: 0.9583 - val_accuracy: 0.8152 - val_recall: 0.8118\n",
      "Epoch 112/150\n",
      "917/917 [==============================] - ETA: 0s - loss: 0.1077 - accuracy: 0.9985 - recall: 0.9983\n",
      "Epoch 112: saving model to C:/Users/ROG/OneDrive/桌面/FYP/Model/TWB_4_113_1.25/ckpt\\cp.ckpt\n",
      "917/917 [==============================] - 255s 278ms/step - loss: 0.1077 - accuracy: 0.9985 - recall: 0.9983 - val_loss: 0.9422 - val_accuracy: 0.8164 - val_recall: 0.8136\n",
      "Epoch 113/150\n",
      "917/917 [==============================] - ETA: 0s - loss: 0.1083 - accuracy: 0.9982 - recall: 0.9980\n",
      "Epoch 113: saving model to C:/Users/ROG/OneDrive/桌面/FYP/Model/TWB_4_113_1.25/ckpt\\cp.ckpt\n",
      "917/917 [==============================] - 255s 279ms/step - loss: 0.1083 - accuracy: 0.9982 - recall: 0.9980 - val_loss: 0.9960 - val_accuracy: 0.8075 - val_recall: 0.8048\n",
      "Epoch 114/150\n",
      "917/917 [==============================] - ETA: 0s - loss: 0.1065 - accuracy: 0.9989 - recall: 0.9987\n",
      "Epoch 114: saving model to C:/Users/ROG/OneDrive/桌面/FYP/Model/TWB_4_113_1.25/ckpt\\cp.ckpt\n",
      "917/917 [==============================] - 256s 279ms/step - loss: 0.1065 - accuracy: 0.9989 - recall: 0.9987 - val_loss: 0.9573 - val_accuracy: 0.8138 - val_recall: 0.8116\n",
      "Epoch 115/150\n",
      "917/917 [==============================] - ETA: 0s - loss: 0.1077 - accuracy: 0.9986 - recall: 0.9985\n",
      "Epoch 115: saving model to C:/Users/ROG/OneDrive/桌面/FYP/Model/TWB_4_113_1.25/ckpt\\cp.ckpt\n",
      "917/917 [==============================] - 255s 278ms/step - loss: 0.1077 - accuracy: 0.9986 - recall: 0.9985 - val_loss: 0.9776 - val_accuracy: 0.8144 - val_recall: 0.8117\n",
      "Epoch 116/150\n",
      "917/917 [==============================] - ETA: 0s - loss: 0.1090 - accuracy: 0.9980 - recall: 0.9980\n",
      "Epoch 116: saving model to C:/Users/ROG/OneDrive/桌面/FYP/Model/TWB_4_113_1.25/ckpt\\cp.ckpt\n",
      "917/917 [==============================] - 256s 279ms/step - loss: 0.1090 - accuracy: 0.9980 - recall: 0.9980 - val_loss: 0.9550 - val_accuracy: 0.8144 - val_recall: 0.8123\n",
      "Epoch 117/150\n",
      "917/917 [==============================] - ETA: 0s - loss: 0.1076 - accuracy: 0.9982 - recall: 0.9981\n",
      "Epoch 117: saving model to C:/Users/ROG/OneDrive/桌面/FYP/Model/TWB_4_113_1.25/ckpt\\cp.ckpt\n",
      "917/917 [==============================] - 256s 279ms/step - loss: 0.1076 - accuracy: 0.9982 - recall: 0.9981 - val_loss: 0.9745 - val_accuracy: 0.8134 - val_recall: 0.8120\n",
      "Epoch 118/150\n",
      "917/917 [==============================] - ETA: 0s - loss: 0.1073 - accuracy: 0.9987 - recall: 0.9986\n",
      "Epoch 118: saving model to C:/Users/ROG/OneDrive/桌面/FYP/Model/TWB_4_113_1.25/ckpt\\cp.ckpt\n",
      "917/917 [==============================] - 255s 278ms/step - loss: 0.1073 - accuracy: 0.9987 - recall: 0.9986 - val_loss: 0.9800 - val_accuracy: 0.8135 - val_recall: 0.8116\n",
      "Epoch 119/150\n",
      "917/917 [==============================] - ETA: 0s - loss: 0.1070 - accuracy: 0.9987 - recall: 0.9986\n",
      "Epoch 119: saving model to C:/Users/ROG/OneDrive/桌面/FYP/Model/TWB_4_113_1.25/ckpt\\cp.ckpt\n",
      "917/917 [==============================] - 255s 278ms/step - loss: 0.1070 - accuracy: 0.9987 - recall: 0.9986 - val_loss: 0.9682 - val_accuracy: 0.8128 - val_recall: 0.8106\n",
      "Epoch 120/150\n",
      "917/917 [==============================] - ETA: 0s - loss: 0.1069 - accuracy: 0.9985 - recall: 0.9985\n",
      "Epoch 120: saving model to C:/Users/ROG/OneDrive/桌面/FYP/Model/TWB_4_113_1.25/ckpt\\cp.ckpt\n",
      "917/917 [==============================] - 256s 279ms/step - loss: 0.1069 - accuracy: 0.9985 - recall: 0.9985 - val_loss: 0.9317 - val_accuracy: 0.8162 - val_recall: 0.8145\n",
      "Epoch 121/150\n",
      "917/917 [==============================] - ETA: 0s - loss: 0.1073 - accuracy: 0.9985 - recall: 0.9984\n",
      "Epoch 121: saving model to C:/Users/ROG/OneDrive/桌面/FYP/Model/TWB_4_113_1.25/ckpt\\cp.ckpt\n",
      "917/917 [==============================] - 256s 279ms/step - loss: 0.1073 - accuracy: 0.9985 - recall: 0.9984 - val_loss: 0.9593 - val_accuracy: 0.8143 - val_recall: 0.8119\n",
      "Epoch 122/150\n",
      "917/917 [==============================] - ETA: 0s - loss: 0.1071 - accuracy: 0.9984 - recall: 0.9982\n",
      "Epoch 122: saving model to C:/Users/ROG/OneDrive/桌面/FYP/Model/TWB_4_113_1.25/ckpt\\cp.ckpt\n",
      "917/917 [==============================] - 256s 279ms/step - loss: 0.1071 - accuracy: 0.9984 - recall: 0.9982 - val_loss: 0.9689 - val_accuracy: 0.8108 - val_recall: 0.8088\n",
      "Epoch 123/150\n",
      "917/917 [==============================] - ETA: 0s - loss: 0.1074 - accuracy: 0.9985 - recall: 0.9985\n",
      "Epoch 123: saving model to C:/Users/ROG/OneDrive/桌面/FYP/Model/TWB_4_113_1.25/ckpt\\cp.ckpt\n",
      "917/917 [==============================] - 255s 278ms/step - loss: 0.1074 - accuracy: 0.9985 - recall: 0.9985 - val_loss: 0.9448 - val_accuracy: 0.8168 - val_recall: 0.8144\n",
      "Epoch 124/150\n",
      "917/917 [==============================] - ETA: 0s - loss: 0.1073 - accuracy: 0.9983 - recall: 0.9983\n",
      "Epoch 124: saving model to C:/Users/ROG/OneDrive/桌面/FYP/Model/TWB_4_113_1.25/ckpt\\cp.ckpt\n",
      "917/917 [==============================] - 255s 279ms/step - loss: 0.1073 - accuracy: 0.9983 - recall: 0.9983 - val_loss: 1.0194 - val_accuracy: 0.8052 - val_recall: 0.8031\n",
      "Epoch 125/150\n",
      "917/917 [==============================] - ETA: 0s - loss: 0.1069 - accuracy: 0.9986 - recall: 0.9985\n",
      "Epoch 125: saving model to C:/Users/ROG/OneDrive/桌面/FYP/Model/TWB_4_113_1.25/ckpt\\cp.ckpt\n",
      "917/917 [==============================] - 256s 279ms/step - loss: 0.1069 - accuracy: 0.9986 - recall: 0.9985 - val_loss: 0.9848 - val_accuracy: 0.8115 - val_recall: 0.8092\n",
      "Epoch 126/150\n",
      "917/917 [==============================] - ETA: 0s - loss: 0.1061 - accuracy: 0.9989 - recall: 0.9988\n",
      "Epoch 126: saving model to C:/Users/ROG/OneDrive/桌面/FYP/Model/TWB_4_113_1.25/ckpt\\cp.ckpt\n",
      "917/917 [==============================] - 255s 279ms/step - loss: 0.1061 - accuracy: 0.9989 - recall: 0.9988 - val_loss: 0.9560 - val_accuracy: 0.8124 - val_recall: 0.8105\n",
      "Epoch 127/150\n",
      "917/917 [==============================] - ETA: 0s - loss: 0.1059 - accuracy: 0.9989 - recall: 0.9988\n",
      "Epoch 127: saving model to C:/Users/ROG/OneDrive/桌面/FYP/Model/TWB_4_113_1.25/ckpt\\cp.ckpt\n",
      "917/917 [==============================] - 255s 278ms/step - loss: 0.1059 - accuracy: 0.9989 - recall: 0.9988 - val_loss: 0.9600 - val_accuracy: 0.8132 - val_recall: 0.8104\n",
      "Epoch 128/150\n",
      "917/917 [==============================] - ETA: 0s - loss: 0.1054 - accuracy: 0.9990 - recall: 0.9987\n",
      "Epoch 128: saving model to C:/Users/ROG/OneDrive/桌面/FYP/Model/TWB_4_113_1.25/ckpt\\cp.ckpt\n",
      "917/917 [==============================] - 255s 279ms/step - loss: 0.1054 - accuracy: 0.9990 - recall: 0.9987 - val_loss: 0.9496 - val_accuracy: 0.8152 - val_recall: 0.8128\n",
      "Epoch 129/150\n",
      "917/917 [==============================] - ETA: 0s - loss: 0.1053 - accuracy: 0.9989 - recall: 0.9988\n",
      "Epoch 129: saving model to C:/Users/ROG/OneDrive/桌面/FYP/Model/TWB_4_113_1.25/ckpt\\cp.ckpt\n",
      "917/917 [==============================] - 255s 278ms/step - loss: 0.1053 - accuracy: 0.9989 - recall: 0.9988 - val_loss: 0.9624 - val_accuracy: 0.8143 - val_recall: 0.8121\n",
      "Epoch 130/150\n",
      "917/917 [==============================] - ETA: 0s - loss: 0.1046 - accuracy: 0.9993 - recall: 0.9992\n",
      "Epoch 130: saving model to C:/Users/ROG/OneDrive/桌面/FYP/Model/TWB_4_113_1.25/ckpt\\cp.ckpt\n",
      "917/917 [==============================] - 255s 279ms/step - loss: 0.1046 - accuracy: 0.9993 - recall: 0.9992 - val_loss: 0.9890 - val_accuracy: 0.8121 - val_recall: 0.8100\n",
      "Epoch 131/150\n",
      "917/917 [==============================] - ETA: 0s - loss: 0.1042 - accuracy: 0.9994 - recall: 0.9993\n",
      "Epoch 131: saving model to C:/Users/ROG/OneDrive/桌面/FYP/Model/TWB_4_113_1.25/ckpt\\cp.ckpt\n",
      "917/917 [==============================] - 255s 278ms/step - loss: 0.1042 - accuracy: 0.9994 - recall: 0.9993 - val_loss: 0.9645 - val_accuracy: 0.8131 - val_recall: 0.8106\n"
     ]
    },
    {
     "name": "stdout",
     "output_type": "stream",
     "text": [
      "Epoch 132/150\n",
      "917/917 [==============================] - ETA: 0s - loss: 0.1039 - accuracy: 0.9993 - recall: 0.9993\n",
      "Epoch 132: saving model to C:/Users/ROG/OneDrive/桌面/FYP/Model/TWB_4_113_1.25/ckpt\\cp.ckpt\n",
      "917/917 [==============================] - 255s 279ms/step - loss: 0.1039 - accuracy: 0.9993 - recall: 0.9993 - val_loss: 0.9437 - val_accuracy: 0.8134 - val_recall: 0.8118\n",
      "Epoch 133/150\n",
      "917/917 [==============================] - ETA: 0s - loss: 0.1042 - accuracy: 0.9994 - recall: 0.9993\n",
      "Epoch 133: saving model to C:/Users/ROG/OneDrive/桌面/FYP/Model/TWB_4_113_1.25/ckpt\\cp.ckpt\n",
      "917/917 [==============================] - 255s 278ms/step - loss: 0.1042 - accuracy: 0.9994 - recall: 0.9993 - val_loss: 0.9478 - val_accuracy: 0.8150 - val_recall: 0.8124\n",
      "Epoch 134/150\n",
      "917/917 [==============================] - ETA: 0s - loss: 0.1037 - accuracy: 0.9995 - recall: 0.9994\n",
      "Epoch 134: saving model to C:/Users/ROG/OneDrive/桌面/FYP/Model/TWB_4_113_1.25/ckpt\\cp.ckpt\n",
      "917/917 [==============================] - 255s 278ms/step - loss: 0.1037 - accuracy: 0.9995 - recall: 0.9994 - val_loss: 0.9445 - val_accuracy: 0.8123 - val_recall: 0.8098\n",
      "Epoch 135/150\n",
      "917/917 [==============================] - ETA: 0s - loss: 0.1034 - accuracy: 0.9996 - recall: 0.9995\n",
      "Epoch 135: saving model to C:/Users/ROG/OneDrive/桌面/FYP/Model/TWB_4_113_1.25/ckpt\\cp.ckpt\n",
      "917/917 [==============================] - 255s 278ms/step - loss: 0.1034 - accuracy: 0.9996 - recall: 0.9995 - val_loss: 0.9570 - val_accuracy: 0.8125 - val_recall: 0.8102\n",
      "Epoch 136/150\n",
      "917/917 [==============================] - ETA: 0s - loss: 0.1039 - accuracy: 0.9994 - recall: 0.9994\n",
      "Epoch 136: saving model to C:/Users/ROG/OneDrive/桌面/FYP/Model/TWB_4_113_1.25/ckpt\\cp.ckpt\n",
      "917/917 [==============================] - 255s 278ms/step - loss: 0.1039 - accuracy: 0.9994 - recall: 0.9994 - val_loss: 0.9562 - val_accuracy: 0.8152 - val_recall: 0.8132\n",
      "Epoch 137/150\n",
      "917/917 [==============================] - ETA: 0s - loss: 0.1036 - accuracy: 0.9995 - recall: 0.9995\n",
      "Epoch 137: saving model to C:/Users/ROG/OneDrive/桌面/FYP/Model/TWB_4_113_1.25/ckpt\\cp.ckpt\n",
      "917/917 [==============================] - 256s 279ms/step - loss: 0.1036 - accuracy: 0.9995 - recall: 0.9995 - val_loss: 0.9435 - val_accuracy: 0.8146 - val_recall: 0.8123\n",
      "Epoch 138/150\n",
      "917/917 [==============================] - ETA: 0s - loss: 0.1036 - accuracy: 0.9995 - recall: 0.9995\n",
      "Epoch 138: saving model to C:/Users/ROG/OneDrive/桌面/FYP/Model/TWB_4_113_1.25/ckpt\\cp.ckpt\n",
      "917/917 [==============================] - 255s 278ms/step - loss: 0.1036 - accuracy: 0.9995 - recall: 0.9995 - val_loss: 0.9649 - val_accuracy: 0.8155 - val_recall: 0.8125\n",
      "Epoch 139/150\n",
      "917/917 [==============================] - ETA: 0s - loss: 0.1033 - accuracy: 0.9996 - recall: 0.9995\n",
      "Epoch 139: saving model to C:/Users/ROG/OneDrive/桌面/FYP/Model/TWB_4_113_1.25/ckpt\\cp.ckpt\n",
      "917/917 [==============================] - 255s 278ms/step - loss: 0.1033 - accuracy: 0.9996 - recall: 0.9995 - val_loss: 0.9760 - val_accuracy: 0.8134 - val_recall: 0.8099\n",
      "Epoch 140/150\n",
      "917/917 [==============================] - ETA: 0s - loss: 0.1034 - accuracy: 0.9995 - recall: 0.9995\n",
      "Epoch 140: saving model to C:/Users/ROG/OneDrive/桌面/FYP/Model/TWB_4_113_1.25/ckpt\\cp.ckpt\n",
      "917/917 [==============================] - 255s 279ms/step - loss: 0.1034 - accuracy: 0.9995 - recall: 0.9995 - val_loss: 0.9500 - val_accuracy: 0.8151 - val_recall: 0.8132\n",
      "Epoch 141/150\n",
      "917/917 [==============================] - ETA: 0s - loss: 0.1030 - accuracy: 0.9996 - recall: 0.9996\n",
      "Epoch 141: saving model to C:/Users/ROG/OneDrive/桌面/FYP/Model/TWB_4_113_1.25/ckpt\\cp.ckpt\n",
      "917/917 [==============================] - 256s 279ms/step - loss: 0.1030 - accuracy: 0.9996 - recall: 0.9996 - val_loss: 0.9709 - val_accuracy: 0.8136 - val_recall: 0.8107\n",
      "Epoch 142/150\n",
      "917/917 [==============================] - ETA: 0s - loss: 0.1032 - accuracy: 0.9996 - recall: 0.9996\n",
      "Epoch 142: saving model to C:/Users/ROG/OneDrive/桌面/FYP/Model/TWB_4_113_1.25/ckpt\\cp.ckpt\n",
      "917/917 [==============================] - 255s 278ms/step - loss: 0.1032 - accuracy: 0.9996 - recall: 0.9996 - val_loss: 0.9548 - val_accuracy: 0.8149 - val_recall: 0.8127\n",
      "Epoch 143/150\n",
      "917/917 [==============================] - ETA: 0s - loss: 0.1033 - accuracy: 0.9995 - recall: 0.9995\n",
      "Epoch 143: saving model to C:/Users/ROG/OneDrive/桌面/FYP/Model/TWB_4_113_1.25/ckpt\\cp.ckpt\n",
      "917/917 [==============================] - 255s 278ms/step - loss: 0.1033 - accuracy: 0.9995 - recall: 0.9995 - val_loss: 0.9889 - val_accuracy: 0.8127 - val_recall: 0.8099\n",
      "Epoch 144/150\n",
      "917/917 [==============================] - ETA: 0s - loss: 0.1032 - accuracy: 0.9996 - recall: 0.9995\n",
      "Epoch 144: saving model to C:/Users/ROG/OneDrive/桌面/FYP/Model/TWB_4_113_1.25/ckpt\\cp.ckpt\n",
      "917/917 [==============================] - 255s 278ms/step - loss: 0.1032 - accuracy: 0.9996 - recall: 0.9995 - val_loss: 0.9870 - val_accuracy: 0.8124 - val_recall: 0.8102\n",
      "Epoch 145/150\n",
      "917/917 [==============================] - ETA: 0s - loss: 0.1031 - accuracy: 0.9996 - recall: 0.9996\n",
      "Epoch 145: saving model to C:/Users/ROG/OneDrive/桌面/FYP/Model/TWB_4_113_1.25/ckpt\\cp.ckpt\n",
      "917/917 [==============================] - 256s 279ms/step - loss: 0.1031 - accuracy: 0.9996 - recall: 0.9996 - val_loss: 0.9924 - val_accuracy: 0.8112 - val_recall: 0.8092\n",
      "Epoch 146/150\n",
      "917/917 [==============================] - ETA: 0s - loss: 0.1032 - accuracy: 0.9997 - recall: 0.9996\n",
      "Epoch 146: saving model to C:/Users/ROG/OneDrive/桌面/FYP/Model/TWB_4_113_1.25/ckpt\\cp.ckpt\n",
      "917/917 [==============================] - 255s 278ms/step - loss: 0.1032 - accuracy: 0.9997 - recall: 0.9996 - val_loss: 0.9839 - val_accuracy: 0.8124 - val_recall: 0.8092\n",
      "Epoch 147/150\n",
      "917/917 [==============================] - ETA: 0s - loss: 0.1029 - accuracy: 0.9996 - recall: 0.9996\n",
      "Epoch 147: saving model to C:/Users/ROG/OneDrive/桌面/FYP/Model/TWB_4_113_1.25/ckpt\\cp.ckpt\n",
      "917/917 [==============================] - 255s 278ms/step - loss: 0.1029 - accuracy: 0.9996 - recall: 0.9996 - val_loss: 0.9653 - val_accuracy: 0.8143 - val_recall: 0.8118\n",
      "Epoch 148/150\n",
      "917/917 [==============================] - ETA: 0s - loss: 0.1029 - accuracy: 0.9996 - recall: 0.9996\n",
      "Epoch 148: saving model to C:/Users/ROG/OneDrive/桌面/FYP/Model/TWB_4_113_1.25/ckpt\\cp.ckpt\n",
      "917/917 [==============================] - 256s 279ms/step - loss: 0.1029 - accuracy: 0.9996 - recall: 0.9996 - val_loss: 0.9690 - val_accuracy: 0.8143 - val_recall: 0.8122\n",
      "Epoch 149/150\n",
      "917/917 [==============================] - ETA: 0s - loss: 0.1030 - accuracy: 0.9996 - recall: 0.9996\n",
      "Epoch 149: saving model to C:/Users/ROG/OneDrive/桌面/FYP/Model/TWB_4_113_1.25/ckpt\\cp.ckpt\n",
      "917/917 [==============================] - 258s 281ms/step - loss: 0.1030 - accuracy: 0.9996 - recall: 0.9996 - val_loss: 0.9669 - val_accuracy: 0.8150 - val_recall: 0.8128\n",
      "Epoch 150/150\n",
      "917/917 [==============================] - ETA: 0s - loss: 0.1030 - accuracy: 0.9996 - recall: 0.9996\n",
      "Epoch 150: saving model to C:/Users/ROG/OneDrive/桌面/FYP/Model/TWB_4_113_1.25/ckpt\\cp.ckpt\n",
      "917/917 [==============================] - 257s 281ms/step - loss: 0.1030 - accuracy: 0.9996 - recall: 0.9996 - val_loss: 0.9688 - val_accuracy: 0.8145 - val_recall: 0.8122\n"
     ]
    }
   ],
   "source": [
    "import time\n",
    "t0 = time.time()\n",
    "print(f'Training model with {tfhub_handle_encoder}')\n",
    "print(f'Training model with {tfhub_handle_encoder}')\n",
    "history = classifier_model.fit(x=x_train,\n",
    "                               y=y_train,\n",
    "                               validation_data=(x_val,y_val),\n",
    "                               epochs=150,\n",
    "                               batch_size=24,\n",
    "                               callbacks=[cp_callback,csv_callback])\n",
    "t1 = time.time()\n",
    "time_train = t1-t0"
   ]
  },
  {
   "cell_type": "code",
   "execution_count": 24,
   "id": "1d04ec47",
   "metadata": {
    "pycharm": {
     "name": "#%%\n"
    }
   },
   "outputs": [
    {
     "data": {
      "text/plain": [
       "38324.70162296295"
      ]
     },
     "execution_count": 24,
     "metadata": {},
     "output_type": "execute_result"
    }
   ],
   "source": [
    "time_train"
   ]
  },
  {
   "cell_type": "code",
   "execution_count": 25,
   "id": "a3b84cdf",
   "metadata": {
    "pycharm": {
     "name": "#%%\n"
    }
   },
   "outputs": [
    {
     "name": "stdout",
     "output_type": "stream",
     "text": [
      "435/435 [==============================] - 34s 77ms/step - loss: 0.9703 - accuracy: 0.8117 - recall: 0.8094\n",
      "Loss: 0.9703136682510376\n",
      "Accuracy: 0.8116734027862549\n",
      "Recall: 0.8093731999397278\n"
     ]
    }
   ],
   "source": [
    "loss, accuracy, recall = classifier_model.evaluate(x=x_test,y=y_test,batch_size=24)\n",
    "\n",
    "print(f'Loss: {loss}')\n",
    "print(f'Accuracy: {accuracy}')\n",
    "print(f'Recall: {recall}')"
   ]
  },
  {
   "cell_type": "code",
   "execution_count": null,
   "id": "63018dd5",
   "metadata": {},
   "outputs": [],
   "source": [
    "#10-fold\n",
    "skf = StratifiedKFold(n_splits=10)\n",
    "val_gp = []\n",
    "val_gr = []\n",
    "val_f1 = []\n",
    "gp = []\n",
    "gr = []\n",
    "f1 = []\n",
    "for train_index, val_index in skf.split(X, y):\n",
    "    X_train, X_val = X[train_index], X[val_index]\n",
    "    y_train, y_val = y[train_index], y[val_index]\n",
    "    #model\n",
    "    #......\n",
    "    #model\n",
    "    val_results.append()\n",
    "    results.append()"
   ]
  },
  {
   "cell_type": "code",
   "execution_count": 26,
   "id": "41ed71fb",
   "metadata": {
    "pycharm": {
     "name": "#%%\n"
    },
    "scrolled": false
   },
   "outputs": [],
   "source": [
    "def report_results(model, X, y):\n",
    "    pred = np.argmax(model.predict(X),axis=1)        \n",
    "    acc = accuracy_score(y, pred)\n",
    "    f1 = f1_score(y, pred,average='weighted')\n",
    "    prec = precision_score(y, pred,average='weighted')\n",
    "    rec = recall_score(y, pred,average='weighted')\n",
    "    kappa = cohen_kappa_score(y, pred)\n",
    "    result = {'f1': f1, 'acc': acc, 'precision': prec, 'recall': rec, 'kappa': kappa}\n",
    "    \n",
    "    con_mat = confusion_matrix(y, pred)\n",
    "    con_mat_norm = con_mat.astype('float') / con_mat.sum(axis=1)[:, np.newaxis]     # 归一化\n",
    "    con_mat_norm = np.around(con_mat_norm, decimals=2)\n",
    "    plt.figure(figsize=(8, 8))\n",
    "    sns.heatmap(con_mat_norm, annot=True, cmap='Blues')\n",
    "    plt.ylim(0, 3)\n",
    "    plt.xlabel('Predicted labels')\n",
    "    plt.ylabel('True labels')\n",
    "    plt.show()\n",
    "    \n",
    "    return result"
   ]
  },
  {
   "cell_type": "code",
   "execution_count": 27,
   "id": "abba62e9",
   "metadata": {
    "pycharm": {
     "name": "#%%\n"
    }
   },
   "outputs": [
    {
     "name": "stdout",
     "output_type": "stream",
     "text": [
      "327/327 [==============================] - 33s 98ms/step\n"
     ]
    },
    {
     "data": {
      "image/png": "[encoded data removed]",
      "text/plain": [
       "<Figure size 800x800 with 2 Axes>"
      ]
     },
     "metadata": {},
     "output_type": "display_data"
    },
    {
     "data": {
      "text/plain": [
       "{'f1': 0.81327583088074,\n",
       " 'acc': 0.8116733755031628,\n",
       " 'precision': 0.8158598649544264,\n",
       " 'recall': 0.8116733755031628,\n",
       " 'kappa': 0.6950954783978878}"
      ]
     },
     "execution_count": 27,
     "metadata": {},
     "output_type": "execute_result"
    }
   ],
   "source": [
    "y_true = np.argmax(y_test, axis=1)\n",
    "report_results(classifier_model, x_test, y_true)"
   ]
  },
  {
   "cell_type": "code",
   "execution_count": 28,
   "id": "c67f7b80",
   "metadata": {
    "pycharm": {
     "name": "#%%\n"
    }
   },
   "outputs": [
    {
     "name": "stderr",
     "output_type": "stream",
     "text": [
      "D:\\dev tools\\anaconda\\envs\\tensorflow-gpu\\lib\\site-packages\\numpy\\core\\shape_base.py:65: VisibleDeprecationWarning: Creating an ndarray from ragged nested sequences (which is a list-or-tuple of lists-or-tuples-or ndarrays with different lengths or shapes) is deprecated. If you meant to do this, you must specify 'dtype=object' when creating the ndarray.\n",
      "  ary = asanyarray(ary)\n"
     ]
    },
    {
     "data": {
      "image/png": "[encoded data removed]",
      "text/plain": [
       "<Figure size 1400x850 with 1 Axes>"
      ]
     },
     "metadata": {},
     "output_type": "display_data"
    }
   ],
   "source": [
    "csv_path = 'C:/Users/ROG/OneDrive/桌面/FYP/Model/TWB_4_113_1.25/record.csv'\n",
    "records = pd.read_csv(csv_path)\n",
    "\n",
    "COLOR_SCALE = [\n",
    "    \"#7F3C8D\", # accuracy\n",
    "    \"#11A579\", # loss\n",
    "    \"#3969AC\", # recall\n",
    "    \"#F2B701\", # val_accuracy\n",
    "    \"#E73F74\", # val_loss\n",
    "    \"#80BA5A\"  # val_recall\n",
    "]\n",
    "GREY10 = \"#1a1a1a\"\n",
    "GREY30 = \"#4d4d4d\"\n",
    "GREY40 = \"#666666\"\n",
    "GREY50 = \"#7f7f7f\"\n",
    "GREY60 = \"#999999\"\n",
    "GREY75 = \"#bfbfbf\"\n",
    "GREY91 = \"#e8e8e8\"\n",
    "GREY98 = \"#fafafa\"\n",
    "\n",
    "fig, ax = plt.subplots(figsize = (14, 8.5))\n",
    "\n",
    "fig.patch.set_facecolor(\"#fafafa\")\n",
    "ax.set_facecolor(\"#fafafa\")\n",
    "for h in np.arange(-10, 151, 10):\n",
    "    ax.axvline(h, color=GREY91, lw=0.6, zorder=0)\n",
    "ax.hlines(y=np.arange(0, 5, 0.25), xmin=0, xmax=150, color=GREY91, lw=0.6)\n",
    "ax.hlines(y=1, xmin=0, xmax=150, color=GREY60, lw=1)\n",
    "\n",
    "labels=['accuracy','loss','recall','val_accuracy','val_loss','val_recall']\n",
    "\n",
    "for idx,label in enumerate(labels):\n",
    "    data = records[label]\n",
    "    color = COLOR_SCALE[idx]\n",
    "    ax.plot(records['epoch'],data,color=color,lw=1.5)\n",
    "    \n",
    "ax.set_xlim(-10, 155)\n",
    "ax.set_ylim(0, 5)\n",
    "\n",
    "LABEL_Y = [\n",
    "    1.25,  # accuracy\n",
    "    0.25,  # loss\n",
    "    1.0,    # recall\n",
    "    0.8,   # val_accuracy\n",
    "    3.0,  # val_loss\n",
    "    0.65    # val_recall\n",
    "]\n",
    "\n",
    "x_start = 151\n",
    "x_end = 156\n",
    "PAD = 0.1\n",
    "data_text = records.loc[records['epoch'] == 149]\n",
    "\n",
    "for idx,label in enumerate(labels):\n",
    "    data = data_text[label]\n",
    "    color = COLOR_SCALE[idx]\n",
    "    text = label + '(' + str(round(float(data),3)) + ')'\n",
    "    y_start = data\n",
    "    y_end = LABEL_Y[idx]\n",
    "    ax.plot(\n",
    "        [x_start, (x_start + x_end - PAD) / 2 , x_end - PAD], \n",
    "        [y_start, y_end, y_end], \n",
    "        color=color, \n",
    "        alpha=0.5, \n",
    "        ls=\"dashed\"\n",
    "    )\n",
    "    ax.text(\n",
    "        x_end, \n",
    "        y_end, \n",
    "        text, \n",
    "        color=color, \n",
    "        fontsize=14, \n",
    "        weight=\"bold\", \n",
    "        #fontfamily=\"Montserrat\", \n",
    "        va=\"center\"\n",
    "    )"
   ]
  },
  {
   "cell_type": "code",
   "execution_count": null,
   "id": "44058f1d",
   "metadata": {
    "pycharm": {
     "name": "#%%\n"
    }
   },
   "outputs": [],
   "source": []
  },
  {
   "cell_type": "code",
   "execution_count": null,
   "id": "b316a81b",
   "metadata": {
    "pycharm": {
     "name": "#%%\n"
    }
   },
   "outputs": [],
   "source": []
  },
  {
   "cell_type": "code",
   "execution_count": null,
   "id": "6edbb0c2",
   "metadata": {
    "pycharm": {
     "name": "#%%\n"
    }
   },
   "outputs": [],
   "source": []
  },
  {
   "cell_type": "code",
   "execution_count": null,
   "id": "17f9b3b0",
   "metadata": {
    "pycharm": {
     "name": "#%%\n"
    }
   },
   "outputs": [],
   "source": []
  },
  {
   "cell_type": "code",
   "execution_count": null,
   "id": "19577b48",
   "metadata": {
    "pycharm": {
     "name": "#%%\n"
    }
   },
   "outputs": [],
   "source": []
  },
  {
   "cell_type": "code",
   "execution_count": null,
   "id": "c818a880",
   "metadata": {
    "pycharm": {
     "name": "#%%\n"
    }
   },
   "outputs": [],
   "source": []
  }
 ],
 "metadata": {
  "kernelspec": {
   "display_name": "tensorflow-gpu",
   "language": "python",
   "name": "tensorflow-gpu"
  },
  "language_info": {
   "codemirror_mode": {
    "name": "ipython",
    "version": 3
   },
   "file_extension": ".py",
   "mimetype": "text/x-python",
   "name": "python",
   "nbconvert_exporter": "python",
   "pygments_lexer": "ipython3",
   "version": "3.9.12"
  }
 },
 "nbformat": 4,
 "nbformat_minor": 5
}
