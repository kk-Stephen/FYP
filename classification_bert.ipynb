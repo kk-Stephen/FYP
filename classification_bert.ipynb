{
 "cells": [
  {
   "cell_type": "markdown",
   "id": "60d68be8",
   "metadata": {
    "pycharm": {
     "name": "#%% md\n"
    }
   },
   "source": [
    "## dataset path"
   ]
  },
  {
   "cell_type": "code",
   "execution_count": 1,
   "id": "1fcb5c5b",
   "metadata": {
    "pycharm": {
     "name": "#%%\n"
    }
   },
   "outputs": [],
   "source": [
    "train_dir = 'C:/Users/15972/OneDrive/桌面/FYP/Dataset/Train_data/train_data_after_washing.csv'\n",
    "test_dir = 'C:/Users/15972/OneDrive/桌面/FYP/Dataset/Test_data/test_data_after_washing.csv'"
   ]
  },
  {
   "cell_type": "code",
   "execution_count": 2,
   "id": "52e9b832",
   "metadata": {
    "pycharm": {
     "name": "#%%\n"
    }
   },
   "outputs": [],
   "source": [
    "import os\n",
    "import shutil\n",
    "\n",
    "import tensorflow as tf\n",
    "import tensorflow_hub as hub\n",
    "import tensorflow_text as text\n",
    "from official.nlp import optimization  # to create AdamW optimizer\n",
    "\n",
    "import matplotlib.pyplot as plt\n",
    "import numpy\n",
    "import pandas as pd\n",
    "import seaborn as sns\n",
    "\n",
    "tf.get_logger().setLevel('ERROR') # return ERROR messages, ignore others"
   ]
  },
  {
   "cell_type": "markdown",
   "id": "621c275e",
   "metadata": {
    "pycharm": {
     "name": "#%% md\n"
    }
   },
   "source": [
    "## One-hot"
   ]
  },
  {
   "cell_type": "code",
   "execution_count": 3,
   "id": "0fb3d33e",
   "metadata": {
    "pycharm": {
     "name": "#%%\n"
    }
   },
   "outputs": [],
   "source": [
    "def encode_one_hot(ori_dataframe):\n",
    "    dummies = pd.get_dummies(ori_dataframe.rating)\n",
    "    res = pd.concat([ori_dataframe, dummies], axis=1)\n",
    "    return res"
   ]
  },
  {
   "cell_type": "markdown",
   "id": "7c4f1202",
   "metadata": {
    "pycharm": {
     "name": "#%% md\n"
    }
   },
   "source": [
    "## load data"
   ]
  },
  {
   "cell_type": "code",
   "execution_count": 4,
   "id": "a33795a3",
   "metadata": {
    "pycharm": {
     "name": "#%%\n"
    }
   },
   "outputs": [],
   "source": [
    "data = pd.read_csv(train_dir)\n",
    "data = pd.DataFrame(data)\n",
    "test_data = pd.read_csv(test_dir)\n",
    "test_data = pd.DataFrame(test_data)\n",
    "train_data = pd.DataFrame()\n",
    "val_data = pd.DataFrame()\n",
    "data = data[[\"review\",\"rating\"]]\n",
    "test_data = test_data[[\"review\",\"rating\"]]"
   ]
  },
  {
   "cell_type": "code",
   "execution_count": 5,
   "id": "d2a7fab8",
   "metadata": {
    "pycharm": {
     "name": "#%%\n"
    }
   },
   "outputs": [
    {
     "data": {
      "text/html": [
       "<div>\n",
       "<style scoped>\n",
       "    .dataframe tbody tr th:only-of-type {\n",
       "        vertical-align: middle;\n",
       "    }\n",
       "\n",
       "    .dataframe tbody tr th {\n",
       "        vertical-align: top;\n",
       "    }\n",
       "\n",
       "    .dataframe thead th {\n",
       "        text-align: right;\n",
       "    }\n",
       "</style>\n",
       "<table border=\"1\" class=\"dataframe\">\n",
       "  <thead>\n",
       "    <tr style=\"text-align: right;\">\n",
       "      <th></th>\n",
       "      <th>review</th>\n",
       "      <th>rating</th>\n",
       "    </tr>\n",
       "  </thead>\n",
       "  <tbody>\n",
       "    <tr>\n",
       "      <th>0</th>\n",
       "      <td>\"Abilify changed my life. There is hope. I was...</td>\n",
       "      <td>10</td>\n",
       "    </tr>\n",
       "    <tr>\n",
       "      <th>1</th>\n",
       "      <td>\"I have taken anti-depressants for years, with...</td>\n",
       "      <td>10</td>\n",
       "    </tr>\n",
       "    <tr>\n",
       "      <th>2</th>\n",
       "      <td>\"I&amp;#039;ve been on every medicine under the su...</td>\n",
       "      <td>10</td>\n",
       "    </tr>\n",
       "    <tr>\n",
       "      <th>3</th>\n",
       "      <td>\"I have insomnia, it&amp;#039;s horrible. My story...</td>\n",
       "      <td>10</td>\n",
       "    </tr>\n",
       "    <tr>\n",
       "      <th>4</th>\n",
       "      <td>\"Honestly, I have been taking ativan for 2 yea...</td>\n",
       "      <td>6</td>\n",
       "    </tr>\n",
       "  </tbody>\n",
       "</table>\n",
       "</div>"
      ],
      "text/plain": [
       "                                              review  rating\n",
       "0  \"Abilify changed my life. There is hope. I was...      10\n",
       "1  \"I have taken anti-depressants for years, with...      10\n",
       "2  \"I&#039;ve been on every medicine under the su...      10\n",
       "3  \"I have insomnia, it&#039;s horrible. My story...      10\n",
       "4  \"Honestly, I have been taking ativan for 2 yea...       6"
      ]
     },
     "execution_count": 5,
     "metadata": {},
     "output_type": "execute_result"
    }
   ],
   "source": [
    "data.head()"
   ]
  },
  {
   "cell_type": "markdown",
   "id": "feb5b3aa",
   "metadata": {
    "pycharm": {
     "name": "#%% md\n"
    }
   },
   "source": [
    "## step sampling"
   ]
  },
  {
   "cell_type": "code",
   "execution_count": 5,
   "id": "730e51e8",
   "metadata": {
    "pycharm": {
     "name": "#%%\n"
    }
   },
   "outputs": [],
   "source": [
    "for i in range(1,11):\n",
    "    condition = data['rating'] == i\n",
    "    subset = data[condition].sample(frac=0.3)\n",
    "    val_data = pd.concat([subset, val_data])\n",
    "\n",
    "train_data = data [~data.index.isin(val_data.index)]"
   ]
  },
  {
   "cell_type": "code",
   "execution_count": 7,
   "id": "72fb92e0",
   "metadata": {
    "pycharm": {
     "name": "#%%\n"
    }
   },
   "outputs": [
    {
     "data": {
      "text/html": [
       "<div>\n",
       "<style scoped>\n",
       "    .dataframe tbody tr th:only-of-type {\n",
       "        vertical-align: middle;\n",
       "    }\n",
       "\n",
       "    .dataframe tbody tr th {\n",
       "        vertical-align: top;\n",
       "    }\n",
       "\n",
       "    .dataframe thead th {\n",
       "        text-align: right;\n",
       "    }\n",
       "</style>\n",
       "<table border=\"1\" class=\"dataframe\">\n",
       "  <thead>\n",
       "    <tr style=\"text-align: right;\">\n",
       "      <th></th>\n",
       "      <th>review</th>\n",
       "      <th>rating</th>\n",
       "    </tr>\n",
       "  </thead>\n",
       "  <tbody>\n",
       "    <tr>\n",
       "      <th>23496</th>\n",
       "      <td>\"I believe I have found the answer I have been...</td>\n",
       "      <td>10</td>\n",
       "    </tr>\n",
       "    <tr>\n",
       "      <th>23197</th>\n",
       "      <td>\"At first I read all the reviews positive and ...</td>\n",
       "      <td>10</td>\n",
       "    </tr>\n",
       "    <tr>\n",
       "      <th>24361</th>\n",
       "      <td>\"After over a period of 17 years and trying a ...</td>\n",
       "      <td>10</td>\n",
       "    </tr>\n",
       "    <tr>\n",
       "      <th>7029</th>\n",
       "      <td>\"Lexapro has changed my life for the better.  ...</td>\n",
       "      <td>10</td>\n",
       "    </tr>\n",
       "    <tr>\n",
       "      <th>21772</th>\n",
       "      <td>\"This was the only medicine I could take and d...</td>\n",
       "      <td>10</td>\n",
       "    </tr>\n",
       "    <tr>\n",
       "      <th>...</th>\n",
       "      <td>...</td>\n",
       "      <td>...</td>\n",
       "    </tr>\n",
       "    <tr>\n",
       "      <th>13336</th>\n",
       "      <td>\"It didn&amp;#039;t work for me, I was on 40mg ini...</td>\n",
       "      <td>1</td>\n",
       "    </tr>\n",
       "    <tr>\n",
       "      <th>13248</th>\n",
       "      <td>\"I&amp;#039;ve suffered from insomnia for years an...</td>\n",
       "      <td>1</td>\n",
       "    </tr>\n",
       "    <tr>\n",
       "      <th>1790</th>\n",
       "      <td>\"I woke up.from the absolute craziest dream I&amp;...</td>\n",
       "      <td>1</td>\n",
       "    </tr>\n",
       "    <tr>\n",
       "      <th>13786</th>\n",
       "      <td>\"I did not know what was happening to me when ...</td>\n",
       "      <td>1</td>\n",
       "    </tr>\n",
       "    <tr>\n",
       "      <th>27356</th>\n",
       "      <td>\"It didnt seem to help me\"</td>\n",
       "      <td>1</td>\n",
       "    </tr>\n",
       "  </tbody>\n",
       "</table>\n",
       "<p>9426 rows × 2 columns</p>\n",
       "</div>"
      ],
      "text/plain": [
       "                                                  review  rating\n",
       "23496  \"I believe I have found the answer I have been...      10\n",
       "23197  \"At first I read all the reviews positive and ...      10\n",
       "24361  \"After over a period of 17 years and trying a ...      10\n",
       "7029   \"Lexapro has changed my life for the better.  ...      10\n",
       "21772  \"This was the only medicine I could take and d...      10\n",
       "...                                                  ...     ...\n",
       "13336  \"It didn&#039;t work for me, I was on 40mg ini...       1\n",
       "13248  \"I&#039;ve suffered from insomnia for years an...       1\n",
       "1790   \"I woke up.from the absolute craziest dream I&...       1\n",
       "13786  \"I did not know what was happening to me when ...       1\n",
       "27356                         \"It didnt seem to help me\"       1\n",
       "\n",
       "[9426 rows x 2 columns]"
      ]
     },
     "execution_count": 7,
     "metadata": {},
     "output_type": "execute_result"
    }
   ],
   "source": [
    "val_data"
   ]
  },
  {
   "cell_type": "code",
   "execution_count": 8,
   "id": "a25c7154",
   "metadata": {
    "pycharm": {
     "name": "#%%\n"
    }
   },
   "outputs": [
    {
     "data": {
      "text/html": [
       "<div>\n",
       "<style scoped>\n",
       "    .dataframe tbody tr th:only-of-type {\n",
       "        vertical-align: middle;\n",
       "    }\n",
       "\n",
       "    .dataframe tbody tr th {\n",
       "        vertical-align: top;\n",
       "    }\n",
       "\n",
       "    .dataframe thead th {\n",
       "        text-align: right;\n",
       "    }\n",
       "</style>\n",
       "<table border=\"1\" class=\"dataframe\">\n",
       "  <thead>\n",
       "    <tr style=\"text-align: right;\">\n",
       "      <th></th>\n",
       "      <th>review</th>\n",
       "      <th>rating</th>\n",
       "    </tr>\n",
       "  </thead>\n",
       "  <tbody>\n",
       "    <tr>\n",
       "      <th>0</th>\n",
       "      <td>\"Abilify changed my life. There is hope. I was...</td>\n",
       "      <td>10</td>\n",
       "    </tr>\n",
       "    <tr>\n",
       "      <th>1</th>\n",
       "      <td>\"I have taken anti-depressants for years, with...</td>\n",
       "      <td>10</td>\n",
       "    </tr>\n",
       "    <tr>\n",
       "      <th>2</th>\n",
       "      <td>\"I&amp;#039;ve been on every medicine under the su...</td>\n",
       "      <td>10</td>\n",
       "    </tr>\n",
       "    <tr>\n",
       "      <th>4</th>\n",
       "      <td>\"Honestly, I have been taking ativan for 2 yea...</td>\n",
       "      <td>6</td>\n",
       "    </tr>\n",
       "    <tr>\n",
       "      <th>5</th>\n",
       "      <td>\"1 week on Zoloft for anxiety and mood swings....</td>\n",
       "      <td>8</td>\n",
       "    </tr>\n",
       "    <tr>\n",
       "      <th>...</th>\n",
       "      <td>...</td>\n",
       "      <td>...</td>\n",
       "    </tr>\n",
       "    <tr>\n",
       "      <th>31413</th>\n",
       "      <td>\"Honestly , This works pretty well for me. It ...</td>\n",
       "      <td>10</td>\n",
       "    </tr>\n",
       "    <tr>\n",
       "      <th>31415</th>\n",
       "      <td>\"Had panic attacks and social anxiety starting...</td>\n",
       "      <td>9</td>\n",
       "    </tr>\n",
       "    <tr>\n",
       "      <th>31416</th>\n",
       "      <td>\"This is the third med I&amp;#039;ve tried for anx...</td>\n",
       "      <td>2</td>\n",
       "    </tr>\n",
       "    <tr>\n",
       "      <th>31417</th>\n",
       "      <td>\"I was super against taking medication. I&amp;#039...</td>\n",
       "      <td>9</td>\n",
       "    </tr>\n",
       "    <tr>\n",
       "      <th>31418</th>\n",
       "      <td>\"I have been off Prozac for about 4 weeks now....</td>\n",
       "      <td>8</td>\n",
       "    </tr>\n",
       "  </tbody>\n",
       "</table>\n",
       "<p>21993 rows × 2 columns</p>\n",
       "</div>"
      ],
      "text/plain": [
       "                                                  review  rating\n",
       "0      \"Abilify changed my life. There is hope. I was...      10\n",
       "1      \"I have taken anti-depressants for years, with...      10\n",
       "2      \"I&#039;ve been on every medicine under the su...      10\n",
       "4      \"Honestly, I have been taking ativan for 2 yea...       6\n",
       "5      \"1 week on Zoloft for anxiety and mood swings....       8\n",
       "...                                                  ...     ...\n",
       "31413  \"Honestly , This works pretty well for me. It ...      10\n",
       "31415  \"Had panic attacks and social anxiety starting...       9\n",
       "31416  \"This is the third med I&#039;ve tried for anx...       2\n",
       "31417  \"I was super against taking medication. I&#039...       9\n",
       "31418  \"I have been off Prozac for about 4 weeks now....       8\n",
       "\n",
       "[21993 rows x 2 columns]"
      ]
     },
     "execution_count": 8,
     "metadata": {},
     "output_type": "execute_result"
    }
   ],
   "source": [
    "train_data"
   ]
  },
  {
   "cell_type": "code",
   "execution_count": 9,
   "id": "3aecbb42",
   "metadata": {
    "pycharm": {
     "name": "#%%\n"
    }
   },
   "outputs": [
    {
     "data": {
      "text/plain": [
       "10    6979\n",
       "9     4287\n",
       "8     2968\n",
       "1     2512\n",
       "7     1403\n",
       "5      904\n",
       "6      874\n",
       "2      792\n",
       "3      724\n",
       "4      550\n",
       "Name: rating, dtype: int64"
      ]
     },
     "execution_count": 9,
     "metadata": {},
     "output_type": "execute_result"
    }
   ],
   "source": [
    "train_data['rating'].value_counts()"
   ]
  },
  {
   "cell_type": "markdown",
   "id": "85ffbbb1",
   "metadata": {
    "pycharm": {
     "name": "#%% md\n"
    }
   },
   "source": [
    "## labels distribution"
   ]
  },
  {
   "cell_type": "code",
   "execution_count": 10,
   "id": "932e9da8",
   "metadata": {
    "pycharm": {
     "name": "#%%\n"
    }
   },
   "outputs": [
    {
     "data": {
      "image/png": "[encoded data removed]",
      "text/plain": [
       "<Figure size 576x576 with 1 Axes>"
      ]
     },
     "metadata": {},
     "output_type": "display_data"
    }
   ],
   "source": [
    "labels = ['10','9','8','1','7','5','6','2','3','4']\n",
    "train_data['rating'].value_counts().plot.pie(figsize=(8,8),title=\"Distribution of reviews per sentiment in train dataset\",labels=labels,autopct='%.2f%%')\n",
    "plt.legend(labels)\n",
    "plt.gca().set_aspect('equal')"
   ]
  },
  {
   "cell_type": "code",
   "execution_count": 11,
   "id": "5f68653d",
   "metadata": {
    "pycharm": {
     "name": "#%%\n"
    }
   },
   "outputs": [
    {
     "data": {
      "image/png": "[encoded data removed]",
      "text/plain": [
       "<Figure size 576x576 with 1 Axes>"
      ]
     },
     "metadata": {},
     "output_type": "display_data"
    }
   ],
   "source": [
    "labels = ['10','9','8','1','7','5','6','2','3','4']\n",
    "colors = sns.color_palette('pastel')[0:10]\n",
    "test_data['rating'].value_counts().plot.pie(figsize=(8,8),title=\"Distribution of reviews per sentiment in test dataset\",colors=colors,labels=labels,autopct='%.2f%%')\n",
    "plt.legend(labels)\n",
    "plt.gca().set_aspect('equal')"
   ]
  },
  {
   "cell_type": "markdown",
   "id": "3c1ba074",
   "metadata": {
    "pycharm": {
     "name": "#%% md\n"
    }
   },
   "source": [
    "## change labels to one-hot"
   ]
  },
  {
   "cell_type": "code",
   "execution_count": 6,
   "id": "56b9fc55",
   "metadata": {
    "pycharm": {
     "name": "#%%\n"
    }
   },
   "outputs": [],
   "source": [
    "train_data = encode_one_hot(train_data)\n",
    "val_data = encode_one_hot(val_data)\n",
    "test_data = encode_one_hot(test_data)\n",
    "train_target = train_data[[1,2,3,4,5,6,7,8,9,10]]\n",
    "val_target = val_data[[1,2,3,4,5,6,7,8,9,10]]\n",
    "test_target = test_data[[1,2,3,4,5,6,7,8,9,10]]"
   ]
  },
  {
   "cell_type": "markdown",
   "id": "8213b241",
   "metadata": {
    "pycharm": {
     "name": "#%% md\n"
    }
   },
   "source": [
    "## from datraframes to numpy "
   ]
  },
  {
   "cell_type": "code",
   "execution_count": 7,
   "id": "8f619101",
   "metadata": {
    "pycharm": {
     "name": "#%%\n"
    }
   },
   "outputs": [],
   "source": [
    "x_train = train_data[\"review\"].to_numpy()\n",
    "y_train = train_target.to_numpy()\n",
    "x_val = val_data[\"review\"].to_numpy()\n",
    "y_val = val_target.to_numpy()\n",
    "x_test = test_data[\"review\"].to_numpy()\n",
    "y_test = test_target.to_numpy()"
   ]
  },
  {
   "cell_type": "code",
   "execution_count": 14,
   "id": "0f54a937",
   "metadata": {
    "pycharm": {
     "name": "#%%\n"
    }
   },
   "outputs": [
    {
     "data": {
      "text/plain": [
       "array([[0, 0, 0, ..., 0, 0, 1],\n",
       "       [0, 0, 0, ..., 0, 0, 1],\n",
       "       [0, 0, 0, ..., 0, 0, 1],\n",
       "       ...,\n",
       "       [0, 1, 0, ..., 0, 0, 0],\n",
       "       [0, 0, 0, ..., 0, 1, 0],\n",
       "       [0, 0, 0, ..., 1, 0, 0]], dtype=uint8)"
      ]
     },
     "execution_count": 14,
     "metadata": {},
     "output_type": "execute_result"
    }
   ],
   "source": [
    "y_train"
   ]
  },
  {
   "cell_type": "code",
   "execution_count": 15,
   "id": "da817962",
   "metadata": {
    "pycharm": {
     "name": "#%%\n"
    }
   },
   "outputs": [
    {
     "data": {
      "text/plain": [
       "array(['\"Abilify changed my life. There is hope. I was on Zoloft and Clonidine when I first started Abilify at the age of 15.. Zoloft for depression and Clondine to manage my complete rage. My moods were out of control. I was depressed and hopeless one second and then mean, irrational, and full of rage the next. My Dr. prescribed me 2mg of Abilify and from that point on I feel like I have been cured though I know I&#039;m not.. Bi-polar disorder is a constant battle. I know Abilify works for me because I have tried to get off it and lost complete control over my emotions. Went back on it and I was golden again.  I am on 5mg 2x daily. I am now 21 and better than I have ever been in the past. Only side effect is I like to eat a lot.\"',\n",
       "       '\"I have taken anti-depressants for years, with some improvement but mostly moderate to severe side affects, which makes me go off them.\\r\\n\\r\\nI only take Cymbalta now mostly for pain.\\r\\n\\r\\nWhen I began Deplin, I noticed a major improvement overnight. More energy, better disposition, and no sinking to the low lows of major depression. I have been taking it for about 3 months now and feel like a normal person for the first time ever. Best thing, no side effects.\"',\n",
       "       '\"I&#039;ve been on every medicine under the sun (it seems) to manage the hypomania / mania of Bipolar2. Within a few days of starting Lamictal (was on Tegretol) it was as if someone had turned a light on in my head. Is this the way &quot;normal&quot; people think? was one of the first things that struck me. I sleep like a log, have no irritability, almost no anger (other than what would be considered normal). I am able to focus and my creative, impulsive thoughts have decreased enough to be manageable. It&#039;s a God send as I would perennially be in a state of hypo mania, which sounds great, but I was physically and emotionally exhausted. My libido is markedly lower but I wonder if that is perhaps an effect of not being hypo manic. I take 20 mg for anxiety.\"',\n",
       "       ...,\n",
       "       '\"This is the third med I&#039;ve tried for anxiety and mild depression. Been on it for a week and I hate it so much. I am so dizzy, I have major diarrhea and feel worse than I started. Contacting my doc in the am  and changing asap.\"',\n",
       "       '\"I was super against taking medication. I&#039;ve started dealing with anxiety (some depression) for awhile now. I got prescribed Ativan months ago, and never took it. I thought I could handle myself again but then my relationship started to fail because of my over thinking. I went back to the doctor, and decided to try it. She prescribed me .50 3 times a day. I took a full one at night after a bad panic attack, and within 30 minutes I was calm and slept through the entire night. I have only been taking a half morning and mid afternoon and full at night because it does make you feel tired. My brain is in a slight fog, but nothing crazy, I still know whats going on though :) Give it a try if you are suffering. You will know after 1.\"',\n",
       "       '\"I have been off Prozac for about 4 weeks now...after starting 2 years ago for a terrible depression/sadness/menopause. Wanted to take a Holiday to see what would happen. When on Prozac side effects like decrease sexual drive and slight weight gain, otherwise it put my menopause symptoms in control Decrease my hot flashes, helped my sadness, and gave relief for some mild OCD that I have had for years. Now when I am off the medicine I notice and increase in my OCD behaviors. Not concentrating as well at work. Sexual appetite is still not that great despite a wonderful patient husband (could still just be the menopause). Hot flashes have not really returned and I do not feel overwhelmingly sad. I will start Prozac tomorrow and see if it help with OCD.\"'],\n",
       "      dtype=object)"
      ]
     },
     "execution_count": 15,
     "metadata": {},
     "output_type": "execute_result"
    }
   ],
   "source": [
    "x_train"
   ]
  },
  {
   "cell_type": "markdown",
   "id": "fda7b19d",
   "metadata": {
    "pycharm": {
     "name": "#%% md\n"
    }
   },
   "source": [
    "## load bert preprocess and encoder"
   ]
  },
  {
   "cell_type": "code",
   "execution_count": 8,
   "id": "c8fee841",
   "metadata": {
    "pycharm": {
     "name": "#%%\n"
    }
   },
   "outputs": [],
   "source": [
    "tfhub_handle_encoder = 'https://tfhub.dev/tensorflow/albert_en_base/2'\n",
    "tfhub_handle_preprocess = 'https://tfhub.dev/tensorflow/albert_en_preprocess/3'"
   ]
  },
  {
   "cell_type": "code",
   "execution_count": 9,
   "id": "231071f1",
   "metadata": {
    "pycharm": {
     "name": "#%%\n"
    }
   },
   "outputs": [],
   "source": [
    "bert_preprocess_model = hub.KerasLayer(tfhub_handle_preprocess)"
   ]
  },
  {
   "cell_type": "code",
   "execution_count": 10,
   "id": "172b3a9f",
   "metadata": {
    "pycharm": {
     "name": "#%%\n"
    }
   },
   "outputs": [],
   "source": [
    "bert_model = hub.KerasLayer(tfhub_handle_encoder)"
   ]
  },
  {
   "cell_type": "markdown",
   "id": "15aa0f92",
   "metadata": {
    "pycharm": {
     "name": "#%% md\n"
    }
   },
   "source": [
    "## define model"
   ]
  },
  {
   "cell_type": "code",
   "execution_count": 11,
   "id": "a0f92f8e",
   "metadata": {
    "pycharm": {
     "name": "#%%\n"
    }
   },
   "outputs": [],
   "source": [
    "def build_classifier_model():\n",
    "    text_input = tf.keras.layers.Input(shape=(), dtype=tf.string, name='text')\n",
    "    preprocessing_layer = hub.KerasLayer(tfhub_handle_preprocess, name='preprocessing')\n",
    "    encoder_inputs = preprocessing_layer(text_input)\n",
    "    encoder = hub.KerasLayer(tfhub_handle_encoder, trainable=True, name='BERT_encoder')\n",
    "    outputs = encoder(encoder_inputs)\n",
    "    net = outputs['pooled_output']\n",
    "    net = tf.keras.layers.Dropout(0.1)(net)\n",
    "    net = tf.keras.layers.Dense(10, activation='softmax', name='classifier')(net)\n",
    "    return tf.keras.Model(text_input, net)"
   ]
  },
  {
   "cell_type": "code",
   "execution_count": 12,
   "id": "4228cce9",
   "metadata": {
    "pycharm": {
     "name": "#%%\n"
    }
   },
   "outputs": [],
   "source": [
    "classifier_model = build_classifier_model()"
   ]
  },
  {
   "cell_type": "code",
   "execution_count": 21,
   "id": "ea7749fc",
   "metadata": {
    "pycharm": {
     "name": "#%%\n"
    }
   },
   "outputs": [
    {
     "name": "stdout",
     "output_type": "stream",
     "text": [
      "Model: \"model\"\n",
      "__________________________________________________________________________________________________\n",
      " Layer (type)                   Output Shape         Param #     Connected to                     \n",
      "==================================================================================================\n",
      " text (InputLayer)              [(None,)]            0           []                               \n",
      "                                                                                                  \n",
      " preprocessing (KerasLayer)     {'input_mask': (Non  0           ['text[0][0]']                   \n",
      "                                e, 128),                                                          \n",
      "                                 'input_type_ids':                                                \n",
      "                                (None, 128),                                                      \n",
      "                                 'input_word_ids':                                                \n",
      "                                (None, 128)}                                                      \n",
      "                                                                                                  \n",
      " BERT_encoder (KerasLayer)      {'default': (None,   11683584    ['preprocessing[0][0]',          \n",
      "                                768),                             'preprocessing[0][1]',          \n",
      "                                 'encoder_outputs':               'preprocessing[0][2]']          \n",
      "                                 [(None, 128, 768),                                               \n",
      "                                 (None, 128, 768),                                                \n",
      "                                 (None, 128, 768),                                                \n",
      "                                 (None, 128, 768),                                                \n",
      "                                 (None, 128, 768),                                                \n",
      "                                 (None, 128, 768),                                                \n",
      "                                 (None, 128, 768),                                                \n",
      "                                 (None, 128, 768),                                                \n",
      "                                 (None, 128, 768),                                                \n",
      "                                 (None, 128, 768),                                                \n",
      "                                 (None, 128, 768),                                                \n",
      "                                 (None, 128, 768)],                                               \n",
      "                                 'pooled_output': (                                               \n",
      "                                None, 768),                                                       \n",
      "                                 'sequence_output':                                               \n",
      "                                 (None, 128, 768)}                                                \n",
      "                                                                                                  \n",
      " dropout (Dropout)              (None, 768)          0           ['BERT_encoder[0][13]']          \n",
      "                                                                                                  \n",
      " classifier (Dense)             (None, 10)           7690        ['dropout[0][0]']                \n",
      "                                                                                                  \n",
      "==================================================================================================\n",
      "Total params: 11,691,274\n",
      "Trainable params: 11,691,274\n",
      "Non-trainable params: 0\n",
      "__________________________________________________________________________________________________\n"
     ]
    }
   ],
   "source": [
    "classifier_model.summary()"
   ]
  },
  {
   "cell_type": "markdown",
   "id": "d3f44919",
   "metadata": {
    "pycharm": {
     "name": "#%% md\n"
    }
   },
   "source": [
    "## define loss and metrics"
   ]
  },
  {
   "cell_type": "code",
   "execution_count": 22,
   "id": "0f96e581",
   "metadata": {
    "pycharm": {
     "name": "#%%\n"
    }
   },
   "outputs": [],
   "source": [
    "##loss = tf.keras.losses.CategoricalCrossentropy(from_logits=False)\n",
    "##metrics = tf.keras.metrics.CategoricalAccuracy()"
   ]
  },
  {
   "cell_type": "code",
   "execution_count": 13,
   "id": "63fa80ea",
   "metadata": {
    "pycharm": {
     "name": "#%%\n"
    }
   },
   "outputs": [],
   "source": [
    "def flood_loss(y_true,y_pred):\n",
    "    alpha = tf.constant([[2],[6],[6],[6],[5],[4],[2],[2],[1],[1]], dtype=tf.float32) #adjust weight for each label\n",
    "    gamma = 0.25\n",
    "    epsilon = 1.e-7\n",
    "    y_true = tf.cast(y_true, tf.float32)\n",
    "    y_pred = tf.clip_by_value(y_pred, epsilon, 1. - epsilon)\n",
    "    y_t = tf.multiply(y_true, y_pred) + tf.multiply(1-y_true, 1-y_pred)\n",
    "    ce = -tf.math.log(y_t)\n",
    "    weight = tf.pow(tf.subtract(1., y_t), gamma)\n",
    "    fl = tf.matmul(tf.multiply(weight, ce), alpha)\n",
    "    loss = tf.reduce_mean(fl)\n",
    "    loss = tf.abs(loss-0.9) + 0.9\n",
    "    loss = tf.convert_to_tensor(loss)\n",
    "    return loss\n",
    "    \n",
    "#metrics = tf.keras.metrics.Recall()"
   ]
  },
  {
   "cell_type": "markdown",
   "id": "454c9987",
   "metadata": {
    "pycharm": {
     "name": "#%% md\n"
    }
   },
   "source": [
    "## define learning rate, optimizer"
   ]
  },
  {
   "cell_type": "code",
   "execution_count": 14,
   "id": "a659afef",
   "metadata": {
    "pycharm": {
     "name": "#%%\n"
    }
   },
   "outputs": [],
   "source": [
    "epochs = 50\n",
    "steps_per_epoch = 0\n",
    "for _ in x_train:\n",
    "    steps_per_epoch = steps_per_epoch + 1\n",
    "num_train_steps = steps_per_epoch * epochs\n",
    "num_warmup_steps = int(0.1*num_train_steps)\n",
    "\n",
    "init_lr = 3e-6\n",
    "optimizer = optimization.create_optimizer(init_lr=init_lr,\n",
    "                                          num_train_steps=num_train_steps,\n",
    "                                          num_warmup_steps=num_warmup_steps,\n",
    "                                          optimizer_type='adamw')"
   ]
  },
  {
   "cell_type": "code",
   "execution_count": 15,
   "id": "2cea3a5a",
   "metadata": {
    "pycharm": {
     "name": "#%%\n"
    }
   },
   "outputs": [],
   "source": [
    "classifier_model.compile(optimizer=optimizer,\n",
    "                         loss=flood_loss,\n",
    "                         metrics=[\"accuracy\", tf.keras.metrics.Recall(name='recall')])"
   ]
  },
  {
   "cell_type": "markdown",
   "id": "69d4cfa0",
   "metadata": {
    "pycharm": {
     "name": "#%% md\n"
    }
   },
   "source": [
    "## checkpoint, traing recoords and early stopping"
   ]
  },
  {
   "cell_type": "code",
   "execution_count": 16,
   "id": "0fed2b2f",
   "metadata": {
    "pycharm": {
     "name": "#%%\n"
    }
   },
   "outputs": [],
   "source": [
    "checkpoint_path = 'C:/Users/15972/OneDrive/桌面/FYP/Model/bert/ckpt/cp.ckpt'\n",
    "cp_callback = tf.keras.callbacks.ModelCheckpoint(checkpoint_path,\n",
    "                                                 save_weights_only=True,\n",
    "                                                 verbose=1)"
   ]
  },
  {
   "cell_type": "code",
   "execution_count": 17,
   "id": "6baf354c",
   "metadata": {
    "pycharm": {
     "name": "#%%\n"
    }
   },
   "outputs": [],
   "source": [
    "csv_callback = tf.keras.callbacks.CSVLogger(\n",
    "    'C:/Users/15972/OneDrive/桌面/FYP/Model/bert/record.csv', separator=',', append=False\n",
    ")"
   ]
  },
  {
   "cell_type": "code",
   "execution_count": null,
   "id": "aa320e8c",
   "metadata": {
    "pycharm": {
     "name": "#%%\n"
    }
   },
   "outputs": [],
   "source": [
    "#es_callback = tf.keras.callbacks.EarlyStopping(monitor='val_categorical_accuracy', \n",
    "#                                               patience=10)"
   ]
  },
  {
   "cell_type": "markdown",
   "id": "bfcce8cb",
   "metadata": {
    "pycharm": {
     "name": "#%% md\n"
    }
   },
   "source": [
    "## model reload"
   ]
  },
  {
   "cell_type": "code",
   "execution_count": 29,
   "id": "c3bf267f",
   "metadata": {
    "pycharm": {
     "name": "#%%\n"
    }
   },
   "outputs": [
    {
     "data": {
      "text/plain": [
       "<tensorflow.python.training.tracking.util.CheckpointLoadStatus at 0x256968f11f0>"
      ]
     },
     "execution_count": 29,
     "metadata": {},
     "output_type": "execute_result"
    }
   ],
   "source": [
    "classifier_model.load_weights('C:/Users/15972/OneDrive/桌面/FYP/Model/bert/ckpt_1/cp.ckpt')"
   ]
  },
  {
   "cell_type": "markdown",
   "id": "f91f9103",
   "metadata": {
    "pycharm": {
     "name": "#%% md\n"
    }
   },
   "source": [
    "## training and evaluate"
   ]
  },
  {
   "cell_type": "code",
   "execution_count": null,
   "id": "267c50cb",
   "metadata": {
    "pycharm": {
     "name": "#%%\n"
    }
   },
   "outputs": [
    {
     "name": "stdout",
     "output_type": "stream",
     "text": [
      "Training model with https://tfhub.dev/tensorflow/albert_en_base/2\n",
      "Training model with https://tfhub.dev/tensorflow/albert_en_base/2\n",
      "Epoch 1/120\n",
      "2750/2750 [==============================] - ETA: 0s - loss: 7.2459 - accuracy: 0.1921 - recall: 0.0042\n",
      "Epoch 1: saving model to C:/Users/15972/OneDrive/桌面/FYP/Model/bert/ckpt\\cp.ckpt\n",
      "2750/2750 [==============================] - 974s 348ms/step - loss: 7.2459 - accuracy: 0.1921 - recall: 0.0042 - val_loss: 6.2353 - val_accuracy: 0.2947 - val_recall: 0.0016\n",
      "Epoch 2/120\n",
      "2750/2750 [==============================] - ETA: 0s - loss: 6.1900 - accuracy: 0.2864 - recall: 0.0094\n",
      "Epoch 2: saving model to C:/Users/15972/OneDrive/桌面/FYP/Model/bert/ckpt\\cp.ckpt\n",
      "2750/2750 [==============================] - 1012s 368ms/step - loss: 6.1900 - accuracy: 0.2864 - recall: 0.0094 - val_loss: 5.9681 - val_accuracy: 0.3258 - val_recall: 9.5481e-04\n",
      "Epoch 3/120\n",
      "2750/2750 [==============================] - ETA: 0s - loss: 5.8950 - accuracy: 0.3330 - recall: 0.0283\n",
      "Epoch 3: saving model to C:/Users/15972/OneDrive/桌面/FYP/Model/bert/ckpt\\cp.ckpt\n",
      "2750/2750 [==============================] - 1005s 365ms/step - loss: 5.8950 - accuracy: 0.3330 - recall: 0.0283 - val_loss: 5.5831 - val_accuracy: 0.3751 - val_recall: 0.0585\n",
      "Epoch 4/120\n",
      "2750/2750 [==============================] - ETA: 0s - loss: 5.5307 - accuracy: 0.3786 - recall: 0.0923\n",
      "Epoch 4: saving model to C:/Users/15972/OneDrive/桌面/FYP/Model/bert/ckpt\\cp.ckpt\n",
      "2750/2750 [==============================] - 1001s 364ms/step - loss: 5.5307 - accuracy: 0.3786 - recall: 0.0923 - val_loss: 5.3434 - val_accuracy: 0.3988 - val_recall: 0.1382\n",
      "Epoch 5/120\n",
      "2750/2750 [==============================] - ETA: 0s - loss: 5.2953 - accuracy: 0.3982 - recall: 0.1372\n",
      "Epoch 5: saving model to C:/Users/15972/OneDrive/桌面/FYP/Model/bert/ckpt\\cp.ckpt\n",
      "2750/2750 [==============================] - 1271s 462ms/step - loss: 5.2953 - accuracy: 0.3982 - recall: 0.1372 - val_loss: 5.1340 - val_accuracy: 0.4100 - val_recall: 0.1550\n",
      "Epoch 6/120\n",
      "2750/2750 [==============================] - ETA: 0s - loss: 5.0989 - accuracy: 0.4165 - recall: 0.1717\n",
      "Epoch 6: saving model to C:/Users/15972/OneDrive/桌面/FYP/Model/bert/ckpt\\cp.ckpt\n",
      "2750/2750 [==============================] - 911s 331ms/step - loss: 5.0989 - accuracy: 0.4165 - recall: 0.1717 - val_loss: 5.0578 - val_accuracy: 0.4221 - val_recall: 0.2245\n",
      "Epoch 7/120\n",
      "2750/2750 [==============================] - ETA: 0s - loss: 4.9199 - accuracy: 0.4231 - recall: 0.2058\n",
      "Epoch 7: saving model to C:/Users/15972/OneDrive/桌面/FYP/Model/bert/ckpt\\cp.ckpt\n",
      "2750/2750 [==============================] - 953s 347ms/step - loss: 4.9199 - accuracy: 0.4231 - recall: 0.2058 - val_loss: 4.9154 - val_accuracy: 0.4272 - val_recall: 0.2078\n",
      "Epoch 8/120\n",
      "2750/2750 [==============================] - ETA: 0s - loss: 4.7543 - accuracy: 0.4374 - recall: 0.2217\n",
      "Epoch 8: saving model to C:/Users/15972/OneDrive/桌面/FYP/Model/bert/ckpt\\cp.ckpt\n",
      "2750/2750 [==============================] - 948s 345ms/step - loss: 4.7543 - accuracy: 0.4374 - recall: 0.2217 - val_loss: 4.8822 - val_accuracy: 0.4308 - val_recall: 0.1985\n",
      "Epoch 9/120\n",
      "2750/2750 [==============================] - ETA: 0s - loss: 4.6061 - accuracy: 0.4529 - recall: 0.2351\n",
      "Epoch 9: saving model to C:/Users/15972/OneDrive/桌面/FYP/Model/bert/ckpt\\cp.ckpt\n",
      "2750/2750 [==============================] - 971s 353ms/step - loss: 4.6061 - accuracy: 0.4529 - recall: 0.2351 - val_loss: 4.8366 - val_accuracy: 0.4374 - val_recall: 0.2118\n",
      "Epoch 10/120\n",
      "2750/2750 [==============================] - ETA: 0s - loss: 4.4443 - accuracy: 0.4678 - recall: 0.2532\n",
      "Epoch 10: saving model to C:/Users/15972/OneDrive/桌面/FYP/Model/bert/ckpt\\cp.ckpt\n",
      "2750/2750 [==============================] - 935s 340ms/step - loss: 4.4443 - accuracy: 0.4678 - recall: 0.2532 - val_loss: 4.8904 - val_accuracy: 0.4414 - val_recall: 0.2586\n",
      "Epoch 11/120\n",
      "2750/2750 [==============================] - ETA: 0s - loss: 4.2677 - accuracy: 0.4866 - recall: 0.2660\n",
      "Epoch 11: saving model to C:/Users/15972/OneDrive/桌面/FYP/Model/bert/ckpt\\cp.ckpt\n",
      "2750/2750 [==============================] - 931s 339ms/step - loss: 4.2677 - accuracy: 0.4866 - recall: 0.2660 - val_loss: 4.8055 - val_accuracy: 0.4499 - val_recall: 0.2257\n",
      "Epoch 12/120\n",
      "2750/2750 [==============================] - ETA: 0s - loss: 4.1037 - accuracy: 0.5067 - recall: 0.2885\n",
      "Epoch 12: saving model to C:/Users/15972/OneDrive/桌面/FYP/Model/bert/ckpt\\cp.ckpt\n",
      "2750/2750 [==============================] - 930s 338ms/step - loss: 4.1037 - accuracy: 0.5067 - recall: 0.2885 - val_loss: 4.8227 - val_accuracy: 0.4482 - val_recall: 0.2317\n",
      "Epoch 13/120\n",
      "2750/2750 [==============================] - ETA: 0s - loss: 3.9478 - accuracy: 0.5255 - recall: 0.3099\n",
      "Epoch 13: saving model to C:/Users/15972/OneDrive/桌面/FYP/Model/bert/ckpt\\cp.ckpt\n",
      "2750/2750 [==============================] - 935s 340ms/step - loss: 3.9478 - accuracy: 0.5255 - recall: 0.3099 - val_loss: 4.8848 - val_accuracy: 0.4567 - val_recall: 0.2813\n",
      "Epoch 14/120\n",
      "2750/2750 [==============================] - ETA: 0s - loss: 3.7752 - accuracy: 0.5506 - recall: 0.3427\n",
      "Epoch 14: saving model to C:/Users/15972/OneDrive/桌面/FYP/Model/bert/ckpt\\cp.ckpt\n",
      "2750/2750 [==============================] - 934s 339ms/step - loss: 3.7752 - accuracy: 0.5506 - recall: 0.3427 - val_loss: 4.9034 - val_accuracy: 0.4632 - val_recall: 0.2746\n",
      "Epoch 15/120\n",
      "2750/2750 [==============================] - ETA: 0s - loss: 3.5915 - accuracy: 0.5797 - recall: 0.3718\n",
      "Epoch 15: saving model to C:/Users/15972/OneDrive/桌面/FYP/Model/bert/ckpt\\cp.ckpt\n",
      "2750/2750 [==============================] - 971s 353ms/step - loss: 3.5915 - accuracy: 0.5797 - recall: 0.3718 - val_loss: 5.0926 - val_accuracy: 0.4642 - val_recall: 0.3230\n",
      "Epoch 16/120\n",
      "2750/2750 [==============================] - ETA: 0s - loss: 3.3877 - accuracy: 0.6045 - recall: 0.4090\n",
      "Epoch 16: saving model to C:/Users/15972/OneDrive/桌面/FYP/Model/bert/ckpt\\cp.ckpt\n",
      "2750/2750 [==============================] - 977s 355ms/step - loss: 3.3877 - accuracy: 0.6045 - recall: 0.4090 - val_loss: 4.9402 - val_accuracy: 0.4707 - val_recall: 0.3062\n",
      "Epoch 17/120\n",
      "2750/2750 [==============================] - ETA: 0s - loss: 3.2253 - accuracy: 0.6292 - recall: 0.4420\n",
      "Epoch 17: saving model to C:/Users/15972/OneDrive/桌面/FYP/Model/bert/ckpt\\cp.ckpt\n",
      "2750/2750 [==============================] - 976s 355ms/step - loss: 3.2253 - accuracy: 0.6292 - recall: 0.4420 - val_loss: 5.0076 - val_accuracy: 0.4694 - val_recall: 0.3260\n",
      "Epoch 18/120\n",
      "2750/2750 [==============================] - ETA: 0s - loss: 3.0212 - accuracy: 0.6560 - recall: 0.4829\n",
      "Epoch 18: saving model to C:/Users/15972/OneDrive/桌面/FYP/Model/bert/ckpt\\cp.ckpt\n",
      "2750/2750 [==============================] - 912s 332ms/step - loss: 3.0212 - accuracy: 0.6560 - recall: 0.4829 - val_loss: 5.0357 - val_accuracy: 0.4763 - val_recall: 0.3366\n",
      "Epoch 19/120\n",
      "2750/2750 [==============================] - ETA: 0s - loss: 2.8084 - accuracy: 0.6804 - recall: 0.5196\n",
      "Epoch 19: saving model to C:/Users/15972/OneDrive/桌面/FYP/Model/bert/ckpt\\cp.ckpt\n",
      "2750/2750 [==============================] - 906s 329ms/step - loss: 2.8084 - accuracy: 0.6804 - recall: 0.5196 - val_loss: 5.1551 - val_accuracy: 0.4843 - val_recall: 0.3505\n",
      "Epoch 20/120\n",
      "2750/2750 [==============================] - ETA: 0s - loss: 2.6586 - accuracy: 0.7003 - recall: 0.5529\n",
      "Epoch 20: saving model to C:/Users/15972/OneDrive/桌面/FYP/Model/bert/ckpt\\cp.ckpt\n",
      "2750/2750 [==============================] - 907s 330ms/step - loss: 2.6586 - accuracy: 0.7003 - recall: 0.5529 - val_loss: 5.1578 - val_accuracy: 0.4951 - val_recall: 0.3762\n",
      "Epoch 21/120\n",
      "2750/2750 [==============================] - ETA: 0s - loss: 2.4772 - accuracy: 0.7219 - recall: 0.5865\n",
      "Epoch 21: saving model to C:/Users/15972/OneDrive/桌面/FYP/Model/bert/ckpt\\cp.ckpt\n",
      "2750/2750 [==============================] - 908s 330ms/step - loss: 2.4772 - accuracy: 0.7219 - recall: 0.5865 - val_loss: 5.2049 - val_accuracy: 0.4915 - val_recall: 0.3826\n",
      "Epoch 22/120\n",
      "2750/2750 [==============================] - ETA: 0s - loss: 2.3488 - accuracy: 0.7358 - recall: 0.6078\n",
      "Epoch 22: saving model to C:/Users/15972/OneDrive/桌面/FYP/Model/bert/ckpt\\cp.ckpt\n",
      "2750/2750 [==============================] - 906s 329ms/step - loss: 2.3488 - accuracy: 0.7358 - recall: 0.6078 - val_loss: 5.2382 - val_accuracy: 0.5010 - val_recall: 0.3853\n"
     ]
    },
    {
     "name": "stdout",
     "output_type": "stream",
     "text": [
      "Epoch 23/120\n",
      "2750/2750 [==============================] - ETA: 0s - loss: 2.2460 - accuracy: 0.7457 - recall: 0.6245\n",
      "Epoch 23: saving model to C:/Users/15972/OneDrive/桌面/FYP/Model/bert/ckpt\\cp.ckpt\n",
      "2750/2750 [==============================] - 907s 330ms/step - loss: 2.2460 - accuracy: 0.7457 - recall: 0.6245 - val_loss: 5.2652 - val_accuracy: 0.5019 - val_recall: 0.3970\n",
      "Epoch 24/120\n",
      "2750/2750 [==============================] - ETA: 0s - loss: 2.0897 - accuracy: 0.7676 - recall: 0.6579\n",
      "Epoch 24: saving model to C:/Users/15972/OneDrive/桌面/FYP/Model/bert/ckpt\\cp.ckpt\n",
      "2750/2750 [==============================] - 907s 330ms/step - loss: 2.0897 - accuracy: 0.7676 - recall: 0.6579 - val_loss: 5.3533 - val_accuracy: 0.5066 - val_recall: 0.4126\n",
      "Epoch 25/120\n",
      "2750/2750 [==============================] - ETA: 0s - loss: 2.0287 - accuracy: 0.7719 - recall: 0.6617\n",
      "Epoch 25: saving model to C:/Users/15972/OneDrive/桌面/FYP/Model/bert/ckpt\\cp.ckpt\n",
      "2750/2750 [==============================] - 906s 329ms/step - loss: 2.0287 - accuracy: 0.7719 - recall: 0.6617 - val_loss: 5.2108 - val_accuracy: 0.5034 - val_recall: 0.4143\n",
      "Epoch 26/120\n",
      "2750/2750 [==============================] - ETA: 0s - loss: 1.9177 - accuracy: 0.7838 - recall: 0.6792\n",
      "Epoch 26: saving model to C:/Users/15972/OneDrive/桌面/FYP/Model/bert/ckpt\\cp.ckpt\n",
      "2750/2750 [==============================] - 906s 330ms/step - loss: 1.9177 - accuracy: 0.7838 - recall: 0.6792 - val_loss: 5.2677 - val_accuracy: 0.5143 - val_recall: 0.4240\n",
      "Epoch 27/120\n",
      "2750/2750 [==============================] - ETA: 0s - loss: 1.8546 - accuracy: 0.7899 - recall: 0.6876\n",
      "Epoch 27: saving model to C:/Users/15972/OneDrive/桌面/FYP/Model/bert/ckpt\\cp.ckpt\n",
      "2750/2750 [==============================] - 905s 329ms/step - loss: 1.8546 - accuracy: 0.7899 - recall: 0.6876 - val_loss: 5.3053 - val_accuracy: 0.5019 - val_recall: 0.4081\n",
      "Epoch 28/120\n",
      "2750/2750 [==============================] - ETA: 0s - loss: 1.8032 - accuracy: 0.7939 - recall: 0.7003\n",
      "Epoch 28: saving model to C:/Users/15972/OneDrive/桌面/FYP/Model/bert/ckpt\\cp.ckpt\n",
      "2750/2750 [==============================] - 907s 330ms/step - loss: 1.8032 - accuracy: 0.7939 - recall: 0.7003 - val_loss: 5.3250 - val_accuracy: 0.5169 - val_recall: 0.4318\n",
      "Epoch 29/120\n",
      "2750/2750 [==============================] - ETA: 0s - loss: 1.7485 - accuracy: 0.8027 - recall: 0.7030\n",
      "Epoch 29: saving model to C:/Users/15972/OneDrive/桌面/FYP/Model/bert/ckpt\\cp.ckpt\n",
      "2750/2750 [==============================] - 909s 331ms/step - loss: 1.7485 - accuracy: 0.8027 - recall: 0.7030 - val_loss: 5.1767 - val_accuracy: 0.5300 - val_recall: 0.4508\n",
      "Epoch 30/120\n",
      "2750/2750 [==============================] - ETA: 0s - loss: 1.6917 - accuracy: 0.8042 - recall: 0.7031\n",
      "Epoch 30: saving model to C:/Users/15972/OneDrive/桌面/FYP/Model/bert/ckpt\\cp.ckpt\n",
      "2750/2750 [==============================] - 916s 333ms/step - loss: 1.6917 - accuracy: 0.8042 - recall: 0.7031 - val_loss: 5.1501 - val_accuracy: 0.5279 - val_recall: 0.4396\n",
      "Epoch 31/120\n",
      "2750/2750 [==============================] - ETA: 0s - loss: 1.6832 - accuracy: 0.8043 - recall: 0.7054\n",
      "Epoch 31: saving model to C:/Users/15972/OneDrive/桌面/FYP/Model/bert/ckpt\\cp.ckpt\n",
      "2750/2750 [==============================] - 897s 326ms/step - loss: 1.6832 - accuracy: 0.8043 - recall: 0.7054 - val_loss: 5.1307 - val_accuracy: 0.5371 - val_recall: 0.4540\n",
      "Epoch 32/120\n",
      "2750/2750 [==============================] - ETA: 0s - loss: 1.6572 - accuracy: 0.8078 - recall: 0.7029\n",
      "Epoch 32: saving model to C:/Users/15972/OneDrive/桌面/FYP/Model/bert/ckpt\\cp.ckpt\n",
      "2750/2750 [==============================] - 894s 325ms/step - loss: 1.6572 - accuracy: 0.8078 - recall: 0.7029 - val_loss: 5.1354 - val_accuracy: 0.5356 - val_recall: 0.4425\n",
      "Epoch 33/120\n",
      "2750/2750 [==============================] - ETA: 0s - loss: 1.6103 - accuracy: 0.8038 - recall: 0.7018\n",
      "Epoch 33: saving model to C:/Users/15972/OneDrive/桌面/FYP/Model/bert/ckpt\\cp.ckpt\n",
      "2750/2750 [==============================] - 893s 325ms/step - loss: 1.6103 - accuracy: 0.8038 - recall: 0.7018 - val_loss: 5.1946 - val_accuracy: 0.5411 - val_recall: 0.4415\n",
      "Epoch 34/120\n",
      "2750/2750 [==============================] - ETA: 0s - loss: 1.5685 - accuracy: 0.8073 - recall: 0.7041\n",
      "Epoch 34: saving model to C:/Users/15972/OneDrive/桌面/FYP/Model/bert/ckpt\\cp.ckpt\n",
      "2750/2750 [==============================] - 894s 325ms/step - loss: 1.5685 - accuracy: 0.8073 - recall: 0.7041 - val_loss: 5.1650 - val_accuracy: 0.5381 - val_recall: 0.4474\n",
      "Epoch 35/120\n",
      "2750/2750 [==============================] - ETA: 0s - loss: 1.5664 - accuracy: 0.8094 - recall: 0.7065\n",
      "Epoch 35: saving model to C:/Users/15972/OneDrive/桌面/FYP/Model/bert/ckpt\\cp.ckpt\n",
      "2750/2750 [==============================] - 892s 325ms/step - loss: 1.5664 - accuracy: 0.8094 - recall: 0.7065 - val_loss: 5.1445 - val_accuracy: 0.5544 - val_recall: 0.4540\n",
      "Epoch 36/120\n",
      "2750/2750 [==============================] - ETA: 0s - loss: 1.5536 - accuracy: 0.8095 - recall: 0.7008\n",
      "Epoch 36: saving model to C:/Users/15972/OneDrive/桌面/FYP/Model/bert/ckpt\\cp.ckpt\n",
      "2750/2750 [==============================] - 893s 325ms/step - loss: 1.5536 - accuracy: 0.8095 - recall: 0.7008 - val_loss: 5.2026 - val_accuracy: 0.5363 - val_recall: 0.4359\n",
      "Epoch 37/120\n",
      "2750/2750 [==============================] - ETA: 0s - loss: 1.5435 - accuracy: 0.8023 - recall: 0.6907\n",
      "Epoch 37: saving model to C:/Users/15972/OneDrive/桌面/FYP/Model/bert/ckpt\\cp.ckpt\n",
      "2750/2750 [==============================] - 892s 324ms/step - loss: 1.5435 - accuracy: 0.8023 - recall: 0.6907 - val_loss: 5.2472 - val_accuracy: 0.5386 - val_recall: 0.4368\n",
      "Epoch 38/120\n",
      "2750/2750 [==============================] - ETA: 0s - loss: 1.5210 - accuracy: 0.8031 - recall: 0.6983\n",
      "Epoch 38: saving model to C:/Users/15972/OneDrive/桌面/FYP/Model/bert/ckpt\\cp.ckpt\n",
      "2750/2750 [==============================] - 893s 325ms/step - loss: 1.5210 - accuracy: 0.8031 - recall: 0.6983 - val_loss: 5.5945 - val_accuracy: 0.5361 - val_recall: 0.4417\n",
      "Epoch 39/120\n",
      "2750/2750 [==============================] - ETA: 0s - loss: 1.5216 - accuracy: 0.8015 - recall: 0.6903\n",
      "Epoch 39: saving model to C:/Users/15972/OneDrive/桌面/FYP/Model/bert/ckpt\\cp.ckpt\n",
      "2750/2750 [==============================] - 893s 325ms/step - loss: 1.5216 - accuracy: 0.8015 - recall: 0.6903 - val_loss: 5.2591 - val_accuracy: 0.5351 - val_recall: 0.4336\n",
      "Epoch 40/120\n",
      "2750/2750 [==============================] - ETA: 0s - loss: 1.5222 - accuracy: 0.7980 - recall: 0.6875\n",
      "Epoch 40: saving model to C:/Users/15972/OneDrive/桌面/FYP/Model/bert/ckpt\\cp.ckpt\n",
      "2750/2750 [==============================] - 894s 325ms/step - loss: 1.5222 - accuracy: 0.7980 - recall: 0.6875 - val_loss: 5.2229 - val_accuracy: 0.5437 - val_recall: 0.4338\n",
      "Epoch 41/120\n",
      "2750/2750 [==============================] - ETA: 0s - loss: 1.4606 - accuracy: 0.8029 - recall: 0.6895\n",
      "Epoch 41: saving model to C:/Users/15972/OneDrive/桌面/FYP/Model/bert/ckpt\\cp.ckpt\n",
      "2750/2750 [==============================] - 896s 326ms/step - loss: 1.4606 - accuracy: 0.8029 - recall: 0.6895 - val_loss: 5.2817 - val_accuracy: 0.5251 - val_recall: 0.3955\n",
      "Epoch 42/120\n",
      "2750/2750 [==============================] - ETA: 0s - loss: 1.4126 - accuracy: 0.8083 - recall: 0.6894\n",
      "Epoch 42: saving model to C:/Users/15972/OneDrive/桌面/FYP/Model/bert/ckpt\\cp.ckpt\n",
      "2750/2750 [==============================] - 897s 326ms/step - loss: 1.4126 - accuracy: 0.8083 - recall: 0.6894 - val_loss: 5.1015 - val_accuracy: 0.5401 - val_recall: 0.4044\n",
      "Epoch 43/120\n",
      "2750/2750 [==============================] - ETA: 0s - loss: 1.4153 - accuracy: 0.8076 - recall: 0.6920\n",
      "Epoch 43: saving model to C:/Users/15972/OneDrive/桌面/FYP/Model/bert/ckpt\\cp.ckpt\n",
      "2750/2750 [==============================] - 897s 326ms/step - loss: 1.4153 - accuracy: 0.8076 - recall: 0.6920 - val_loss: 5.0641 - val_accuracy: 0.5609 - val_recall: 0.4542\n",
      "Epoch 44/120\n",
      "2750/2750 [==============================] - ETA: 0s - loss: 1.4049 - accuracy: 0.8051 - recall: 0.6888\n",
      "Epoch 44: saving model to C:/Users/15972/OneDrive/桌面/FYP/Model/bert/ckpt\\cp.ckpt\n",
      "2750/2750 [==============================] - 897s 326ms/step - loss: 1.4049 - accuracy: 0.8051 - recall: 0.6888 - val_loss: 5.2058 - val_accuracy: 0.5469 - val_recall: 0.4345\n"
     ]
    },
    {
     "name": "stdout",
     "output_type": "stream",
     "text": [
      "Epoch 45/120\n",
      "2750/2750 [==============================] - ETA: 0s - loss: 1.4936 - accuracy: 0.7904 - recall: 0.6771\n",
      "Epoch 45: saving model to C:/Users/15972/OneDrive/桌面/FYP/Model/bert/ckpt\\cp.ckpt\n",
      "2750/2750 [==============================] - 897s 326ms/step - loss: 1.4936 - accuracy: 0.7904 - recall: 0.6771 - val_loss: 5.2239 - val_accuracy: 0.5555 - val_recall: 0.4666\n",
      "Epoch 46/120\n",
      "2750/2750 [==============================] - ETA: 0s - loss: 1.3941 - accuracy: 0.8039 - recall: 0.6836\n",
      "Epoch 46: saving model to C:/Users/15972/OneDrive/桌面/FYP/Model/bert/ckpt\\cp.ckpt\n",
      "2750/2750 [==============================] - 898s 327ms/step - loss: 1.3941 - accuracy: 0.8039 - recall: 0.6836 - val_loss: 5.1721 - val_accuracy: 0.5512 - val_recall: 0.4296\n",
      "Epoch 47/120\n",
      "2750/2750 [==============================] - ETA: 0s - loss: 1.3356 - accuracy: 0.8028 - recall: 0.6868\n",
      "Epoch 47: saving model to C:/Users/15972/OneDrive/桌面/FYP/Model/bert/ckpt\\cp.ckpt\n",
      "2750/2750 [==============================] - 898s 327ms/step - loss: 1.3356 - accuracy: 0.8028 - recall: 0.6868 - val_loss: 5.1353 - val_accuracy: 0.5481 - val_recall: 0.4254\n",
      "Epoch 48/120\n",
      "2750/2750 [==============================] - ETA: 0s - loss: 1.3466 - accuracy: 0.8037 - recall: 0.6852\n",
      "Epoch 48: saving model to C:/Users/15972/OneDrive/桌面/FYP/Model/bert/ckpt\\cp.ckpt\n",
      "2750/2750 [==============================] - 903s 328ms/step - loss: 1.3466 - accuracy: 0.8037 - recall: 0.6852 - val_loss: 5.1091 - val_accuracy: 0.5476 - val_recall: 0.4219\n",
      "Epoch 49/120\n",
      "2750/2750 [==============================] - ETA: 0s - loss: 1.3322 - accuracy: 0.8068 - recall: 0.6923\n",
      "Epoch 49: saving model to C:/Users/15972/OneDrive/桌面/FYP/Model/bert/ckpt\\cp.ckpt\n",
      "2750/2750 [==============================] - 923s 336ms/step - loss: 1.3322 - accuracy: 0.8068 - recall: 0.6923 - val_loss: 5.0883 - val_accuracy: 0.5466 - val_recall: 0.4214\n",
      "Epoch 50/120\n",
      "2750/2750 [==============================] - ETA: 0s - loss: 1.3225 - accuracy: 0.8126 - recall: 0.6947\n",
      "Epoch 50: saving model to C:/Users/15972/OneDrive/桌面/FYP/Model/bert/ckpt\\cp.ckpt\n",
      "2750/2750 [==============================] - 911s 331ms/step - loss: 1.3225 - accuracy: 0.8126 - recall: 0.6947 - val_loss: 4.9325 - val_accuracy: 0.5523 - val_recall: 0.4139\n",
      "Epoch 51/120\n",
      "2750/2750 [==============================] - ETA: 0s - loss: 1.3228 - accuracy: 0.8134 - recall: 0.7005\n",
      "Epoch 51: saving model to C:/Users/15972/OneDrive/桌面/FYP/Model/bert/ckpt\\cp.ckpt\n",
      "2750/2750 [==============================] - 916s 333ms/step - loss: 1.3228 - accuracy: 0.8134 - recall: 0.7005 - val_loss: 5.0774 - val_accuracy: 0.5515 - val_recall: 0.4230\n",
      "Epoch 52/120\n",
      "2750/2750 [==============================] - ETA: 0s - loss: 1.2982 - accuracy: 0.8124 - recall: 0.6970\n",
      "Epoch 52: saving model to C:/Users/15972/OneDrive/桌面/FYP/Model/bert/ckpt\\cp.ckpt\n",
      "2750/2750 [==============================] - 915s 333ms/step - loss: 1.2982 - accuracy: 0.8124 - recall: 0.6970 - val_loss: 4.9275 - val_accuracy: 0.5586 - val_recall: 0.4320\n",
      "Epoch 53/120\n",
      "2750/2750 [==============================] - ETA: 0s - loss: 1.2890 - accuracy: 0.8133 - recall: 0.7007\n",
      "Epoch 53: saving model to C:/Users/15972/OneDrive/桌面/FYP/Model/bert/ckpt\\cp.ckpt\n",
      "2750/2750 [==============================] - 943s 343ms/step - loss: 1.2890 - accuracy: 0.8133 - recall: 0.7007 - val_loss: 4.9426 - val_accuracy: 0.5637 - val_recall: 0.4112\n",
      "Epoch 54/120\n",
      "2750/2750 [==============================] - ETA: 0s - loss: 1.2755 - accuracy: 0.8083 - recall: 0.6894\n",
      "Epoch 54: saving model to C:/Users/15972/OneDrive/桌面/FYP/Model/bert/ckpt\\cp.ckpt\n",
      "2750/2750 [==============================] - 957s 348ms/step - loss: 1.2755 - accuracy: 0.8083 - recall: 0.6894 - val_loss: 5.0618 - val_accuracy: 0.5703 - val_recall: 0.4582\n",
      "Epoch 55/120\n",
      "2750/2750 [==============================] - ETA: 0s - loss: 1.2688 - accuracy: 0.8214 - recall: 0.7095\n",
      "Epoch 55: saving model to C:/Users/15972/OneDrive/桌面/FYP/Model/bert/ckpt\\cp.ckpt\n",
      "2750/2750 [==============================] - 1015s 369ms/step - loss: 1.2688 - accuracy: 0.8214 - recall: 0.7095 - val_loss: 5.0689 - val_accuracy: 0.5230 - val_recall: 0.4050\n",
      "Epoch 56/120\n",
      "2750/2750 [==============================] - ETA: 0s - loss: 1.2785 - accuracy: 0.8128 - recall: 0.6977\n",
      "Epoch 56: saving model to C:/Users/15972/OneDrive/桌面/FYP/Model/bert/ckpt\\cp.ckpt\n",
      "2750/2750 [==============================] - 1016s 370ms/step - loss: 1.2785 - accuracy: 0.8128 - recall: 0.6977 - val_loss: 5.0231 - val_accuracy: 0.5606 - val_recall: 0.4620\n",
      "Epoch 57/120\n",
      "2750/2750 [==============================] - ETA: 0s - loss: 1.2650 - accuracy: 0.8111 - recall: 0.6978\n",
      "Epoch 57: saving model to C:/Users/15972/OneDrive/桌面/FYP/Model/bert/ckpt\\cp.ckpt\n",
      "2750/2750 [==============================] - 1011s 368ms/step - loss: 1.2650 - accuracy: 0.8111 - recall: 0.6978 - val_loss: 4.7275 - val_accuracy: 0.5571 - val_recall: 0.3989\n",
      "Epoch 58/120\n",
      "2750/2750 [==============================] - ETA: 0s - loss: 1.2544 - accuracy: 0.8209 - recall: 0.7036\n",
      "Epoch 58: saving model to C:/Users/15972/OneDrive/桌面/FYP/Model/bert/ckpt\\cp.ckpt\n",
      "2750/2750 [==============================] - 1017s 370ms/step - loss: 1.2544 - accuracy: 0.8209 - recall: 0.7036 - val_loss: 4.7791 - val_accuracy: 0.5697 - val_recall: 0.4465\n",
      "Epoch 59/120\n",
      "2750/2750 [==============================] - ETA: 0s - loss: 1.2345 - accuracy: 0.8203 - recall: 0.7049\n",
      "Epoch 59: saving model to C:/Users/15972/OneDrive/桌面/FYP/Model/bert/ckpt\\cp.ckpt\n",
      "2750/2750 [==============================] - 974s 354ms/step - loss: 1.2345 - accuracy: 0.8203 - recall: 0.7049 - val_loss: 4.8496 - val_accuracy: 0.5288 - val_recall: 0.3941\n",
      "Epoch 60/120\n",
      "2750/2750 [==============================] - ETA: 0s - loss: 1.2325 - accuracy: 0.8277 - recall: 0.7138\n",
      "Epoch 60: saving model to C:/Users/15972/OneDrive/桌面/FYP/Model/bert/ckpt\\cp.ckpt\n",
      "2750/2750 [==============================] - 1080s 393ms/step - loss: 1.2325 - accuracy: 0.8277 - recall: 0.7138 - val_loss: 4.8274 - val_accuracy: 0.5626 - val_recall: 0.4342\n",
      "Epoch 61/120\n",
      "2750/2750 [==============================] - ETA: 0s - loss: 1.2378 - accuracy: 0.8175 - recall: 0.7082\n",
      "Epoch 61: saving model to C:/Users/15972/OneDrive/桌面/FYP/Model/bert/ckpt\\cp.ckpt\n",
      "2750/2750 [==============================] - 971s 353ms/step - loss: 1.2378 - accuracy: 0.8175 - recall: 0.7082 - val_loss: 4.7272 - val_accuracy: 0.5499 - val_recall: 0.3996\n",
      "Epoch 62/120\n",
      "2750/2750 [==============================] - ETA: 0s - loss: 1.2167 - accuracy: 0.8225 - recall: 0.7088"
     ]
    }
   ],
   "source": [
    "print(f'Training model with {tfhub_handle_encoder}')\n",
    "print(f'Training model with {tfhub_handle_encoder}')\n",
    "history = classifier_model.fit(x=x_train,\n",
    "                               y=y_train,\n",
    "                               validation_data=(x_val,y_val),\n",
    "                               epochs=120,\n",
    "                               batch_size=8,\n",
    "                               callbacks=[cp_callback,csv_callback])"
   ]
  },
  {
   "cell_type": "markdown",
   "id": "a3d19cce",
   "metadata": {
    "pycharm": {
     "name": "#%% md\n"
    }
   },
   "source": [
    "## testing "
   ]
  },
  {
   "cell_type": "code",
   "execution_count": 34,
   "id": "1f2f0716",
   "metadata": {
    "pycharm": {
     "name": "#%%\n"
    }
   },
   "outputs": [
    {
     "name": "stdout",
     "output_type": "stream",
     "text": [
      "1305/1305 [==============================] - 117s 89ms/step - loss: 3.7212 - recall_1: 0.4693\n",
      "Loss: 3.721170425415039\n",
      "Record: 0.4693310260772705\n"
     ]
    }
   ],
   "source": [
    "loss, accuracy = classifier_model.evaluate(x=x_test,y=y_test,batch_size=8)\n",
    "\n",
    "print(f'Loss: {loss}')\n",
    "print(f'Record: {accuracy}')"
   ]
  },
  {
   "cell_type": "markdown",
   "id": "e2f71a62",
   "metadata": {
    "pycharm": {
     "name": "#%% md\n"
    }
   },
   "source": [
    "## confusion matrix"
   ]
  },
  {
   "cell_type": "code",
   "execution_count": 43,
   "id": "f78460a6",
   "metadata": {
    "pycharm": {
     "name": "#%%\n"
    }
   },
   "outputs": [
    {
     "ename": "AttributeError",
     "evalue": "'Functional' object has no attribute 'predict_classes'",
     "output_type": "error",
     "traceback": [
      "\u001B[1;31m---------------------------------------------------------------------------\u001B[0m",
      "\u001B[1;31mAttributeError\u001B[0m                            Traceback (most recent call last)",
      "\u001B[1;32m~\\AppData\\Local\\Temp/ipykernel_13044/3868142748.py\u001B[0m in \u001B[0;36m<module>\u001B[1;34m\u001B[0m\n\u001B[1;32m----> 1\u001B[1;33m \u001B[0my_pred\u001B[0m \u001B[1;33m=\u001B[0m \u001B[0mclassifier_model\u001B[0m\u001B[1;33m.\u001B[0m\u001B[0mpredict_classes\u001B[0m\u001B[1;33m(\u001B[0m\u001B[0mx_test\u001B[0m\u001B[1;33m)\u001B[0m\u001B[1;33m\u001B[0m\u001B[1;33m\u001B[0m\u001B[0m\n\u001B[0m\u001B[0;32m      2\u001B[0m \u001B[0mcon_mat\u001B[0m \u001B[1;33m=\u001B[0m \u001B[0mconfusion_matrix\u001B[0m\u001B[1;33m(\u001B[0m\u001B[0my_test\u001B[0m\u001B[1;33m,\u001B[0m \u001B[0my_pred\u001B[0m\u001B[1;33m)\u001B[0m\u001B[1;33m\u001B[0m\u001B[1;33m\u001B[0m\u001B[0m\n\u001B[0;32m      3\u001B[0m \u001B[0mcon_mat_norm\u001B[0m \u001B[1;33m=\u001B[0m \u001B[0mcon_mat\u001B[0m\u001B[1;33m.\u001B[0m\u001B[0mastype\u001B[0m\u001B[1;33m(\u001B[0m\u001B[1;34m'float'\u001B[0m\u001B[1;33m)\u001B[0m \u001B[1;33m/\u001B[0m \u001B[0mcon_mat\u001B[0m\u001B[1;33m.\u001B[0m\u001B[0msum\u001B[0m\u001B[1;33m(\u001B[0m\u001B[0maxis\u001B[0m\u001B[1;33m=\u001B[0m\u001B[1;36m1\u001B[0m\u001B[1;33m)\u001B[0m\u001B[1;33m[\u001B[0m\u001B[1;33m:\u001B[0m\u001B[1;33m,\u001B[0m \u001B[0mnp\u001B[0m\u001B[1;33m.\u001B[0m\u001B[0mnewaxis\u001B[0m\u001B[1;33m]\u001B[0m     \u001B[1;31m# 归一化\u001B[0m\u001B[1;33m\u001B[0m\u001B[1;33m\u001B[0m\u001B[0m\n\u001B[0;32m      4\u001B[0m \u001B[0mcon_mat_norm\u001B[0m \u001B[1;33m=\u001B[0m \u001B[0mnp\u001B[0m\u001B[1;33m.\u001B[0m\u001B[0maround\u001B[0m\u001B[1;33m(\u001B[0m\u001B[0mcon_mat_norm\u001B[0m\u001B[1;33m,\u001B[0m \u001B[0mdecimals\u001B[0m\u001B[1;33m=\u001B[0m\u001B[1;36m2\u001B[0m\u001B[1;33m)\u001B[0m\u001B[1;33m\u001B[0m\u001B[1;33m\u001B[0m\u001B[0m\n\u001B[0;32m      5\u001B[0m \u001B[0mplt\u001B[0m\u001B[1;33m.\u001B[0m\u001B[0mfigure\u001B[0m\u001B[1;33m(\u001B[0m\u001B[0mfigsize\u001B[0m\u001B[1;33m=\u001B[0m\u001B[1;33m(\u001B[0m\u001B[1;36m8\u001B[0m\u001B[1;33m,\u001B[0m \u001B[1;36m8\u001B[0m\u001B[1;33m)\u001B[0m\u001B[1;33m)\u001B[0m\u001B[1;33m\u001B[0m\u001B[1;33m\u001B[0m\u001B[0m\n",
      "\u001B[1;31mAttributeError\u001B[0m: 'Functional' object has no attribute 'predict_classes'"
     ]
    }
   ],
   "source": [
    "y_pred = classifier_model.predict_classes(x_test)\n",
    "con_mat = confusion_matrix(y_test, y_pred)\n",
    "con_mat_norm = con_mat.astype('float') / con_mat.sum(axis=1)[:, np.newaxis]     # 归一化\n",
    "con_mat_norm = np.around(con_mat_norm, decimals=2)\n",
    "plt.figure(figsize=(8, 8))\n",
    "sns.heatmap(con_mat_norm, annot=True, cmap='Blues')\n",
    "\n",
    "plt.ylim(0, 10)\n",
    "plt.xlabel('Predicted labels')\n",
    "plt.ylabel('True labels')\n",
    "plt.show()"
   ]
  },
  {
   "cell_type": "markdown",
   "id": "c48be731",
   "metadata": {
    "pycharm": {
     "name": "#%% md\n"
    }
   },
   "source": [
    "## visualization"
   ]
  },
  {
   "cell_type": "code",
   "execution_count": 45,
   "id": "54ca7c25",
   "metadata": {
    "pycharm": {
     "name": "#%%\n"
    }
   },
   "outputs": [
    {
     "data": {
      "image/png": "[encoded data removed]",
      "text/plain": [
       "<Figure size 1332x756 with 1 Axes>"
      ]
     },
     "metadata": {},
     "output_type": "display_data"
    }
   ],
   "source": [
    "import seaborn as sns\n",
    "csv_path = 'C:/Users/15972/OneDrive/桌面/FYP/Model/bert/record.csv'\n",
    "records = pd.read_csv(csv_path)\n",
    "sns.set_style(style='whitegrid')\n",
    "labels=['recall_2','loss','val_recall_2','val_loss']\n",
    "plt.plot(records['epoch'],records['recall_2'], label=\"recall_2\",color='r', linewidth=2)\n",
    "plt.plot(records['epoch'],records['loss'], label=\"loss\",color='g', linewidth=2)\n",
    "plt.plot(records['epoch'],records['val_recall_2'], label=\"val_recall_2\",color='b', linewidth=2)\n",
    "plt.plot(records['epoch'],records['val_loss'], label=\"val_loss\",color='c', linewidth=2)\n",
    "plt.legend(labels)\n",
    "fig = plt.gcf()\n",
    "fig.set_size_inches(18.5, 10.5)"
   ]
  },
  {
   "cell_type": "code",
   "execution_count": null,
   "id": "6b130653",
   "metadata": {
    "pycharm": {
     "name": "#%%\n"
    }
   },
   "outputs": [],
   "source": [
    "csv_path = 'C:/Users/15972/OneDrive/桌面/FYP/Model/record_stepSampling_lowLR.csv'\n",
    "records = pd.read_csv(csv_path)\n",
    "sns.set_style(style='whitegrid')\n",
    "labels=['categorical_accuracy','loss','val_categorical_accuracy','val_loss']\n",
    "plt.plot(records['epoch'],records['categorical_accuracy'], label=\"categorical_accuracy\",color='r', linewidth=2)\n",
    "plt.plot(records['epoch'],records['loss'], label=\"loss\",color='g', linewidth=2)\n",
    "plt.plot(records['epoch'],records['val_categorical_accuracy'], label=\"val_categorical_accuracy\",color='b', linewidth=2)\n",
    "plt.plot(records['epoch'],records['val_loss'], label=\"val_loss\",color='c', linewidth=2)\n",
    "plt.legend(labels)\n",
    "fig = plt.gcf()\n",
    "fig.set_size_inches(18.5, 10.5)"
   ]
  }
 ],
 "metadata": {
  "kernelspec": {
   "display_name": "Python 3 (ipykernel)",
   "language": "python",
   "name": "python3"
  },
  "language_info": {
   "codemirror_mode": {
    "name": "ipython",
    "version": 3
   },
   "file_extension": ".py",
   "mimetype": "text/x-python",
   "name": "python",
   "nbconvert_exporter": "python",
   "pygments_lexer": "ipython3",
   "version": "3.9.7"
  }
 },
 "nbformat": 4,
 "nbformat_minor": 5
}